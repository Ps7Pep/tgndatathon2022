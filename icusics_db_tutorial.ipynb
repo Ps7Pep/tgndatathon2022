{
 "cells": [
  {
   "cell_type": "code",
   "execution_count": 2,
   "id": "e08bf6e6-4260-40c5-994b-727e698e01d8",
   "metadata": {},
   "outputs": [],
   "source": [
    "import boto3\n",
    "import pandas as pd\n",
    "from sagemaker import get_execution_role\n",
    "role = get_execution_role()\n",
    "s3 = boto3.resource('s3')"
   ]
  },
  {
   "cell_type": "markdown",
   "id": "be356102-ffdb-4732-81fc-f57f08fd5824",
   "metadata": {},
   "source": [
    "# ICUsICS DB tutorial"
   ]
  },
  {
   "cell_type": "markdown",
   "id": "2eb70f7c-57da-4ae9-abec-18c7cf3b1086",
   "metadata": {},
   "source": [
    "ICUsICS is an anonymized database built from the data stored into the Clinical Information System (CIS) database of 6 Intensive Care Units (ICUs) from the Catalan Institute of Health (ICS). Actually, it is a database of databases, because each ICU belongs to a different hospital and each CIS presents its own particularities. However, the tables architecture of each database is identical between hospitals, which facilitates data search and extraction.\n",
    "\n",
    "ICUsICS is not hosted as a database 'per se', but as a directory of folders (tables) with csv files inside (registries). Inside icuics-db, there are 6 folders, 1 for each hospital, and inside them there are 10 folders:  \n",
    "\n",
    "patients: it contains patient-level info (id, hospital, demografics and admission and discharge time and wards)  \n",
    "diagnoses: table with the diagnoses  \n",
    "insertions: table with the insertions  \n",
    "variables_ref: it contains info of the variables present in the database (id, hospital, name, type). Key info: vartype 1, 2, 4 and 8 mean v_monitored, v_labres, v_observed and v_derived respectivelly (the table where the variable is stored). Key info: datatype 0, 1 and 2 mean numeric, categoric and checkbox respectivelly.  \n",
    "v_monitored: table with registries for vartype 1 variables  \n",
    "v_labres: table with registries for vartype 2 variables  \n",
    "v_observed: table with registries for vartype 4 variables  \n",
    "v_derived: table with registries for vartype 8 variables  \n",
    "drugs_ref: it contains info of the drugs present in the database (id, hospital, name, formunit, unit, etc.)  \n",
    "drugs: table with registries for drugs "
   ]
  },
  {
   "cell_type": "markdown",
   "id": "92857be8-4536-4ec9-93b1-6dc8bf922078",
   "metadata": {},
   "source": [
    "### Checking K=5 anonymization"
   ]
  },
  {
   "cell_type": "code",
   "execution_count": null,
   "id": "14c5e5e4-fc87-4cfc-80b6-e1fc78cbd05e",
   "metadata": {},
   "outputs": [],
   "source": [
    "patients = pd.read_csv(f's3://{db}/{h}_db/patients/{h}_patients_ref.csv')"
   ]
  },
  {
   "cell_type": "code",
   "execution_count": 52,
   "id": "e10d8019-ab99-456c-b89c-b3a54e9c4f56",
   "metadata": {},
   "outputs": [
    {
     "data": {
      "text/plain": [
       "5"
      ]
     },
     "execution_count": 52,
     "metadata": {},
     "output_type": "execute_result"
    }
   ],
   "source": [
    "patients.groupby(['patientsex','age','height','weight','hospital_outcome'], as_index=False).agg({'a_patientid':'nunique'})['a_patientid'].min()"
   ]
  },
  {
   "cell_type": "markdown",
   "id": "e2b7417b-81f9-421f-a251-f18342a5d504",
   "metadata": {},
   "source": [
    "### Example: Creating a cohort of patients with:  \n",
    "1- ICU_LOS > 7 days  \n",
    "2- Primary diagnose of pneumonia (any type) and secondary diagnose of myopathy (any type)  \n",
    "3- Central Venous Cateter (CVC)  \n",
    "4- Invasive Mechanical Ventilation (IMV)  \n",
    "5- APACHE2 > 20  \n",
    "6- Lactate (arterial) > 2mmol/L at first ICU day  \n",
    "7- Respiratory Rate (RR) > 20   \n",
    "9- Sedative Drugs (VAD)  "
   ]
  },
  {
   "cell_type": "markdown",
   "id": "bc7e293b-0340-4ae3-935e-b30473906719",
   "metadata": {},
   "source": [
    "patients: it contains patient-level info (id, hospital, demografics and admission and discharge time and wards)  \n",
    "diagnoses: table with the diagnoses  \n",
    "insertions: table with the insertions  \n",
    "variables_ref: it contains info of the variables present in the database (id, hospital, name, type). Key info: vartype 1, 2, 4 and 8 mean v_monitored, v_labres, v_observed and v_derived respectivelly (the table where the variable is stored). Key info: datatype 0, 1 and 2 mean numeric, categoric and checkbox respectivelly.  \n",
    "v_monitored: table with registries for vartype 1 variables  \n",
    "v_labres: table with registries for vartype 2 variables  \n",
    "v_observed: table with registries for vartype 4 variables  \n",
    "v_derived: table with registries for vartype 8 variables  \n",
    "drugs_ref: it contains info of the drugs present in the database (id, hospital, name, formunit, unit, etc.)  \n",
    "drugs: table with registries for drugs "
   ]
  },
  {
   "cell_type": "markdown",
   "id": "41813d09-000f-41ce-8894-1b82ba382864",
   "metadata": {},
   "source": [
    "### Set database and hospital"
   ]
  },
  {
   "cell_type": "code",
   "execution_count": 3,
   "id": "c4f584e7-6d91-48b8-bbb4-f0c0386c057e",
   "metadata": {},
   "outputs": [],
   "source": [
    "db='icusics-db-demo'\n",
    "h='h3'"
   ]
  },
  {
   "cell_type": "markdown",
   "id": "a573dc12-1f6f-47e3-8b66-f06804efb9f5",
   "metadata": {},
   "source": [
    "### Get ICU-LOS filter in patients table"
   ]
  },
  {
   "cell_type": "code",
   "execution_count": 4,
   "id": "5c0b342e-e08f-4ad3-968d-a1937f4af15b",
   "metadata": {},
   "outputs": [],
   "source": [
    "patients = pd.read_csv(f's3://{db}/{h}_db/patients/{h}_patients_ref.csv')"
   ]
  },
  {
   "cell_type": "code",
   "execution_count": 5,
   "id": "5fc509de-e167-4283-b0eb-43573f70094f",
   "metadata": {},
   "outputs": [
    {
     "data": {
      "text/html": [
       "<div>\n",
       "<style scoped>\n",
       "    .dataframe tbody tr th:only-of-type {\n",
       "        vertical-align: middle;\n",
       "    }\n",
       "\n",
       "    .dataframe tbody tr th {\n",
       "        vertical-align: top;\n",
       "    }\n",
       "\n",
       "    .dataframe thead th {\n",
       "        text-align: right;\n",
       "    }\n",
       "</style>\n",
       "<table border=\"1\" class=\"dataframe\">\n",
       "  <thead>\n",
       "    <tr style=\"text-align: right;\">\n",
       "      <th></th>\n",
       "      <th>a_patientid</th>\n",
       "      <th>hospital_coded</th>\n",
       "      <th>patientsex</th>\n",
       "      <th>age</th>\n",
       "      <th>height</th>\n",
       "      <th>weight</th>\n",
       "      <th>bmi</th>\n",
       "      <th>hospadmtime</th>\n",
       "      <th>admwardname</th>\n",
       "      <th>distime</th>\n",
       "      <th>diswardname</th>\n",
       "      <th>hospdistime</th>\n",
       "      <th>hospital_outcome</th>\n",
       "    </tr>\n",
       "  </thead>\n",
       "  <tbody>\n",
       "    <tr>\n",
       "      <th>0</th>\n",
       "      <td>3861270</td>\n",
       "      <td>3</td>\n",
       "      <td>M</td>\n",
       "      <td>70</td>\n",
       "      <td>160</td>\n",
       "      <td>80</td>\n",
       "      <td>31</td>\n",
       "      <td>-683</td>\n",
       "      <td>UCI GENERAL</td>\n",
       "      <td>14722</td>\n",
       "      <td>UCI GENERAL</td>\n",
       "      <td>34887</td>\n",
       "      <td>ALIVE</td>\n",
       "    </tr>\n",
       "  </tbody>\n",
       "</table>\n",
       "</div>"
      ],
      "text/plain": [
       "   a_patientid  hospital_coded patientsex  age  height  weight  bmi  \\\n",
       "0      3861270               3          M   70     160      80   31   \n",
       "\n",
       "   hospadmtime  admwardname  distime  diswardname  hospdistime  \\\n",
       "0         -683  UCI GENERAL    14722  UCI GENERAL        34887   \n",
       "\n",
       "  hospital_outcome  \n",
       "0            ALIVE  "
      ]
     },
     "execution_count": 5,
     "metadata": {},
     "output_type": "execute_result"
    }
   ],
   "source": [
    "patients.head(1)"
   ]
  },
  {
   "cell_type": "code",
   "execution_count": 6,
   "id": "a35f1cd1-5fdc-40e1-a438-204f44112207",
   "metadata": {},
   "outputs": [],
   "source": [
    "los7d = patients[patients['distime']>10080] # 7 days = 10080 minutes"
   ]
  },
  {
   "cell_type": "markdown",
   "id": "32c4760b-7ba3-4767-8f87-1ed765d42f93",
   "metadata": {},
   "source": [
    "### Get diagnoses filter in diagnoses table"
   ]
  },
  {
   "cell_type": "code",
   "execution_count": 7,
   "id": "ad3d34d5-8935-4f43-8515-cc676c962dae",
   "metadata": {},
   "outputs": [],
   "source": [
    "diags = pd.read_csv(f's3://{db}/{h}_db/diagnoses/{h}_diagnoses.csv')"
   ]
  },
  {
   "cell_type": "code",
   "execution_count": 8,
   "id": "df23a352-8b7a-46ac-b416-9ddfb607d275",
   "metadata": {},
   "outputs": [
    {
     "data": {
      "text/html": [
       "<div>\n",
       "<style scoped>\n",
       "    .dataframe tbody tr th:only-of-type {\n",
       "        vertical-align: middle;\n",
       "    }\n",
       "\n",
       "    .dataframe tbody tr th {\n",
       "        vertical-align: top;\n",
       "    }\n",
       "\n",
       "    .dataframe thead th {\n",
       "        text-align: right;\n",
       "    }\n",
       "</style>\n",
       "<table border=\"1\" class=\"dataframe\">\n",
       "  <thead>\n",
       "    <tr style=\"text-align: right;\">\n",
       "      <th></th>\n",
       "      <th>a_patientid</th>\n",
       "      <th>hospital_coded</th>\n",
       "      <th>diag_type</th>\n",
       "      <th>referencecode</th>\n",
       "      <th>referencecodename</th>\n",
       "    </tr>\n",
       "  </thead>\n",
       "  <tbody>\n",
       "    <tr>\n",
       "      <th>0</th>\n",
       "      <td>3070757</td>\n",
       "      <td>3</td>\n",
       "      <td>secondary</td>\n",
       "      <td>976.0/2</td>\n",
       "      <td>farmacs antiinfecciosos i antiinflamatoris lo...</td>\n",
       "    </tr>\n",
       "  </tbody>\n",
       "</table>\n",
       "</div>"
      ],
      "text/plain": [
       "   a_patientid  hospital_coded  diag_type referencecode  \\\n",
       "0      3070757               3  secondary       976.0/2   \n",
       "\n",
       "                                   referencecodename  \n",
       "0   farmacs antiinfecciosos i antiinflamatoris lo...  "
      ]
     },
     "execution_count": 8,
     "metadata": {},
     "output_type": "execute_result"
    }
   ],
   "source": [
    "diags.head(1)"
   ]
  },
  {
   "cell_type": "code",
   "execution_count": 9,
   "id": "05525f07-dfc4-4a1a-92cf-39a80e0d7ac9",
   "metadata": {},
   "outputs": [],
   "source": [
    "dp_pneumo_codes = tuple(set(diags[diags['referencecodename'].str.contains('pneum', case=False)]['referencecode']))\n",
    "ds_miopat_codes = tuple(set(diags[diags['referencecodename'].str.contains('miopat', case=False)]['referencecode']))"
   ]
  },
  {
   "cell_type": "code",
   "execution_count": 10,
   "id": "f412fba5-d56d-40c3-a4be-77fa5b49f834",
   "metadata": {},
   "outputs": [],
   "source": [
    "dp_patlist = tuple(set(diags[(diags['diag_type']=='primary') & (diags['referencecode'].isin(dp_pneumo_codes))]['a_patientid']))\n",
    "ds_patlist = tuple(set(diags[(diags['diag_type']=='secondary') & (diags['referencecode'].isin(ds_miopat_codes))]['a_patientid']))\n",
    "d_patlist = list(set(dp_patlist).intersection(ds_patlist))"
   ]
  },
  {
   "cell_type": "code",
   "execution_count": 18,
   "id": "3be7212e-a0e5-4644-b8a1-94216ccb101f",
   "metadata": {},
   "outputs": [],
   "source": [
    "los7d_diags = los7d[los7d['a_patientid'].isin(d_patlist)]"
   ]
  },
  {
   "cell_type": "markdown",
   "id": "8e99ab4d-977f-4b09-8a7e-b2c8f32b3bac",
   "metadata": {},
   "source": [
    "### Get CVC filter in insertions table"
   ]
  },
  {
   "cell_type": "code",
   "execution_count": 17,
   "id": "21529f2c-0542-43cb-bdbc-ea169fbbd709",
   "metadata": {},
   "outputs": [],
   "source": [
    "insertions = pd.read_csv(f's3://{db}/{h}_db/insertions/{h}_insertions.csv')"
   ]
  },
  {
   "cell_type": "code",
   "execution_count": 19,
   "id": "37a126b6-7fec-43cb-a2e5-dabaad004db6",
   "metadata": {},
   "outputs": [
    {
     "data": {
      "text/html": [
       "<div>\n",
       "<style scoped>\n",
       "    .dataframe tbody tr th:only-of-type {\n",
       "        vertical-align: middle;\n",
       "    }\n",
       "\n",
       "    .dataframe tbody tr th {\n",
       "        vertical-align: top;\n",
       "    }\n",
       "\n",
       "    .dataframe thead th {\n",
       "        text-align: right;\n",
       "    }\n",
       "</style>\n",
       "<table border=\"1\" class=\"dataframe\">\n",
       "  <thead>\n",
       "    <tr style=\"text-align: right;\">\n",
       "      <th></th>\n",
       "      <th>a_patientid</th>\n",
       "      <th>a_insertionid</th>\n",
       "      <th>hospital_coded</th>\n",
       "      <th>starttime</th>\n",
       "      <th>endtime</th>\n",
       "      <th>insertionname</th>\n",
       "      <th>insertionplacename</th>\n",
       "    </tr>\n",
       "  </thead>\n",
       "  <tbody>\n",
       "    <tr>\n",
       "      <th>0</th>\n",
       "      <td>3861270</td>\n",
       "      <td>3000000484</td>\n",
       "      <td>3</td>\n",
       "      <td>253</td>\n",
       "      <td>5798</td>\n",
       "      <td>TUB ENDOTRAQUEAL</td>\n",
       "      <td>BOCA</td>\n",
       "    </tr>\n",
       "  </tbody>\n",
       "</table>\n",
       "</div>"
      ],
      "text/plain": [
       "   a_patientid  a_insertionid  hospital_coded  starttime  endtime  \\\n",
       "0      3861270     3000000484               3        253     5798   \n",
       "\n",
       "      insertionname insertionplacename  \n",
       "0  TUB ENDOTRAQUEAL               BOCA  "
      ]
     },
     "execution_count": 19,
     "metadata": {},
     "output_type": "execute_result"
    }
   ],
   "source": [
    "insertions.head(1)"
   ]
  },
  {
   "cell_type": "code",
   "execution_count": 24,
   "id": "2de67614-347a-4498-a7b3-ae8489e52b1e",
   "metadata": {},
   "outputs": [],
   "source": [
    "cvc_patlist = tuple(set(insertions[insertions['insertionname'].str.contains('central', case=False)]['a_patientid']))"
   ]
  },
  {
   "cell_type": "code",
   "execution_count": 46,
   "id": "3bad9ccf-2a38-4730-8f49-4efec667ec19",
   "metadata": {},
   "outputs": [],
   "source": [
    "los7d_diags_cvc = los7d_diags[los7d_diags['a_patientid'].isin(cvc_patlist)]"
   ]
  },
  {
   "cell_type": "markdown",
   "id": "cb26aac5-38cd-4d67-8419-965e3f15fb86",
   "metadata": {},
   "source": [
    "### Search for IMV, APACHE2, Lactate and TV in variables_ref table"
   ]
  },
  {
   "cell_type": "code",
   "execution_count": 31,
   "id": "6e9aea45-d87a-498a-94ae-6044c6533e63",
   "metadata": {},
   "outputs": [],
   "source": [
    "variables_ref = pd.read_csv(f's3://{db}/{h}_db/variables_ref/{h}_variables_ref.csv')"
   ]
  },
  {
   "cell_type": "code",
   "execution_count": 68,
   "id": "1b47cbbf-057f-4c98-a130-8b4e31bb9ce2",
   "metadata": {},
   "outputs": [
    {
     "data": {
      "text/html": [
       "<div>\n",
       "<style scoped>\n",
       "    .dataframe tbody tr th:only-of-type {\n",
       "        vertical-align: middle;\n",
       "    }\n",
       "\n",
       "    .dataframe tbody tr th {\n",
       "        vertical-align: top;\n",
       "    }\n",
       "\n",
       "    .dataframe thead th {\n",
       "        text-align: right;\n",
       "    }\n",
       "</style>\n",
       "<table border=\"1\" class=\"dataframe\">\n",
       "  <thead>\n",
       "    <tr style=\"text-align: right;\">\n",
       "      <th></th>\n",
       "      <th>a_variableid</th>\n",
       "      <th>hospital_coded</th>\n",
       "      <th>vartype</th>\n",
       "      <th>datatype</th>\n",
       "      <th>name</th>\n",
       "      <th>abbreviation</th>\n",
       "      <th>description</th>\n",
       "      <th>choicecode</th>\n",
       "      <th>choicestringvalue</th>\n",
       "    </tr>\n",
       "  </thead>\n",
       "  <tbody>\n",
       "    <tr>\n",
       "      <th>0</th>\n",
       "      <td>3000000100</td>\n",
       "      <td>3</td>\n",
       "      <td>1</td>\n",
       "      <td>0</td>\n",
       "      <td>PAs</td>\n",
       "      <td>PAs</td>\n",
       "      <td>1.REGISTRE MANUAL contingència</td>\n",
       "      <td>NaN</td>\n",
       "      <td>NaN</td>\n",
       "    </tr>\n",
       "  </tbody>\n",
       "</table>\n",
       "</div>"
      ],
      "text/plain": [
       "   a_variableid  hospital_coded  vartype  datatype name abbreviation  \\\n",
       "0    3000000100               3        1         0  PAs          PAs   \n",
       "\n",
       "                      description  choicecode choicestringvalue  \n",
       "0  1.REGISTRE MANUAL contingència         NaN               NaN  "
      ]
     },
     "execution_count": 68,
     "metadata": {},
     "output_type": "execute_result"
    }
   ],
   "source": [
    "variables_ref.head(1)"
   ]
  },
  {
   "cell_type": "markdown",
   "id": "5ef861d7-7ac9-4f1a-a639-6d845a27992c",
   "metadata": {},
   "source": [
    "#### Search for IMV:"
   ]
  },
  {
   "cell_type": "code",
   "execution_count": 36,
   "id": "4f670d99-1b8b-45fa-ae99-372d2585cf7f",
   "metadata": {},
   "outputs": [
    {
     "name": "stdout",
     "output_type": "stream",
     "text": [
      "(333, 9)\n",
      "To many results, so you decide to ask to the mentors and they say that for that hospital, this feature is a categorical (datatype=1) and observed (vartype=4) feature called 'Teràpia real O2' with the option 'Vent Mecànica'\n"
     ]
    }
   ],
   "source": [
    "# define key characters (remember that strings in this db can be in english, catalan or spanish language) to start a blind search\n",
    "\n",
    "key_chars = 'vent|mec|inv'\n",
    "\n",
    "result = variables_ref[(variables_ref['name'].str.contains(key_chars, case=False, na=False)) | (\n",
    "    variables_ref['description'].str.contains(key_chars, case=False, na=False)) | (\n",
    "    variables_ref['choicestringvalue'].str.contains(key_chars, case=False, na=False))]\n",
    "\n",
    "print(result.shape)\n",
    "\n",
    "print(\"To many results, so you decide to ask to the mentors and they say that for that hospital, this feature is a categorical (datatype=1) and observed (vartype=4) \\\n",
    "feature called 'Teràpia real O2' with the option 'Vent Mecànica'\")"
   ]
  },
  {
   "cell_type": "code",
   "execution_count": 37,
   "id": "cd4dbfab-8861-4e74-b5ad-3ea1904f392b",
   "metadata": {},
   "outputs": [
    {
     "name": "stdout",
     "output_type": "stream",
     "text": [
      "So you finally get your result:\n"
     ]
    },
    {
     "data": {
      "text/html": [
       "<div>\n",
       "<style scoped>\n",
       "    .dataframe tbody tr th:only-of-type {\n",
       "        vertical-align: middle;\n",
       "    }\n",
       "\n",
       "    .dataframe tbody tr th {\n",
       "        vertical-align: top;\n",
       "    }\n",
       "\n",
       "    .dataframe thead th {\n",
       "        text-align: right;\n",
       "    }\n",
       "</style>\n",
       "<table border=\"1\" class=\"dataframe\">\n",
       "  <thead>\n",
       "    <tr style=\"text-align: right;\">\n",
       "      <th></th>\n",
       "      <th>a_variableid</th>\n",
       "      <th>hospital_coded</th>\n",
       "      <th>vartype</th>\n",
       "      <th>datatype</th>\n",
       "      <th>name</th>\n",
       "      <th>abbreviation</th>\n",
       "      <th>description</th>\n",
       "      <th>choicecode</th>\n",
       "      <th>choicestringvalue</th>\n",
       "    </tr>\n",
       "  </thead>\n",
       "  <tbody>\n",
       "    <tr>\n",
       "      <th>1949</th>\n",
       "      <td>3015002262</td>\n",
       "      <td>3</td>\n",
       "      <td>4</td>\n",
       "      <td>1</td>\n",
       "      <td>Teràpia real O2</td>\n",
       "      <td>O2 Teràpia</td>\n",
       "      <td>DI 21.CONTROL RESPIRATORI.\\nVariable utilitzad...</td>\n",
       "      <td>12.0</td>\n",
       "      <td>Vent Mecànica</td>\n",
       "    </tr>\n",
       "  </tbody>\n",
       "</table>\n",
       "</div>"
      ],
      "text/plain": [
       "      a_variableid  hospital_coded  vartype  datatype             name  \\\n",
       "1949    3015002262               3        4         1  Teràpia real O2   \n",
       "\n",
       "     abbreviation                                        description  \\\n",
       "1949   O2 Teràpia  DI 21.CONTROL RESPIRATORI.\\nVariable utilitzad...   \n",
       "\n",
       "      choicecode choicestringvalue  \n",
       "1949        12.0     Vent Mecànica  "
      ]
     },
     "execution_count": 37,
     "metadata": {},
     "output_type": "execute_result"
    }
   ],
   "source": [
    "result2 = result[(result['datatype']==1) & (result['vartype']==4) & (result['name'].str.contains('Teràpia real O2', case=False, na=False)) & (\n",
    "    result['choicestringvalue'].str.contains('Vent Mecànica', case=False, na=False))]\n",
    "\n",
    "print('So you finally get your result:')\n",
    "result2"
   ]
  },
  {
   "cell_type": "markdown",
   "id": "bf84a3fc-2004-4b61-86ee-3471e2c70746",
   "metadata": {},
   "source": [
    "#### Get patients with IMV registries for those who have accomplished with the inclusion criteria"
   ]
  },
  {
   "cell_type": "code",
   "execution_count": 69,
   "id": "402a0396-d65a-4f9b-9053-40e88b65e286",
   "metadata": {},
   "outputs": [],
   "source": [
    "# take a look to the table structure using the first chunk of the table:\n",
    "\n",
    "v_observed_chunk = pd.read_csv(f's3://{db}/{h}_db/v_observed/{h}_observed001.csv')"
   ]
  },
  {
   "cell_type": "code",
   "execution_count": 70,
   "id": "2eb61eea-3dc2-42b1-936f-0d5687c17ca5",
   "metadata": {},
   "outputs": [
    {
     "data": {
      "text/html": [
       "<div>\n",
       "<style scoped>\n",
       "    .dataframe tbody tr th:only-of-type {\n",
       "        vertical-align: middle;\n",
       "    }\n",
       "\n",
       "    .dataframe tbody tr th {\n",
       "        vertical-align: top;\n",
       "    }\n",
       "\n",
       "    .dataframe thead th {\n",
       "        text-align: right;\n",
       "    }\n",
       "</style>\n",
       "<table border=\"1\" class=\"dataframe\">\n",
       "  <thead>\n",
       "    <tr style=\"text-align: right;\">\n",
       "      <th></th>\n",
       "      <th>a_patientid</th>\n",
       "      <th>a_variableid</th>\n",
       "      <th>time</th>\n",
       "      <th>value</th>\n",
       "    </tr>\n",
       "  </thead>\n",
       "  <tbody>\n",
       "    <tr>\n",
       "      <th>0</th>\n",
       "      <td>3961761</td>\n",
       "      <td>3010000100</td>\n",
       "      <td>1167</td>\n",
       "      <td>1.0</td>\n",
       "    </tr>\n",
       "  </tbody>\n",
       "</table>\n",
       "</div>"
      ],
      "text/plain": [
       "   a_patientid  a_variableid  time  value\n",
       "0      3961761    3010000100  1167    1.0"
      ]
     },
     "execution_count": 70,
     "metadata": {},
     "output_type": "execute_result"
    }
   ],
   "source": [
    "v_observed_chunk.head(1)"
   ]
  },
  {
   "cell_type": "code",
   "execution_count": 42,
   "id": "d90897b7-88d9-4825-afc8-9d6b0a2ca80b",
   "metadata": {},
   "outputs": [
    {
     "name": "stdout",
     "output_type": "stream",
     "text": [
      "CPU times: user 14.9 s, sys: 1.56 s, total: 16.5 s\n",
      "Wall time: 43.8 s\n"
     ]
    }
   ],
   "source": [
    "%%time\n",
    "\n",
    "bucket = s3.Bucket('icusics-db-demo')\n",
    "imv_patlist = tuple()\n",
    "\n",
    "for my_bucket_object in bucket.objects.all():\n",
    "    \n",
    "    if all(x in my_bucket_object.key for x in ['h3', 'v_observed']):\n",
    "            \n",
    "        chunk = pd.read_csv(f's3://{db}/{my_bucket_object.key}')\n",
    "        imv_patlist_chunk = tuple(set(chunk[(chunk['a_variableid']==3015002262) & (chunk['value']==12) & (\n",
    "            chunk['a_patientid'].isin(tuple(set(los7d_diags_cvc['a_patientid']))))]['a_patientid']))\n",
    "        imv_patlist = imv_patlist + imv_patlist_chunk"
   ]
  },
  {
   "cell_type": "code",
   "execution_count": 48,
   "id": "2d277e41-9922-4a15-90b2-90a377f0151b",
   "metadata": {},
   "outputs": [],
   "source": [
    "los7d_diags_cvc_imv = los7d_diags_cvc[los7d_diags_cvc['a_patientid'].isin(imv_patlist)]"
   ]
  },
  {
   "cell_type": "markdown",
   "id": "0cefc4c6-87db-4299-bf8b-a6e33e06af19",
   "metadata": {},
   "source": [
    "#### Search for APACHE2:"
   ]
  },
  {
   "cell_type": "code",
   "execution_count": 56,
   "id": "29fa7559-1be4-436c-a645-f8c17eedd660",
   "metadata": {},
   "outputs": [
    {
     "name": "stdout",
     "output_type": "stream",
     "text": [
      "(62, 9)\n",
      "To many results, so you decide to ask to the mentors and they say that for that hospital, this feature is a numeric (datatype=0) and derived (vartype=8) feature called 'APACHE 2 validado'\n"
     ]
    }
   ],
   "source": [
    "# define key characters (remember that strings in this db can be in english, catalan or spanish language) to start a blind search\n",
    "\n",
    "key_chars = 'apache'\n",
    "\n",
    "result = variables_ref[(variables_ref['name'].str.contains(key_chars, case=False, na=False)) | (\n",
    "    variables_ref['description'].str.contains(key_chars, case=False, na=False)) | (\n",
    "    variables_ref['choicestringvalue'].str.contains(key_chars, case=False, na=False))]\n",
    "\n",
    "print(result.shape)\n",
    "\n",
    "print(\"To many results, so you decide to ask to the mentors and they say that for that hospital, this feature is a numeric (datatype=0) and derived (vartype=8) \\\n",
    "feature called 'APACHE 2 validado'\")"
   ]
  },
  {
   "cell_type": "code",
   "execution_count": 55,
   "id": "b10faaa9-3067-42f8-942b-10f67be6b1f6",
   "metadata": {},
   "outputs": [
    {
     "name": "stdout",
     "output_type": "stream",
     "text": [
      "So you finally get your result:\n"
     ]
    },
    {
     "data": {
      "text/html": [
       "<div>\n",
       "<style scoped>\n",
       "    .dataframe tbody tr th:only-of-type {\n",
       "        vertical-align: middle;\n",
       "    }\n",
       "\n",
       "    .dataframe tbody tr th {\n",
       "        vertical-align: top;\n",
       "    }\n",
       "\n",
       "    .dataframe thead th {\n",
       "        text-align: right;\n",
       "    }\n",
       "</style>\n",
       "<table border=\"1\" class=\"dataframe\">\n",
       "  <thead>\n",
       "    <tr style=\"text-align: right;\">\n",
       "      <th></th>\n",
       "      <th>a_variableid</th>\n",
       "      <th>hospital_coded</th>\n",
       "      <th>vartype</th>\n",
       "      <th>datatype</th>\n",
       "      <th>name</th>\n",
       "      <th>abbreviation</th>\n",
       "      <th>description</th>\n",
       "      <th>choicecode</th>\n",
       "      <th>choicestringvalue</th>\n",
       "    </tr>\n",
       "  </thead>\n",
       "  <tbody>\n",
       "    <tr>\n",
       "      <th>5790</th>\n",
       "      <td>3030000350</td>\n",
       "      <td>3</td>\n",
       "      <td>8</td>\n",
       "      <td>0</td>\n",
       "      <td>APACHE 2 validado</td>\n",
       "      <td>APACHE 2 man</td>\n",
       "      <td>Validated APACHE II score</td>\n",
       "      <td>NaN</td>\n",
       "      <td>NaN</td>\n",
       "    </tr>\n",
       "  </tbody>\n",
       "</table>\n",
       "</div>"
      ],
      "text/plain": [
       "      a_variableid  hospital_coded  vartype  datatype               name  \\\n",
       "5790    3030000350               3        8         0  APACHE 2 validado   \n",
       "\n",
       "      abbreviation                description  choicecode choicestringvalue  \n",
       "5790  APACHE 2 man  Validated APACHE II score         NaN               NaN  "
      ]
     },
     "execution_count": 55,
     "metadata": {},
     "output_type": "execute_result"
    }
   ],
   "source": [
    "result2 = result[(result['datatype']==0) & (result['vartype']==8) & (result['name'].str.contains('apache 2 validado', case=False, na=False))]\n",
    "\n",
    "print('So you finally get your result:')\n",
    "result2"
   ]
  },
  {
   "cell_type": "markdown",
   "id": "a688d779-b7ea-42a8-9c8f-9f69f9acd342",
   "metadata": {},
   "source": [
    "#### Get patients with an APACHE 2 higher of 20 for those who have accomplished with the inclusion criteria up to now"
   ]
  },
  {
   "cell_type": "code",
   "execution_count": 71,
   "id": "3b82eaa9-4015-4982-bcb3-832462bd08e5",
   "metadata": {},
   "outputs": [],
   "source": [
    "# take a look to the table structure using the first chunk of the table:\n",
    "\n",
    "v_derived_chunk = pd.read_csv(f's3://{db}/{h}_db/v_derived/{h}_derived001.csv')"
   ]
  },
  {
   "cell_type": "code",
   "execution_count": 72,
   "id": "1b2e54a6-a2ab-4855-9e43-5f40cadd395d",
   "metadata": {},
   "outputs": [
    {
     "data": {
      "text/html": [
       "<div>\n",
       "<style scoped>\n",
       "    .dataframe tbody tr th:only-of-type {\n",
       "        vertical-align: middle;\n",
       "    }\n",
       "\n",
       "    .dataframe tbody tr th {\n",
       "        vertical-align: top;\n",
       "    }\n",
       "\n",
       "    .dataframe thead th {\n",
       "        text-align: right;\n",
       "    }\n",
       "</style>\n",
       "<table border=\"1\" class=\"dataframe\">\n",
       "  <thead>\n",
       "    <tr style=\"text-align: right;\">\n",
       "      <th></th>\n",
       "      <th>a_patientid</th>\n",
       "      <th>a_variableid</th>\n",
       "      <th>time</th>\n",
       "      <th>value</th>\n",
       "    </tr>\n",
       "  </thead>\n",
       "  <tbody>\n",
       "    <tr>\n",
       "      <th>0</th>\n",
       "      <td>3669892</td>\n",
       "      <td>3030000100</td>\n",
       "      <td>0</td>\n",
       "      <td>7.0</td>\n",
       "    </tr>\n",
       "  </tbody>\n",
       "</table>\n",
       "</div>"
      ],
      "text/plain": [
       "   a_patientid  a_variableid  time  value\n",
       "0      3669892    3030000100     0    7.0"
      ]
     },
     "execution_count": 72,
     "metadata": {},
     "output_type": "execute_result"
    }
   ],
   "source": [
    "v_derived_chunk.head(1)"
   ]
  },
  {
   "cell_type": "code",
   "execution_count": 57,
   "id": "ce53cb3b-2cb8-4070-9dcc-90950c91de70",
   "metadata": {},
   "outputs": [
    {
     "name": "stdout",
     "output_type": "stream",
     "text": [
      "CPU times: user 2min 10s, sys: 13 s, total: 2min 23s\n",
      "Wall time: 6min 47s\n"
     ]
    }
   ],
   "source": [
    "%%time\n",
    "\n",
    "bucket = s3.Bucket('icusics-db-demo')\n",
    "apache2_20_patlist = tuple()\n",
    "\n",
    "for my_bucket_object in bucket.objects.all():\n",
    "    \n",
    "    if all(x in my_bucket_object.key for x in ['h3', 'v_derived']):\n",
    "            \n",
    "        chunk = pd.read_csv(f's3://{db}/{my_bucket_object.key}')\n",
    "        apache2_20_patlist_chunk = tuple(set(chunk[(chunk['a_variableid']==3030000350) & (chunk['value']>20) & (\n",
    "            chunk['a_patientid'].isin(tuple(set(los7d_diags_cvc_imv['a_patientid']))))]['a_patientid']))\n",
    "        apache2_20_patlist = apache2_20_patlist + apache2_20_patlist_chunk"
   ]
  },
  {
   "cell_type": "code",
   "execution_count": 58,
   "id": "1b01c97a-7c52-4cde-8e40-5f96dd170239",
   "metadata": {},
   "outputs": [],
   "source": [
    "los7d_diags_cvc_imv_apache = los7d_diags_cvc_imv[los7d_diags_cvc_imv['a_patientid'].isin(apache2_20_patlist)]"
   ]
  },
  {
   "cell_type": "markdown",
   "id": "4e2957f8-f806-4769-8772-fad9aaaae668",
   "metadata": {},
   "source": [
    "#### Search for Lactate:"
   ]
  },
  {
   "cell_type": "code",
   "execution_count": 62,
   "id": "7711c2be-6c91-401a-8869-a3cb7ebe8ccc",
   "metadata": {},
   "outputs": [
    {
     "name": "stdout",
     "output_type": "stream",
     "text": [
      "(8, 9)\n",
      "To many results, so you decide to ask to the mentors and they say that for that hospital, this feature is a numeric (datatype=0) and derived (vartype=8) feature called 'APACHE 2 validado'\n"
     ]
    }
   ],
   "source": [
    "# define key characters (remember that strings in this db can be in english, catalan or spanish language) to start a blind search\n",
    "\n",
    "key_chars = 'lactat'\n",
    "\n",
    "result = variables_ref[(variables_ref['name'].str.contains(key_chars, case=False, na=False)) | (\n",
    "    variables_ref['description'].str.contains(key_chars, case=False, na=False)) | (\n",
    "    variables_ref['choicestringvalue'].str.contains(key_chars, case=False, na=False))]\n",
    "\n",
    "print(result.shape)\n",
    "\n",
    "print(\"To many results, so you decide to ask to the mentors and they say that for that hospital, this feature is a numeric (datatype=0) and labres (vartype=2) \\\n",
    "feature that contains 'GSA' label in the abbreviation\")"
   ]
  },
  {
   "cell_type": "code",
   "execution_count": 64,
   "id": "3e259866-9e0f-4a1b-aaa6-bf8275051ea0",
   "metadata": {},
   "outputs": [
    {
     "name": "stdout",
     "output_type": "stream",
     "text": [
      "So you finally get your result:\n"
     ]
    },
    {
     "data": {
      "text/html": [
       "<div>\n",
       "<style scoped>\n",
       "    .dataframe tbody tr th:only-of-type {\n",
       "        vertical-align: middle;\n",
       "    }\n",
       "\n",
       "    .dataframe tbody tr th {\n",
       "        vertical-align: top;\n",
       "    }\n",
       "\n",
       "    .dataframe thead th {\n",
       "        text-align: right;\n",
       "    }\n",
       "</style>\n",
       "<table border=\"1\" class=\"dataframe\">\n",
       "  <thead>\n",
       "    <tr style=\"text-align: right;\">\n",
       "      <th></th>\n",
       "      <th>a_variableid</th>\n",
       "      <th>hospital_coded</th>\n",
       "      <th>vartype</th>\n",
       "      <th>datatype</th>\n",
       "      <th>name</th>\n",
       "      <th>abbreviation</th>\n",
       "      <th>description</th>\n",
       "      <th>choicecode</th>\n",
       "      <th>choicestringvalue</th>\n",
       "    </tr>\n",
       "  </thead>\n",
       "  <tbody>\n",
       "    <tr>\n",
       "      <th>5398</th>\n",
       "      <td>3024000658</td>\n",
       "      <td>3</td>\n",
       "      <td>2</td>\n",
       "      <td>0</td>\n",
       "      <td>Lactat art GSA</td>\n",
       "      <td>Lactat a GSA</td>\n",
       "      <td>NaN</td>\n",
       "      <td>NaN</td>\n",
       "      <td>NaN</td>\n",
       "    </tr>\n",
       "    <tr>\n",
       "      <th>5435</th>\n",
       "      <td>3024000704</td>\n",
       "      <td>3</td>\n",
       "      <td>2</td>\n",
       "      <td>0</td>\n",
       "      <td>aSan-Lactat</td>\n",
       "      <td>Lactat _GSA</td>\n",
       "      <td>NaN</td>\n",
       "      <td>NaN</td>\n",
       "      <td>NaN</td>\n",
       "    </tr>\n",
       "  </tbody>\n",
       "</table>\n",
       "</div>"
      ],
      "text/plain": [
       "      a_variableid  hospital_coded  vartype  datatype            name  \\\n",
       "5398    3024000658               3        2         0  Lactat art GSA   \n",
       "5435    3024000704               3        2         0     aSan-Lactat   \n",
       "\n",
       "      abbreviation description  choicecode choicestringvalue  \n",
       "5398  Lactat a GSA         NaN         NaN               NaN  \n",
       "5435   Lactat _GSA         NaN         NaN               NaN  "
      ]
     },
     "execution_count": 64,
     "metadata": {},
     "output_type": "execute_result"
    }
   ],
   "source": [
    "result2 = result[(result['datatype']==0) & (result['vartype']==2) & (result['name'].str.contains('lactat', case=False, na=False)) & (\n",
    "    result['abbreviation'].str.contains('GSA', case=False, na=False))]\n",
    "\n",
    "print('So you finally get your result:')\n",
    "result2"
   ]
  },
  {
   "cell_type": "markdown",
   "id": "6c17a62e-74b3-4b53-ae4c-6f0ba605f530",
   "metadata": {},
   "source": [
    "#### Get patients with an arterial lactate higher than 2mmol/L during the first ICU day for those who have accomplished with the inclusion criteria"
   ]
  },
  {
   "cell_type": "code",
   "execution_count": 74,
   "id": "e693b32e-aeb1-4254-94fe-151f436e182e",
   "metadata": {},
   "outputs": [],
   "source": [
    "# take a look to the table structure using the first chunk of the table:\n",
    "\n",
    "v_labres_chunk = pd.read_csv(f's3://{db}/{h}_db/v_labres/{h}_labs001.csv')"
   ]
  },
  {
   "cell_type": "code",
   "execution_count": 75,
   "id": "9469550f-f49a-420f-a4a0-98bc8cf4f3c0",
   "metadata": {},
   "outputs": [
    {
     "data": {
      "text/html": [
       "<div>\n",
       "<style scoped>\n",
       "    .dataframe tbody tr th:only-of-type {\n",
       "        vertical-align: middle;\n",
       "    }\n",
       "\n",
       "    .dataframe tbody tr th {\n",
       "        vertical-align: top;\n",
       "    }\n",
       "\n",
       "    .dataframe thead th {\n",
       "        text-align: right;\n",
       "    }\n",
       "</style>\n",
       "<table border=\"1\" class=\"dataframe\">\n",
       "  <thead>\n",
       "    <tr style=\"text-align: right;\">\n",
       "      <th></th>\n",
       "      <th>a_patientid</th>\n",
       "      <th>a_variableid</th>\n",
       "      <th>time</th>\n",
       "      <th>value</th>\n",
       "    </tr>\n",
       "  </thead>\n",
       "  <tbody>\n",
       "    <tr>\n",
       "      <th>0</th>\n",
       "      <td>3070757</td>\n",
       "      <td>3020000100</td>\n",
       "      <td>21140</td>\n",
       "      <td>27.0</td>\n",
       "    </tr>\n",
       "  </tbody>\n",
       "</table>\n",
       "</div>"
      ],
      "text/plain": [
       "   a_patientid  a_variableid   time  value\n",
       "0      3070757    3020000100  21140   27.0"
      ]
     },
     "execution_count": 75,
     "metadata": {},
     "output_type": "execute_result"
    }
   ],
   "source": [
    "v_labres_chunk.head(1)"
   ]
  },
  {
   "cell_type": "code",
   "execution_count": 81,
   "id": "263e402d-05b2-4aea-ab67-3ae544c9e008",
   "metadata": {},
   "outputs": [
    {
     "name": "stdout",
     "output_type": "stream",
     "text": [
      "CPU times: user 1.53 s, sys: 139 ms, total: 1.67 s\n",
      "Wall time: 3.72 s\n"
     ]
    }
   ],
   "source": [
    "%%time\n",
    "\n",
    "bucket = s3.Bucket('icusics-db-demo')\n",
    "f_lactate_2_patlist = tuple()\n",
    "\n",
    "for my_bucket_object in bucket.objects.all():\n",
    "    \n",
    "    if all(x in my_bucket_object.key for x in ['h3', 'v_labres']):\n",
    "            \n",
    "        chunk = pd.read_csv(f's3://{db}/{my_bucket_object.key}')\n",
    "        f_lactate_2_patlist_chunk = tuple(set(chunk[(chunk['a_variableid'].isin([3024000658,3024000704])) & (chunk['value']>2) & (chunk['time']<1440) & (\n",
    "            chunk['a_patientid'].isin(tuple(set(los7d_diags_cvc_imv_apache['a_patientid']))))]['a_patientid']))\n",
    "        f_lactate_2_patlist = f_lactate_2_patlist + f_lactate_2_patlist_chunk"
   ]
  },
  {
   "cell_type": "code",
   "execution_count": 82,
   "id": "853794c6-7034-4d62-bb81-777a45721201",
   "metadata": {},
   "outputs": [],
   "source": [
    "los7d_diags_cvc_imv_apache_lactate = los7d_diags_cvc_imv_apache[los7d_diags_cvc_imv_apache['a_patientid'].isin(f_lactate_2_patlist)]"
   ]
  },
  {
   "cell_type": "code",
   "execution_count": null,
   "id": "20f7ed8a-4e57-4a20-8b82-8814eedfbb4b",
   "metadata": {},
   "outputs": [],
   "source": []
  },
  {
   "cell_type": "code",
   "execution_count": 105,
   "id": "4a12b7f1-e355-426b-945e-de379db0b83f",
   "metadata": {},
   "outputs": [
    {
     "name": "stdout",
     "output_type": "stream",
     "text": [
      "(173, 9)\n",
      "To many results, so you decide to ask to the mentors and they say that for that hospital, this feature is a numeric (datatype=0) and labres (vartype=2) feature that contains 'GSA' label in the abbreviation\n"
     ]
    }
   ],
   "source": [
    "# define key characters (remember that strings in this db can be in english, catalan or spanish language) to start a blind search\n",
    "\n",
    "key_chars = 'fr'\n",
    "\n",
    "result = variables_ref[(variables_ref['name'].str.contains(key_chars, case=False, na=False)) | (\n",
    "    variables_ref['description'].str.contains(key_chars, case=False, na=False)) | (\n",
    "    variables_ref['choicestringvalue'].str.contains(key_chars, case=False, na=False))]\n",
    "\n",
    "print(result.shape)\n",
    "\n",
    "print(\"To many results, so you decide to ask to the mentors and they say that for that hospital, this feature is a numeric (datatype=0) and labres (vartype=2) \\\n",
    "feature that contains 'GSA' label in the abbreviation\")"
   ]
  },
  {
   "cell_type": "code",
   "execution_count": 106,
   "id": "7946d6dd-20ca-423d-bd56-0ee13873a872",
   "metadata": {},
   "outputs": [
    {
     "data": {
      "text/html": [
       "<div>\n",
       "<style scoped>\n",
       "    .dataframe tbody tr th:only-of-type {\n",
       "        vertical-align: middle;\n",
       "    }\n",
       "\n",
       "    .dataframe tbody tr th {\n",
       "        vertical-align: top;\n",
       "    }\n",
       "\n",
       "    .dataframe thead th {\n",
       "        text-align: right;\n",
       "    }\n",
       "</style>\n",
       "<table border=\"1\" class=\"dataframe\">\n",
       "  <thead>\n",
       "    <tr style=\"text-align: right;\">\n",
       "      <th></th>\n",
       "      <th>a_variableid</th>\n",
       "      <th>hospital_coded</th>\n",
       "      <th>vartype</th>\n",
       "      <th>datatype</th>\n",
       "      <th>name</th>\n",
       "      <th>abbreviation</th>\n",
       "      <th>description</th>\n",
       "      <th>choicecode</th>\n",
       "      <th>choicestringvalue</th>\n",
       "    </tr>\n",
       "  </thead>\n",
       "  <tbody>\n",
       "    <tr>\n",
       "      <th>8</th>\n",
       "      <td>3000000200</td>\n",
       "      <td>3</td>\n",
       "      <td>1</td>\n",
       "      <td>0</td>\n",
       "      <td>Freqüència Cardíaca</td>\n",
       "      <td>FC</td>\n",
       "      <td>1.REGISTRE MANUAL contingència / M 11. ECOCARD...</td>\n",
       "      <td>NaN</td>\n",
       "      <td>NaN</td>\n",
       "    </tr>\n",
       "    <tr>\n",
       "      <th>9</th>\n",
       "      <td>3000000300</td>\n",
       "      <td>3</td>\n",
       "      <td>1</td>\n",
       "      <td>0</td>\n",
       "      <td>FR (m)</td>\n",
       "      <td>FR (m)</td>\n",
       "      <td>Freqüència Respiratòria Monitor\\n1.REGISTRE MA...</td>\n",
       "      <td>NaN</td>\n",
       "      <td>NaN</td>\n",
       "    </tr>\n",
       "    <tr>\n",
       "      <th>10</th>\n",
       "      <td>3000000310</td>\n",
       "      <td>3</td>\n",
       "      <td>1</td>\n",
       "      <td>0</td>\n",
       "      <td>FR espontània</td>\n",
       "      <td>FR espont</td>\n",
       "      <td>DI 21.CONTROL RESPIRATORI</td>\n",
       "      <td>NaN</td>\n",
       "      <td>NaN</td>\n",
       "    </tr>\n",
       "    <tr>\n",
       "      <th>11</th>\n",
       "      <td>3000000320</td>\n",
       "      <td>3</td>\n",
       "      <td>1</td>\n",
       "      <td>0</td>\n",
       "      <td>FR (p)</td>\n",
       "      <td>FR (p)</td>\n",
       "      <td>1.REGISTRE MANUAL contingència / M 04.VENTILAC...</td>\n",
       "      <td>NaN</td>\n",
       "      <td>NaN</td>\n",
       "    </tr>\n",
       "    <tr>\n",
       "      <th>33</th>\n",
       "      <td>3000001400</td>\n",
       "      <td>3</td>\n",
       "      <td>1</td>\n",
       "      <td>0</td>\n",
       "      <td>INrepl(m)</td>\n",
       "      <td>INrepl(m)</td>\n",
       "      <td>Replacement input from RRT device</td>\n",
       "      <td>NaN</td>\n",
       "      <td>NaN</td>\n",
       "    </tr>\n",
       "    <tr>\n",
       "      <th>...</th>\n",
       "      <td>...</td>\n",
       "      <td>...</td>\n",
       "      <td>...</td>\n",
       "      <td>...</td>\n",
       "      <td>...</td>\n",
       "      <td>...</td>\n",
       "      <td>...</td>\n",
       "      <td>...</td>\n",
       "      <td>...</td>\n",
       "    </tr>\n",
       "    <tr>\n",
       "      <th>5591</th>\n",
       "      <td>3024001080</td>\n",
       "      <td>3</td>\n",
       "      <td>2</td>\n",
       "      <td>0</td>\n",
       "      <td>San-Hemoglobina F; fr.subst.</td>\n",
       "      <td>Hgb FfFrSubs</td>\n",
       "      <td>NaN</td>\n",
       "      <td>NaN</td>\n",
       "      <td>NaN</td>\n",
       "    </tr>\n",
       "    <tr>\n",
       "      <th>5659</th>\n",
       "      <td>3024001865</td>\n",
       "      <td>3</td>\n",
       "      <td>2</td>\n",
       "      <td>0</td>\n",
       "      <td>cSan-Oxigen, fr.sat.</td>\n",
       "      <td>cSan-SaO2</td>\n",
       "      <td>NaN</td>\n",
       "      <td>NaN</td>\n",
       "      <td>NaN</td>\n",
       "    </tr>\n",
       "    <tr>\n",
       "      <th>5875</th>\n",
       "      <td>3030007000</td>\n",
       "      <td>3</td>\n",
       "      <td>8</td>\n",
       "      <td>0</td>\n",
       "      <td>BALANÇ Dialisis (cmd)</td>\n",
       "      <td>BALdial(cmd)</td>\n",
       "      <td>Cumulative dialysis balance within fluid day, ...</td>\n",
       "      <td>NaN</td>\n",
       "      <td>NaN</td>\n",
       "    </tr>\n",
       "    <tr>\n",
       "      <th>5876</th>\n",
       "      <td>3030007001</td>\n",
       "      <td>3</td>\n",
       "      <td>8</td>\n",
       "      <td>0</td>\n",
       "      <td>OUTdial(cmd)</td>\n",
       "      <td>OUTdial(cmd)</td>\n",
       "      <td>Cumulative dialysis output within fluid day, c...</td>\n",
       "      <td>NaN</td>\n",
       "      <td>NaN</td>\n",
       "    </tr>\n",
       "    <tr>\n",
       "      <th>5972</th>\n",
       "      <td>3030015418</td>\n",
       "      <td>3</td>\n",
       "      <td>8</td>\n",
       "      <td>0</td>\n",
       "      <td>OUTfluid25/d</td>\n",
       "      <td>OUTfluid25/d</td>\n",
       "      <td>Diüresi nefrostom Esque Diària</td>\n",
       "      <td>NaN</td>\n",
       "      <td>NaN</td>\n",
       "    </tr>\n",
       "  </tbody>\n",
       "</table>\n",
       "<p>173 rows × 9 columns</p>\n",
       "</div>"
      ],
      "text/plain": [
       "      a_variableid  hospital_coded  vartype  datatype  \\\n",
       "8       3000000200               3        1         0   \n",
       "9       3000000300               3        1         0   \n",
       "10      3000000310               3        1         0   \n",
       "11      3000000320               3        1         0   \n",
       "33      3000001400               3        1         0   \n",
       "...            ...             ...      ...       ...   \n",
       "5591    3024001080               3        2         0   \n",
       "5659    3024001865               3        2         0   \n",
       "5875    3030007000               3        8         0   \n",
       "5876    3030007001               3        8         0   \n",
       "5972    3030015418               3        8         0   \n",
       "\n",
       "                              name  abbreviation  \\\n",
       "8              Freqüència Cardíaca            FC   \n",
       "9                           FR (m)        FR (m)   \n",
       "10                   FR espontània     FR espont   \n",
       "11                          FR (p)        FR (p)   \n",
       "33                       INrepl(m)     INrepl(m)   \n",
       "...                            ...           ...   \n",
       "5591  San-Hemoglobina F; fr.subst.  Hgb FfFrSubs   \n",
       "5659          cSan-Oxigen, fr.sat.     cSan-SaO2   \n",
       "5875         BALANÇ Dialisis (cmd)  BALdial(cmd)   \n",
       "5876                  OUTdial(cmd)  OUTdial(cmd)   \n",
       "5972                  OUTfluid25/d  OUTfluid25/d   \n",
       "\n",
       "                                            description  choicecode  \\\n",
       "8     1.REGISTRE MANUAL contingència / M 11. ECOCARD...         NaN   \n",
       "9     Freqüència Respiratòria Monitor\\n1.REGISTRE MA...         NaN   \n",
       "10                            DI 21.CONTROL RESPIRATORI         NaN   \n",
       "11    1.REGISTRE MANUAL contingència / M 04.VENTILAC...         NaN   \n",
       "33                    Replacement input from RRT device         NaN   \n",
       "...                                                 ...         ...   \n",
       "5591                                                NaN         NaN   \n",
       "5659                                                NaN         NaN   \n",
       "5875  Cumulative dialysis balance within fluid day, ...         NaN   \n",
       "5876  Cumulative dialysis output within fluid day, c...         NaN   \n",
       "5972                     Diüresi nefrostom Esque Diària         NaN   \n",
       "\n",
       "     choicestringvalue  \n",
       "8                  NaN  \n",
       "9                  NaN  \n",
       "10                 NaN  \n",
       "11                 NaN  \n",
       "33                 NaN  \n",
       "...                ...  \n",
       "5591               NaN  \n",
       "5659               NaN  \n",
       "5875               NaN  \n",
       "5876               NaN  \n",
       "5972               NaN  \n",
       "\n",
       "[173 rows x 9 columns]"
      ]
     },
     "execution_count": 106,
     "metadata": {},
     "output_type": "execute_result"
    }
   ],
   "source": [
    "result"
   ]
  },
  {
   "cell_type": "code",
   "execution_count": 107,
   "id": "fc0649ec-6275-470b-be49-9bc611a70616",
   "metadata": {},
   "outputs": [
    {
     "name": "stdout",
     "output_type": "stream",
     "text": [
      "CPU times: user 37.5 s, sys: 4.33 s, total: 41.9 s\n",
      "Wall time: 1min 28s\n"
     ]
    }
   ],
   "source": [
    "%%time\n",
    "\n",
    "bucket = s3.Bucket('icusics-db-demo')\n",
    "hr = pd.DataFrame()\n",
    "\n",
    "for my_bucket_object in bucket.objects.all():\n",
    "    \n",
    "    if all(x in my_bucket_object.key for x in ['h3', 'v_monitored']):\n",
    "            \n",
    "        chunk = pd.read_csv(f's3://{db}/{my_bucket_object.key}')\n",
    "        hr_chunk = chunk[(chunk['a_variableid']==3000000200) & (\n",
    "            chunk['a_patientid'].isin(tuple(set(los7d_diags_cvc_imv_apache_lactate['a_patientid']))))]\n",
    "        hr = pd.concat([hr, hr_chunk])"
   ]
  },
  {
   "cell_type": "code",
   "execution_count": 114,
   "id": "57485fcc-59eb-47be-82f0-866cc318612c",
   "metadata": {},
   "outputs": [
    {
     "name": "stdout",
     "output_type": "stream",
     "text": [
      "CPU times: user 38.8 s, sys: 4.22 s, total: 43 s\n",
      "Wall time: 1min 51s\n"
     ]
    }
   ],
   "source": [
    "%%time\n",
    "\n",
    "bucket = s3.Bucket('icusics-db-demo')\n",
    "caca = pd.DataFrame()\n",
    "\n",
    "for my_bucket_object in bucket.objects.all():\n",
    "    \n",
    "    if all(x in my_bucket_object.key for x in ['h3', 'v_monitored']):\n",
    "            \n",
    "        chunk = pd.read_csv(f's3://{db}/{my_bucket_object.key}')\n",
    "        caca_chunk = chunk[chunk['a_patientid'].isin(tuple(set(los7d_diags_cvc_imv_apache_lactate['a_patientid'])))]\n",
    "        caca = pd.concat([caca, caca_chunk])"
   ]
  },
  {
   "cell_type": "code",
   "execution_count": 127,
   "id": "547f3cd7-8b94-41df-9079-9e2b22b881e1",
   "metadata": {},
   "outputs": [],
   "source": [
    "caca_agg = caca.groupby(['a_variableid'], as_index=False).agg({'a_patientid':'nunique'}).sort_values('a_patientid', ascending=False)"
   ]
  },
  {
   "cell_type": "code",
   "execution_count": 128,
   "id": "9e34f800-22a9-4dfd-9c8e-7ecea5196048",
   "metadata": {},
   "outputs": [],
   "source": [
    "caca_comu = caca_agg[caca_agg['a_patientid']==12]"
   ]
  },
  {
   "cell_type": "code",
   "execution_count": 130,
   "id": "a8802514-c9a2-4710-a382-79bfa1f24c72",
   "metadata": {},
   "outputs": [
    {
     "data": {
      "text/plain": [
       "3000000610    1\n",
       "3000000600    1\n",
       "3000005600    1\n",
       "3000002010    1\n",
       "3000002400    1\n",
       "3000000620    1\n",
       "3000005646    1\n",
       "3000007102    1\n",
       "3000000320    1\n",
       "3000002600    1\n",
       "Name: a_variableid, dtype: int64"
      ]
     },
     "execution_count": 130,
     "metadata": {},
     "output_type": "execute_result"
    }
   ],
   "source": [
    "caca_comu['a_variableid'].value_counts()"
   ]
  },
  {
   "cell_type": "code",
   "execution_count": 131,
   "id": "29f3aca3-8042-4a7d-a188-fe2b13aa62b9",
   "metadata": {},
   "outputs": [
    {
     "data": {
      "text/html": [
       "<div>\n",
       "<style scoped>\n",
       "    .dataframe tbody tr th:only-of-type {\n",
       "        vertical-align: middle;\n",
       "    }\n",
       "\n",
       "    .dataframe tbody tr th {\n",
       "        vertical-align: top;\n",
       "    }\n",
       "\n",
       "    .dataframe thead th {\n",
       "        text-align: right;\n",
       "    }\n",
       "</style>\n",
       "<table border=\"1\" class=\"dataframe\">\n",
       "  <thead>\n",
       "    <tr style=\"text-align: right;\">\n",
       "      <th></th>\n",
       "      <th>a_variableid</th>\n",
       "      <th>hospital_coded</th>\n",
       "      <th>vartype</th>\n",
       "      <th>datatype</th>\n",
       "      <th>name</th>\n",
       "      <th>abbreviation</th>\n",
       "      <th>description</th>\n",
       "      <th>choicecode</th>\n",
       "      <th>choicestringvalue</th>\n",
       "    </tr>\n",
       "  </thead>\n",
       "  <tbody>\n",
       "    <tr>\n",
       "      <th>11</th>\n",
       "      <td>3000000320</td>\n",
       "      <td>3</td>\n",
       "      <td>1</td>\n",
       "      <td>0</td>\n",
       "      <td>FR (p)</td>\n",
       "      <td>FR (p)</td>\n",
       "      <td>1.REGISTRE MANUAL contingència / M 04.VENTILAC...</td>\n",
       "      <td>NaN</td>\n",
       "      <td>NaN</td>\n",
       "    </tr>\n",
       "    <tr>\n",
       "      <th>15</th>\n",
       "      <td>3000000600</td>\n",
       "      <td>3</td>\n",
       "      <td>1</td>\n",
       "      <td>0</td>\n",
       "      <td>PAs NI</td>\n",
       "      <td>PAs NI</td>\n",
       "      <td>1.REGISTRE MANUAL contingència</td>\n",
       "      <td>NaN</td>\n",
       "      <td>NaN</td>\n",
       "    </tr>\n",
       "    <tr>\n",
       "      <th>16</th>\n",
       "      <td>3000000610</td>\n",
       "      <td>3</td>\n",
       "      <td>1</td>\n",
       "      <td>0</td>\n",
       "      <td>PAm NI</td>\n",
       "      <td>PAm NI</td>\n",
       "      <td>1.REGISTRE MANUAL contingència</td>\n",
       "      <td>NaN</td>\n",
       "      <td>NaN</td>\n",
       "    </tr>\n",
       "    <tr>\n",
       "      <th>17</th>\n",
       "      <td>3000000620</td>\n",
       "      <td>3</td>\n",
       "      <td>1</td>\n",
       "      <td>0</td>\n",
       "      <td>PAd NI</td>\n",
       "      <td>PAd NI</td>\n",
       "      <td>1.REGISTRE MANUAL contingència</td>\n",
       "      <td>NaN</td>\n",
       "      <td>NaN</td>\n",
       "    </tr>\n",
       "    <tr>\n",
       "      <th>40</th>\n",
       "      <td>3000002010</td>\n",
       "      <td>3</td>\n",
       "      <td>1</td>\n",
       "      <td>0</td>\n",
       "      <td>FiO2</td>\n",
       "      <td>FiO2</td>\n",
       "      <td>Inspired O2\\n1.REGISTRE MANUAL contingència / ...</td>\n",
       "      <td>NaN</td>\n",
       "      <td>NaN</td>\n",
       "    </tr>\n",
       "    <tr>\n",
       "      <th>45</th>\n",
       "      <td>3000002400</td>\n",
       "      <td>3</td>\n",
       "      <td>1</td>\n",
       "      <td>0</td>\n",
       "      <td>Vt (p)</td>\n",
       "      <td>Vt (p)</td>\n",
       "      <td>M 04.VENTILACIÓ MECÀNICA</td>\n",
       "      <td>NaN</td>\n",
       "      <td>NaN</td>\n",
       "    </tr>\n",
       "    <tr>\n",
       "      <th>50</th>\n",
       "      <td>3000002600</td>\n",
       "      <td>3</td>\n",
       "      <td>1</td>\n",
       "      <td>0</td>\n",
       "      <td>PEEP (p)</td>\n",
       "      <td>PEEP (p)</td>\n",
       "      <td>Set positive end-expiratory pressure 1\\n1.REGI...</td>\n",
       "      <td>NaN</td>\n",
       "      <td>NaN</td>\n",
       "    </tr>\n",
       "    <tr>\n",
       "      <th>190</th>\n",
       "      <td>3000005600</td>\n",
       "      <td>3</td>\n",
       "      <td>1</td>\n",
       "      <td>0</td>\n",
       "      <td>FR monitor</td>\n",
       "      <td>FR monitor</td>\n",
       "      <td>NaN</td>\n",
       "      <td>NaN</td>\n",
       "      <td>NaN</td>\n",
       "    </tr>\n",
       "    <tr>\n",
       "      <th>198</th>\n",
       "      <td>3000005646</td>\n",
       "      <td>3</td>\n",
       "      <td>1</td>\n",
       "      <td>0</td>\n",
       "      <td>Pressió Suport</td>\n",
       "      <td>P. suport</td>\n",
       "      <td>Pressió Suport Monitoritzada\\nPuritan Bennet. ...</td>\n",
       "      <td>NaN</td>\n",
       "      <td>NaN</td>\n",
       "    </tr>\n",
       "    <tr>\n",
       "      <th>207</th>\n",
       "      <td>3000007102</td>\n",
       "      <td>3</td>\n",
       "      <td>1</td>\n",
       "      <td>0</td>\n",
       "      <td>Tª axilar</td>\n",
       "      <td>Temp axilar</td>\n",
       "      <td>1.REGISTRE MANUAL contingència / DI 06.CONTROL...</td>\n",
       "      <td>NaN</td>\n",
       "      <td>NaN</td>\n",
       "    </tr>\n",
       "  </tbody>\n",
       "</table>\n",
       "</div>"
      ],
      "text/plain": [
       "     a_variableid  hospital_coded  vartype  datatype            name  \\\n",
       "11     3000000320               3        1         0          FR (p)   \n",
       "15     3000000600               3        1         0          PAs NI   \n",
       "16     3000000610               3        1         0          PAm NI   \n",
       "17     3000000620               3        1         0          PAd NI   \n",
       "40     3000002010               3        1         0            FiO2   \n",
       "45     3000002400               3        1         0          Vt (p)   \n",
       "50     3000002600               3        1         0        PEEP (p)   \n",
       "190    3000005600               3        1         0      FR monitor   \n",
       "198    3000005646               3        1         0  Pressió Suport   \n",
       "207    3000007102               3        1         0       Tª axilar   \n",
       "\n",
       "    abbreviation                                        description  \\\n",
       "11        FR (p)  1.REGISTRE MANUAL contingència / M 04.VENTILAC...   \n",
       "15        PAs NI                     1.REGISTRE MANUAL contingència   \n",
       "16        PAm NI                     1.REGISTRE MANUAL contingència   \n",
       "17        PAd NI                     1.REGISTRE MANUAL contingència   \n",
       "40          FiO2  Inspired O2\\n1.REGISTRE MANUAL contingència / ...   \n",
       "45        Vt (p)                           M 04.VENTILACIÓ MECÀNICA   \n",
       "50      PEEP (p)  Set positive end-expiratory pressure 1\\n1.REGI...   \n",
       "190   FR monitor                                                NaN   \n",
       "198    P. suport  Pressió Suport Monitoritzada\\nPuritan Bennet. ...   \n",
       "207  Temp axilar  1.REGISTRE MANUAL contingència / DI 06.CONTROL...   \n",
       "\n",
       "     choicecode choicestringvalue  \n",
       "11          NaN               NaN  \n",
       "15          NaN               NaN  \n",
       "16          NaN               NaN  \n",
       "17          NaN               NaN  \n",
       "40          NaN               NaN  \n",
       "45          NaN               NaN  \n",
       "50          NaN               NaN  \n",
       "190         NaN               NaN  \n",
       "198         NaN               NaN  \n",
       "207         NaN               NaN  "
      ]
     },
     "execution_count": 131,
     "metadata": {},
     "output_type": "execute_result"
    }
   ],
   "source": [
    "variables_ref[variables_ref['a_variableid'].isin(tuple(set(caca_comu['a_variableid'])))]"
   ]
  },
  {
   "cell_type": "code",
   "execution_count": 132,
   "id": "bbc3f9fb-3842-4347-bf1a-83f8db5418e4",
   "metadata": {},
   "outputs": [
    {
     "data": {
      "text/plain": [
       "count    40677.000000\n",
       "mean        12.465619\n",
       "std          9.526971\n",
       "min          0.000000\n",
       "25%          0.000000\n",
       "50%         17.000000\n",
       "75%         20.000000\n",
       "max         30.000000\n",
       "Name: value, dtype: float64"
      ]
     },
     "execution_count": 132,
     "metadata": {},
     "output_type": "execute_result"
    }
   ],
   "source": [
    "caca[caca['a_variableid']==3000000320]['value'].describe()"
   ]
  },
  {
   "cell_type": "code",
   "execution_count": 134,
   "id": "7fa99785-2ce7-44a1-8900-7ba647776ef7",
   "metadata": {},
   "outputs": [
    {
     "data": {
      "text/plain": [
       "3001780    2249\n",
       "3257877    1456\n",
       "3803957    1259\n",
       "3345064     623\n",
       "3703957     514\n",
       "3219293     455\n",
       "3792693     316\n",
       "3037324     238\n",
       "3454744     156\n",
       "Name: a_patientid, dtype: int64"
      ]
     },
     "execution_count": 134,
     "metadata": {},
     "output_type": "execute_result"
    }
   ],
   "source": [
    "caca[(caca['a_variableid']==3000000320) & (caca['value']>20)]['a_patientid'].value_counts()"
   ]
  },
  {
   "cell_type": "code",
   "execution_count": 120,
   "id": "4a868c9a-e15e-4e6a-8bcf-69f6d0095947",
   "metadata": {},
   "outputs": [
    {
     "data": {
      "text/plain": [
       "3792693    43123\n",
       "3647997    20640\n",
       "3219293    15567\n",
       "3454744      150\n",
       "3703957      102\n",
       "3257877        2\n",
       "Name: a_patientid, dtype: int64"
      ]
     },
     "execution_count": 120,
     "metadata": {},
     "output_type": "execute_result"
    }
   ],
   "source": [
    "caca[caca['a_variableid']==3000000200]['a_patientid'].value_counts()"
   ]
  },
  {
   "cell_type": "code",
   "execution_count": 117,
   "id": "75748818-91ed-4774-aba5-87f2e076c927",
   "metadata": {},
   "outputs": [
    {
     "data": {
      "text/plain": [
       "3000000200    79584\n",
       "3000000110    79511\n",
       "3000000120    78952\n",
       "3000000100    78951\n",
       "3000004000    78054\n",
       "              ...  \n",
       "3000003100        5\n",
       "3000001310        3\n",
       "3000001320        3\n",
       "3000001350        3\n",
       "3000003101        1\n",
       "Name: a_variableid, Length: 75, dtype: int64"
      ]
     },
     "execution_count": 117,
     "metadata": {},
     "output_type": "execute_result"
    }
   ],
   "source": [
    "caca['a_variableid'].value_counts()"
   ]
  },
  {
   "cell_type": "code",
   "execution_count": 115,
   "id": "155a0088-b27e-45e3-8cad-38a6151ecba3",
   "metadata": {},
   "outputs": [
    {
     "data": {
      "text/plain": [
       "3792693    302832\n",
       "3001780    177794\n",
       "3647997    155100\n",
       "3219293    148453\n",
       "3615379     96867\n",
       "3803957     77868\n",
       "3345064     76161\n",
       "3257877     49494\n",
       "3738345     36476\n",
       "3454744     35718\n",
       "3037324     18053\n",
       "3703957      7689\n",
       "Name: a_patientid, dtype: int64"
      ]
     },
     "execution_count": 115,
     "metadata": {},
     "output_type": "execute_result"
    }
   ],
   "source": [
    "caca['a_patientid'].value_counts()"
   ]
  },
  {
   "cell_type": "code",
   "execution_count": 113,
   "id": "2f050f9a-415e-44e0-a7f3-82dec671295f",
   "metadata": {},
   "outputs": [
    {
     "data": {
      "text/plain": [
       "3792693    43123\n",
       "3647997    20640\n",
       "3219293    15567\n",
       "3454744      150\n",
       "3703957      102\n",
       "3257877        2\n",
       "Name: a_patientid, dtype: int64"
      ]
     },
     "execution_count": 113,
     "metadata": {},
     "output_type": "execute_result"
    }
   ],
   "source": [
    "hr['a_patientid'].value_counts()"
   ]
  },
  {
   "cell_type": "code",
   "execution_count": 109,
   "id": "242fa4f7-d8db-4eb0-9ca5-a27c8461cf61",
   "metadata": {},
   "outputs": [
    {
     "data": {
      "text/plain": [
       "1482    3345064\n",
       "2494    3615379\n",
       "3426    3738345\n",
       "4163    3037324\n",
       "4239    3803957\n",
       "4856    3001780\n",
       "5112    3703957\n",
       "5117    3454744\n",
       "5555    3792693\n",
       "5609    3219293\n",
       "6368    3647997\n",
       "6692    3257877\n",
       "Name: a_patientid, dtype: int64"
      ]
     },
     "execution_count": 109,
     "metadata": {},
     "output_type": "execute_result"
    }
   ],
   "source": [
    "los7d_diags_cvc_imv_apache_lactate['a_patientid']"
   ]
  },
  {
   "cell_type": "code",
   "execution_count": 108,
   "id": "b2331797-7ff3-4e4d-b0e2-59774ccddc46",
   "metadata": {},
   "outputs": [
    {
     "data": {
      "text/plain": [
       "6"
      ]
     },
     "execution_count": 108,
     "metadata": {},
     "output_type": "execute_result"
    }
   ],
   "source": [
    "hr['a_patientid'].nunique()"
   ]
  },
  {
   "cell_type": "code",
   "execution_count": 97,
   "id": "a57ba46d-c72c-4dda-883e-6e120ba2119f",
   "metadata": {},
   "outputs": [
    {
     "data": {
      "text/plain": [
       "(440, 4)"
      ]
     },
     "execution_count": 97,
     "metadata": {},
     "output_type": "execute_result"
    }
   ],
   "source": [
    "vt.shape"
   ]
  },
  {
   "cell_type": "code",
   "execution_count": 91,
   "id": "ad1e51c0-3313-4657-92d0-fb8cc6c1fc9f",
   "metadata": {},
   "outputs": [
    {
     "name": "stdout",
     "output_type": "stream",
     "text": [
      "CPU times: user 38.8 s, sys: 4.31 s, total: 43.1 s\n",
      "Wall time: 1min 52s\n"
     ]
    }
   ],
   "source": [
    "%%time\n",
    "\n",
    "bucket = s3.Bucket('icusics-db-demo')\n",
    "crrt_patlist = tuple()\n",
    "\n",
    "for my_bucket_object in bucket.objects.all():\n",
    "    \n",
    "    if all(x in my_bucket_object.key for x in ['h3', 'v_monitored']):\n",
    "            \n",
    "        chunk = pd.read_csv(f's3://{db}/{my_bucket_object.key}')\n",
    "        crrt_patlist_chunk = tuple(set(chunk[(chunk['a_variableid']==3000002410) & (chunk['value']>800) & (\n",
    "            chunk['a_patientid'].isin(tuple(set(los7d_diags_cvc_imv_apache_lactate['a_patientid']))))]['a_patientid']))\n",
    "        crrt_patlist = crrt_patlist + crrt_patlist_chunk"
   ]
  },
  {
   "cell_type": "code",
   "execution_count": 93,
   "id": "dfcba687-c8a3-4c2d-8ac3-e6296a8fc83d",
   "metadata": {},
   "outputs": [
    {
     "data": {
      "text/plain": [
       "()"
      ]
     },
     "execution_count": 93,
     "metadata": {},
     "output_type": "execute_result"
    }
   ],
   "source": [
    "crrt_patlist"
   ]
  },
  {
   "cell_type": "code",
   "execution_count": 110,
   "id": "9d945e3f-c1b9-45d3-bbc6-7f18775862b0",
   "metadata": {},
   "outputs": [
    {
     "name": "stdout",
     "output_type": "stream",
     "text": [
      "patients in ICUSICS demo database 6928\n",
      "patients with ICU LOS > 7 days: 2233\n",
      "patients with ICU LOS > 7 days and pneumonia as pd and myopathy as sd: 81\n",
      "patients with ICU LOS > 7 days and pneumonia as pd and myopathy as sd and cvc: 80\n",
      "patients with ICU LOS > 7 days and pneumonia as pd and myopathy as sd and cvc and imv: 79\n",
      "patients with ICU LOS > 7 days and pneumonia as pd and myopathy as sd and cvc and imv with an apache2 > 20: 28\n",
      "patients with ICU LOS > 7 days and pneumonia as pd and myopathy as sd and cvc and imv with an apache2 > 20 and first lactate >2mmol/L: 12\n"
     ]
    }
   ],
   "source": [
    "print('patients in ICUSICS demo database',\n",
    "      patients['a_patientid'].nunique())\n",
    "print('patients with ICU LOS > 7 days:',\n",
    "      los7d['a_patientid'].nunique())\n",
    "print('patients with ICU LOS > 7 days and pneumonia as pd and myopathy as sd:',\n",
    "      los7d_diags['a_patientid'].nunique())\n",
    "print('patients with ICU LOS > 7 days and pneumonia as pd and myopathy as sd and cvc:',\n",
    "      los7d_diags_cvc['a_patientid'].nunique())\n",
    "print('patients with ICU LOS > 7 days and pneumonia as pd and myopathy as sd and cvc and imv:',\n",
    "      los7d_diags_cvc_imv['a_patientid'].nunique())\n",
    "print('patients with ICU LOS > 7 days and pneumonia as pd and myopathy as sd and cvc and imv with an apache2 > 20:',\n",
    "      los7d_diags_cvc_imv_apache['a_patientid'].nunique())\n",
    "print('patients with ICU LOS > 7 days and pneumonia as pd and myopathy as sd and cvc and imv with an apache2 > 20 and first lactate >2mmol/L:',\n",
    "      los7d_diags_cvc_imv_apache_lactate['a_patientid'].nunique())"
   ]
  },
  {
   "cell_type": "code",
   "execution_count": 60,
   "id": "60fdf949-1d78-4834-9c02-c5cc8089c1c0",
   "metadata": {},
   "outputs": [
    {
     "data": {
      "text/html": [
       "<div>\n",
       "<style scoped>\n",
       "    .dataframe tbody tr th:only-of-type {\n",
       "        vertical-align: middle;\n",
       "    }\n",
       "\n",
       "    .dataframe tbody tr th {\n",
       "        vertical-align: top;\n",
       "    }\n",
       "\n",
       "    .dataframe thead th {\n",
       "        text-align: right;\n",
       "    }\n",
       "</style>\n",
       "<table border=\"1\" class=\"dataframe\">\n",
       "  <thead>\n",
       "    <tr style=\"text-align: right;\">\n",
       "      <th></th>\n",
       "      <th>a_patientid</th>\n",
       "      <th>hospital_coded</th>\n",
       "      <th>patientsex</th>\n",
       "      <th>age</th>\n",
       "      <th>height</th>\n",
       "      <th>weight</th>\n",
       "      <th>bmi</th>\n",
       "      <th>hospadmtime</th>\n",
       "      <th>admwardname</th>\n",
       "      <th>distime</th>\n",
       "      <th>diswardname</th>\n",
       "      <th>hospdistime</th>\n",
       "      <th>hospital_outcome</th>\n",
       "    </tr>\n",
       "  </thead>\n",
       "  <tbody>\n",
       "    <tr>\n",
       "      <th>1482</th>\n",
       "      <td>3345064</td>\n",
       "      <td>3</td>\n",
       "      <td>M</td>\n",
       "      <td>30</td>\n",
       "      <td>170</td>\n",
       "      <td>70</td>\n",
       "      <td>24</td>\n",
       "      <td>-4</td>\n",
       "      <td>URGÈNCIES</td>\n",
       "      <td>52365</td>\n",
       "      <td>MEDICINA INTERNA</td>\n",
       "      <td>72262</td>\n",
       "      <td>ALIVE</td>\n",
       "    </tr>\n",
       "  </tbody>\n",
       "</table>\n",
       "</div>"
      ],
      "text/plain": [
       "      a_patientid  hospital_coded patientsex  age  height  weight  bmi  \\\n",
       "1482      3345064               3          M   30     170      70   24   \n",
       "\n",
       "      hospadmtime admwardname  distime       diswardname  hospdistime  \\\n",
       "1482           -4   URGÈNCIES    52365  MEDICINA INTERNA        72262   \n",
       "\n",
       "     hospital_outcome  \n",
       "1482            ALIVE  "
      ]
     },
     "execution_count": 60,
     "metadata": {},
     "output_type": "execute_result"
    }
   ],
   "source": [
    "los7d_diags_cvc_imv_apache.head(1)"
   ]
  },
  {
   "cell_type": "code",
   "execution_count": 61,
   "id": "9708e030-ad8f-4dfe-9e13-8a8c2076a2b6",
   "metadata": {},
   "outputs": [
    {
     "data": {
      "text/plain": [
       "ALIVE     0.785714\n",
       "EXITUS    0.214286\n",
       "Name: hospital_outcome, dtype: float64"
      ]
     },
     "execution_count": 61,
     "metadata": {},
     "output_type": "execute_result"
    }
   ],
   "source": [
    "los7d_diags_cvc_imv_apache['hospital_outcome'].value_counts(normalize=True)"
   ]
  },
  {
   "cell_type": "code",
   "execution_count": null,
   "id": "2e474ca1-1230-4ac8-b37a-f6a3b9fc0a32",
   "metadata": {},
   "outputs": [],
   "source": [
    "insertions = pd.read_csv(f's3://{db}/{h}_db/insertions/{h}_insertions.csv')"
   ]
  }
 ],
 "metadata": {
  "instance_type": "ml.t3.medium",
  "kernelspec": {
   "display_name": "Python 3 (Data Science)",
   "language": "python",
   "name": "python3__SAGEMAKER_INTERNAL__arn:aws:sagemaker:eu-west-1:470317259841:image/datascience-1.0"
  },
  "language_info": {
   "codemirror_mode": {
    "name": "ipython",
    "version": 3
   },
   "file_extension": ".py",
   "mimetype": "text/x-python",
   "name": "python",
   "nbconvert_exporter": "python",
   "pygments_lexer": "ipython3",
   "version": "3.7.10"
  }
 },
 "nbformat": 4,
 "nbformat_minor": 5
}
