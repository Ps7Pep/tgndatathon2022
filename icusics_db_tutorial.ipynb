{
 "cells": [
  {
   "cell_type": "code",
   "execution_count": 53,
   "id": "e08bf6e6-4260-40c5-994b-727e698e01d8",
   "metadata": {},
   "outputs": [],
   "source": [
    "import boto3\n",
    "import pandas as pd\n",
    "import numpy as np\n",
    "import re\n",
    "from sagemaker import get_execution_role\n",
    "role = get_execution_role()\n",
    "s3 = boto3.resource('s3')"
   ]
  },
  {
   "cell_type": "markdown",
   "id": "be356102-ffdb-4732-81fc-f57f08fd5824",
   "metadata": {},
   "source": [
    "# ICUsICS DB tutorial"
   ]
  },
  {
   "cell_type": "markdown",
   "id": "2eb70f7c-57da-4ae9-abec-18c7cf3b1086",
   "metadata": {},
   "source": [
    "ICUsICS is an anonymized database built from the data stored into the Clinical Information System (CIS) database of 6 Intensive Care Units (ICUs) from the Catalan Institute of Health (ICS). Actually, it is a database of databases, because each ICU belongs to a different hospital and each CIS presents its own particularities. However, the tables architecture of each database is identical between hospitals, which facilitates data search and extraction.\n",
    "\n",
    "ICUsICS is not hosted as a database 'per se', but as a directory of folders (tables) with csv files inside (registries). Inside icuics-db, there are 6 folders, 1 for each hospital, and inside them there are 10 folders:  \n",
    "\n",
    "patients: it contains patient-level info (id, hospital, demografics and admission and discharge time and wards)  \n",
    "diagnoses: table with the diagnoses  \n",
    "insertions: table with the insertions  \n",
    "variables_ref: it contains info of the variables present in the database (id, hospital, name, type). Key info: vartype 1, 2, 4 and 8 mean v_monitored, v_labres, v_observed and v_derived respectivelly (the table where the variable is stored). Key info: datatype 0, 1 and 2 mean numeric, categoric and checkbox respectivelly.  \n",
    "v_monitored: table with registries for vartype 1 variables  \n",
    "v_labres: table with registries for vartype 2 variables  \n",
    "v_observed: table with registries for vartype 4 variables  \n",
    "v_derived: table with registries for vartype 8 variables  \n",
    "drugs_ref: it contains info of the drugs present in the database (id, hospital, name, formunit, unit, etc.)  \n",
    "drugs: table with registries for drugs "
   ]
  },
  {
   "cell_type": "markdown",
   "id": "41813d09-000f-41ce-8894-1b82ba382864",
   "metadata": {},
   "source": [
    "## Set database and hospital"
   ]
  },
  {
   "cell_type": "code",
   "execution_count": 3,
   "id": "c6d93831-e27e-44f9-88b9-9ea391e64d6c",
   "metadata": {},
   "outputs": [],
   "source": [
    "db='icusics-db-demo'\n",
    "h='h3'"
   ]
  },
  {
   "cell_type": "markdown",
   "id": "92857be8-4536-4ec9-93b1-6dc8bf922078",
   "metadata": {},
   "source": [
    "### Checking K=5 anonymization"
   ]
  },
  {
   "cell_type": "code",
   "execution_count": 4,
   "id": "14c5e5e4-fc87-4cfc-80b6-e1fc78cbd05e",
   "metadata": {},
   "outputs": [],
   "source": [
    "patients = pd.read_csv(f's3://{db}/{h}_db/patients/{h}_patients_ref.csv')"
   ]
  },
  {
   "cell_type": "code",
   "execution_count": 5,
   "id": "e10d8019-ab99-456c-b89c-b3a54e9c4f56",
   "metadata": {},
   "outputs": [
    {
     "data": {
      "text/plain": [
       "5"
      ]
     },
     "execution_count": 5,
     "metadata": {},
     "output_type": "execute_result"
    }
   ],
   "source": [
    "patients.groupby(['patientsex','age','height','weight','hospital_outcome'], as_index=False).agg({'a_patientid':'nunique'})['a_patientid'].min()"
   ]
  },
  {
   "cell_type": "markdown",
   "id": "e2b7417b-81f9-421f-a251-f18342a5d504",
   "metadata": {},
   "source": [
    "### Example: Creating a cohort of patients with:  \n",
    "1- ICU_LOS > 7 days  \n",
    "2- Primary diagnose of pneumonia (any type) and secondary diagnose of myopathy (any type)  \n",
    "3- Central Venous Cateter (CVC)  \n",
    "4- Invasive Mechanical Ventilation (IMV)  \n",
    "5- APACHE2 > 20  \n",
    "6- Lactate (arterial) > 2mmol/L at first ICU day  \n",
    "7- Respiratory Rate (RR) > 30   \n",
    "9- Sedative Drugs (VAD)  "
   ]
  },
  {
   "cell_type": "markdown",
   "id": "bc7e293b-0340-4ae3-935e-b30473906719",
   "metadata": {},
   "source": [
    "patients: it contains patient-level info (id, hospital, demografics and admission and discharge time and wards)  \n",
    "diagnoses: table with the diagnoses  \n",
    "insertions: table with the insertions  \n",
    "variables_ref: it contains info of the variables present in the database (id, hospital, name, type). Key info: vartype 1, 2, 4 and 8 mean v_monitored, v_labres, v_observed and v_derived respectivelly (the table where the variable is stored). Key info: datatype 0, 1 and 2 mean numeric, categoric and checkbox respectivelly.  \n",
    "v_monitored: table with registries for vartype 1 variables  \n",
    "v_labres: table with registries for vartype 2 variables  \n",
    "v_observed: table with registries for vartype 4 variables  \n",
    "v_derived: table with registries for vartype 8 variables  \n",
    "drugs_ref: it contains info of the drugs present in the database (id, hospital, name, formunit, unit, etc.)  \n",
    "drugs: table with registries for drugs "
   ]
  },
  {
   "cell_type": "markdown",
   "id": "a573dc12-1f6f-47e3-8b66-f06804efb9f5",
   "metadata": {},
   "source": [
    "### 1- ICU_LOS > 7 days "
   ]
  },
  {
   "cell_type": "code",
   "execution_count": 6,
   "id": "5c0b342e-e08f-4ad3-968d-a1937f4af15b",
   "metadata": {},
   "outputs": [],
   "source": [
    "patients = pd.read_csv(f's3://{db}/{h}_db/patients/{h}_patients_ref.csv')"
   ]
  },
  {
   "cell_type": "code",
   "execution_count": 7,
   "id": "5fc509de-e167-4283-b0eb-43573f70094f",
   "metadata": {},
   "outputs": [
    {
     "data": {
      "text/html": [
       "<div>\n",
       "<style scoped>\n",
       "    .dataframe tbody tr th:only-of-type {\n",
       "        vertical-align: middle;\n",
       "    }\n",
       "\n",
       "    .dataframe tbody tr th {\n",
       "        vertical-align: top;\n",
       "    }\n",
       "\n",
       "    .dataframe thead th {\n",
       "        text-align: right;\n",
       "    }\n",
       "</style>\n",
       "<table border=\"1\" class=\"dataframe\">\n",
       "  <thead>\n",
       "    <tr style=\"text-align: right;\">\n",
       "      <th></th>\n",
       "      <th>a_patientid</th>\n",
       "      <th>hospital_coded</th>\n",
       "      <th>patientsex</th>\n",
       "      <th>age</th>\n",
       "      <th>height</th>\n",
       "      <th>weight</th>\n",
       "      <th>bmi</th>\n",
       "      <th>hospadmtime</th>\n",
       "      <th>admwardname</th>\n",
       "      <th>distime</th>\n",
       "      <th>diswardname</th>\n",
       "      <th>hospdistime</th>\n",
       "      <th>hospital_outcome</th>\n",
       "    </tr>\n",
       "  </thead>\n",
       "  <tbody>\n",
       "    <tr>\n",
       "      <th>0</th>\n",
       "      <td>3861270</td>\n",
       "      <td>3</td>\n",
       "      <td>M</td>\n",
       "      <td>70</td>\n",
       "      <td>160</td>\n",
       "      <td>80</td>\n",
       "      <td>31</td>\n",
       "      <td>-683</td>\n",
       "      <td>UCI GENERAL</td>\n",
       "      <td>14722</td>\n",
       "      <td>UCI GENERAL</td>\n",
       "      <td>34887</td>\n",
       "      <td>ALIVE</td>\n",
       "    </tr>\n",
       "  </tbody>\n",
       "</table>\n",
       "</div>"
      ],
      "text/plain": [
       "   a_patientid  hospital_coded patientsex  age  height  weight  bmi  \\\n",
       "0      3861270               3          M   70     160      80   31   \n",
       "\n",
       "   hospadmtime  admwardname  distime  diswardname  hospdistime  \\\n",
       "0         -683  UCI GENERAL    14722  UCI GENERAL        34887   \n",
       "\n",
       "  hospital_outcome  \n",
       "0            ALIVE  "
      ]
     },
     "execution_count": 7,
     "metadata": {},
     "output_type": "execute_result"
    }
   ],
   "source": [
    "patients.head(1)"
   ]
  },
  {
   "cell_type": "code",
   "execution_count": 8,
   "id": "a35f1cd1-5fdc-40e1-a438-204f44112207",
   "metadata": {},
   "outputs": [],
   "source": [
    "los7d = patients[patients['distime']>10080] # 7 days = 10080 minutes"
   ]
  },
  {
   "cell_type": "markdown",
   "id": "32c4760b-7ba3-4767-8f87-1ed765d42f93",
   "metadata": {},
   "source": [
    "### 2- Primary diagnose of pneumonia (any type) and secondary diagnose of myopathy (any type) "
   ]
  },
  {
   "cell_type": "code",
   "execution_count": 9,
   "id": "ad3d34d5-8935-4f43-8515-cc676c962dae",
   "metadata": {},
   "outputs": [],
   "source": [
    "diags = pd.read_csv(f's3://{db}/{h}_db/diagnoses/{h}_diagnoses.csv')"
   ]
  },
  {
   "cell_type": "code",
   "execution_count": 10,
   "id": "df23a352-8b7a-46ac-b416-9ddfb607d275",
   "metadata": {},
   "outputs": [
    {
     "data": {
      "text/html": [
       "<div>\n",
       "<style scoped>\n",
       "    .dataframe tbody tr th:only-of-type {\n",
       "        vertical-align: middle;\n",
       "    }\n",
       "\n",
       "    .dataframe tbody tr th {\n",
       "        vertical-align: top;\n",
       "    }\n",
       "\n",
       "    .dataframe thead th {\n",
       "        text-align: right;\n",
       "    }\n",
       "</style>\n",
       "<table border=\"1\" class=\"dataframe\">\n",
       "  <thead>\n",
       "    <tr style=\"text-align: right;\">\n",
       "      <th></th>\n",
       "      <th>a_patientid</th>\n",
       "      <th>hospital_coded</th>\n",
       "      <th>diag_type</th>\n",
       "      <th>referencecode</th>\n",
       "      <th>referencecodename</th>\n",
       "    </tr>\n",
       "  </thead>\n",
       "  <tbody>\n",
       "    <tr>\n",
       "      <th>0</th>\n",
       "      <td>3070757</td>\n",
       "      <td>3</td>\n",
       "      <td>secondary</td>\n",
       "      <td>976.0/2</td>\n",
       "      <td>farmacs antiinfecciosos i antiinflamatoris lo...</td>\n",
       "    </tr>\n",
       "  </tbody>\n",
       "</table>\n",
       "</div>"
      ],
      "text/plain": [
       "   a_patientid  hospital_coded  diag_type referencecode  \\\n",
       "0      3070757               3  secondary       976.0/2   \n",
       "\n",
       "                                   referencecodename  \n",
       "0   farmacs antiinfecciosos i antiinflamatoris lo...  "
      ]
     },
     "execution_count": 10,
     "metadata": {},
     "output_type": "execute_result"
    }
   ],
   "source": [
    "diags.head(1)"
   ]
  },
  {
   "cell_type": "code",
   "execution_count": 11,
   "id": "05525f07-dfc4-4a1a-92cf-39a80e0d7ac9",
   "metadata": {},
   "outputs": [],
   "source": [
    "dp_pneumo_codes = tuple(set(diags[diags['referencecodename'].str.contains('pneum', case=False)]['referencecode']))\n",
    "ds_miopat_codes = tuple(set(diags[diags['referencecodename'].str.contains('miopat', case=False)]['referencecode']))"
   ]
  },
  {
   "cell_type": "code",
   "execution_count": 12,
   "id": "f412fba5-d56d-40c3-a4be-77fa5b49f834",
   "metadata": {},
   "outputs": [],
   "source": [
    "dp_patlist = tuple(set(diags[(diags['diag_type']=='primary') & (diags['referencecode'].isin(dp_pneumo_codes))]['a_patientid']))\n",
    "ds_patlist = tuple(set(diags[(diags['diag_type']=='secondary') & (diags['referencecode'].isin(ds_miopat_codes))]['a_patientid']))\n",
    "d_patlist = list(set(dp_patlist).intersection(ds_patlist))"
   ]
  },
  {
   "cell_type": "code",
   "execution_count": 13,
   "id": "3be7212e-a0e5-4644-b8a1-94216ccb101f",
   "metadata": {},
   "outputs": [],
   "source": [
    "los7d_diags = los7d[los7d['a_patientid'].isin(d_patlist)]"
   ]
  },
  {
   "cell_type": "markdown",
   "id": "8e99ab4d-977f-4b09-8a7e-b2c8f32b3bac",
   "metadata": {},
   "source": [
    "### 3- Central Venous Cateter (CVC)  "
   ]
  },
  {
   "cell_type": "code",
   "execution_count": 14,
   "id": "21529f2c-0542-43cb-bdbc-ea169fbbd709",
   "metadata": {},
   "outputs": [],
   "source": [
    "insertions = pd.read_csv(f's3://{db}/{h}_db/insertions/{h}_insertions.csv')"
   ]
  },
  {
   "cell_type": "code",
   "execution_count": 15,
   "id": "37a126b6-7fec-43cb-a2e5-dabaad004db6",
   "metadata": {},
   "outputs": [
    {
     "data": {
      "text/html": [
       "<div>\n",
       "<style scoped>\n",
       "    .dataframe tbody tr th:only-of-type {\n",
       "        vertical-align: middle;\n",
       "    }\n",
       "\n",
       "    .dataframe tbody tr th {\n",
       "        vertical-align: top;\n",
       "    }\n",
       "\n",
       "    .dataframe thead th {\n",
       "        text-align: right;\n",
       "    }\n",
       "</style>\n",
       "<table border=\"1\" class=\"dataframe\">\n",
       "  <thead>\n",
       "    <tr style=\"text-align: right;\">\n",
       "      <th></th>\n",
       "      <th>a_patientid</th>\n",
       "      <th>a_insertionid</th>\n",
       "      <th>hospital_coded</th>\n",
       "      <th>starttime</th>\n",
       "      <th>endtime</th>\n",
       "      <th>insertionname</th>\n",
       "      <th>insertionplacename</th>\n",
       "    </tr>\n",
       "  </thead>\n",
       "  <tbody>\n",
       "    <tr>\n",
       "      <th>0</th>\n",
       "      <td>3861270</td>\n",
       "      <td>3000000484</td>\n",
       "      <td>3</td>\n",
       "      <td>253</td>\n",
       "      <td>5798</td>\n",
       "      <td>TUB ENDOTRAQUEAL</td>\n",
       "      <td>BOCA</td>\n",
       "    </tr>\n",
       "  </tbody>\n",
       "</table>\n",
       "</div>"
      ],
      "text/plain": [
       "   a_patientid  a_insertionid  hospital_coded  starttime  endtime  \\\n",
       "0      3861270     3000000484               3        253     5798   \n",
       "\n",
       "      insertionname insertionplacename  \n",
       "0  TUB ENDOTRAQUEAL               BOCA  "
      ]
     },
     "execution_count": 15,
     "metadata": {},
     "output_type": "execute_result"
    }
   ],
   "source": [
    "insertions.head(1)"
   ]
  },
  {
   "cell_type": "code",
   "execution_count": 16,
   "id": "2de67614-347a-4498-a7b3-ae8489e52b1e",
   "metadata": {},
   "outputs": [],
   "source": [
    "cvc_patlist = tuple(set(insertions[insertions['insertionname'].str.contains('central', case=False)]['a_patientid']))"
   ]
  },
  {
   "cell_type": "code",
   "execution_count": 17,
   "id": "3bad9ccf-2a38-4730-8f49-4efec667ec19",
   "metadata": {},
   "outputs": [],
   "source": [
    "los7d_diags_cvc = los7d_diags[los7d_diags['a_patientid'].isin(cvc_patlist)]"
   ]
  },
  {
   "cell_type": "markdown",
   "id": "cb26aac5-38cd-4d67-8419-965e3f15fb86",
   "metadata": {},
   "source": [
    "### 4- Invasive Mechanical Ventilation (IMV)  "
   ]
  },
  {
   "cell_type": "markdown",
   "id": "5955d53a-7bba-48e3-b012-b8917bcf2127",
   "metadata": {},
   "source": [
    "#### First, import variables_ref table to look for the variable code"
   ]
  },
  {
   "cell_type": "code",
   "execution_count": 18,
   "id": "6e9aea45-d87a-498a-94ae-6044c6533e63",
   "metadata": {},
   "outputs": [],
   "source": [
    "variables_ref = pd.read_csv(f's3://{db}/{h}_db/variables_ref/{h}_variables_ref.csv')"
   ]
  },
  {
   "cell_type": "code",
   "execution_count": 19,
   "id": "1b47cbbf-057f-4c98-a130-8b4e31bb9ce2",
   "metadata": {},
   "outputs": [
    {
     "data": {
      "text/html": [
       "<div>\n",
       "<style scoped>\n",
       "    .dataframe tbody tr th:only-of-type {\n",
       "        vertical-align: middle;\n",
       "    }\n",
       "\n",
       "    .dataframe tbody tr th {\n",
       "        vertical-align: top;\n",
       "    }\n",
       "\n",
       "    .dataframe thead th {\n",
       "        text-align: right;\n",
       "    }\n",
       "</style>\n",
       "<table border=\"1\" class=\"dataframe\">\n",
       "  <thead>\n",
       "    <tr style=\"text-align: right;\">\n",
       "      <th></th>\n",
       "      <th>a_variableid</th>\n",
       "      <th>hospital_coded</th>\n",
       "      <th>vartype</th>\n",
       "      <th>datatype</th>\n",
       "      <th>name</th>\n",
       "      <th>abbreviation</th>\n",
       "      <th>description</th>\n",
       "      <th>choicecode</th>\n",
       "      <th>choicestringvalue</th>\n",
       "    </tr>\n",
       "  </thead>\n",
       "  <tbody>\n",
       "    <tr>\n",
       "      <th>0</th>\n",
       "      <td>3000000100</td>\n",
       "      <td>3</td>\n",
       "      <td>1</td>\n",
       "      <td>0</td>\n",
       "      <td>PAs</td>\n",
       "      <td>PAs</td>\n",
       "      <td>1.REGISTRE MANUAL contingència</td>\n",
       "      <td>NaN</td>\n",
       "      <td>NaN</td>\n",
       "    </tr>\n",
       "  </tbody>\n",
       "</table>\n",
       "</div>"
      ],
      "text/plain": [
       "   a_variableid  hospital_coded  vartype  datatype name abbreviation  \\\n",
       "0    3000000100               3        1         0  PAs          PAs   \n",
       "\n",
       "                      description  choicecode choicestringvalue  \n",
       "0  1.REGISTRE MANUAL contingència         NaN               NaN  "
      ]
     },
     "execution_count": 19,
     "metadata": {},
     "output_type": "execute_result"
    }
   ],
   "source": [
    "variables_ref.head(1)"
   ]
  },
  {
   "cell_type": "code",
   "execution_count": 20,
   "id": "4f670d99-1b8b-45fa-ae99-372d2585cf7f",
   "metadata": {},
   "outputs": [
    {
     "name": "stdout",
     "output_type": "stream",
     "text": [
      "(333, 9)\n",
      "To many results, so you decide to ask to the mentors and they say that for that hospital, this feature is a categorical (datatype=1) and observed (vartype=4) feature called 'Teràpia real O2' with the option 'Vent Mecànica'\n"
     ]
    }
   ],
   "source": [
    "# define key characters (remember that strings in this db can be in english, catalan or spanish language) to start a blind search\n",
    "\n",
    "key_chars = 'vent|mec|inv'\n",
    "\n",
    "result = variables_ref[(variables_ref['name'].str.contains(key_chars, case=False, na=False)) | (\n",
    "    variables_ref['description'].str.contains(key_chars, case=False, na=False)) | (\n",
    "    variables_ref['choicestringvalue'].str.contains(key_chars, case=False, na=False))]\n",
    "\n",
    "print(result.shape)\n",
    "\n",
    "print(\"To many results, so you decide to ask to the mentors and they say that for that hospital, this feature is a categorical (datatype=1) and observed (vartype=4) \\\n",
    "feature called 'Teràpia real O2' with the option 'Vent Mecànica'\")"
   ]
  },
  {
   "cell_type": "code",
   "execution_count": 21,
   "id": "cd4dbfab-8861-4e74-b5ad-3ea1904f392b",
   "metadata": {},
   "outputs": [
    {
     "name": "stdout",
     "output_type": "stream",
     "text": [
      "So you finally get your result:\n"
     ]
    },
    {
     "data": {
      "text/html": [
       "<div>\n",
       "<style scoped>\n",
       "    .dataframe tbody tr th:only-of-type {\n",
       "        vertical-align: middle;\n",
       "    }\n",
       "\n",
       "    .dataframe tbody tr th {\n",
       "        vertical-align: top;\n",
       "    }\n",
       "\n",
       "    .dataframe thead th {\n",
       "        text-align: right;\n",
       "    }\n",
       "</style>\n",
       "<table border=\"1\" class=\"dataframe\">\n",
       "  <thead>\n",
       "    <tr style=\"text-align: right;\">\n",
       "      <th></th>\n",
       "      <th>a_variableid</th>\n",
       "      <th>hospital_coded</th>\n",
       "      <th>vartype</th>\n",
       "      <th>datatype</th>\n",
       "      <th>name</th>\n",
       "      <th>abbreviation</th>\n",
       "      <th>description</th>\n",
       "      <th>choicecode</th>\n",
       "      <th>choicestringvalue</th>\n",
       "    </tr>\n",
       "  </thead>\n",
       "  <tbody>\n",
       "    <tr>\n",
       "      <th>1949</th>\n",
       "      <td>3015002262</td>\n",
       "      <td>3</td>\n",
       "      <td>4</td>\n",
       "      <td>1</td>\n",
       "      <td>Teràpia real O2</td>\n",
       "      <td>O2 Teràpia</td>\n",
       "      <td>DI 21.CONTROL RESPIRATORI.\\nVariable utilitzad...</td>\n",
       "      <td>12.0</td>\n",
       "      <td>Vent Mecànica</td>\n",
       "    </tr>\n",
       "  </tbody>\n",
       "</table>\n",
       "</div>"
      ],
      "text/plain": [
       "      a_variableid  hospital_coded  vartype  datatype             name  \\\n",
       "1949    3015002262               3        4         1  Teràpia real O2   \n",
       "\n",
       "     abbreviation                                        description  \\\n",
       "1949   O2 Teràpia  DI 21.CONTROL RESPIRATORI.\\nVariable utilitzad...   \n",
       "\n",
       "      choicecode choicestringvalue  \n",
       "1949        12.0     Vent Mecànica  "
      ]
     },
     "execution_count": 21,
     "metadata": {},
     "output_type": "execute_result"
    }
   ],
   "source": [
    "result2 = result[(result['datatype']==1) & (result['vartype']==4) & (result['name'].str.contains('Teràpia real O2', case=False, na=False)) & (\n",
    "    result['choicestringvalue'].str.contains('Vent Mecànica', case=False, na=False))]\n",
    "\n",
    "print('So you finally get your result:')\n",
    "result2"
   ]
  },
  {
   "cell_type": "markdown",
   "id": "bf84a3fc-2004-4b61-86ee-3471e2c70746",
   "metadata": {},
   "source": [
    "#### Get patients with IMV registries for those who have accomplished with the inclusion criteria up to now"
   ]
  },
  {
   "cell_type": "code",
   "execution_count": 22,
   "id": "402a0396-d65a-4f9b-9053-40e88b65e286",
   "metadata": {},
   "outputs": [],
   "source": [
    "# take a look to the table structure using the first chunk of the table:\n",
    "\n",
    "v_observed_chunk = pd.read_csv(f's3://{db}/{h}_db/v_observed/{h}_observed001.csv')"
   ]
  },
  {
   "cell_type": "code",
   "execution_count": 23,
   "id": "2eb61eea-3dc2-42b1-936f-0d5687c17ca5",
   "metadata": {},
   "outputs": [
    {
     "data": {
      "text/html": [
       "<div>\n",
       "<style scoped>\n",
       "    .dataframe tbody tr th:only-of-type {\n",
       "        vertical-align: middle;\n",
       "    }\n",
       "\n",
       "    .dataframe tbody tr th {\n",
       "        vertical-align: top;\n",
       "    }\n",
       "\n",
       "    .dataframe thead th {\n",
       "        text-align: right;\n",
       "    }\n",
       "</style>\n",
       "<table border=\"1\" class=\"dataframe\">\n",
       "  <thead>\n",
       "    <tr style=\"text-align: right;\">\n",
       "      <th></th>\n",
       "      <th>a_patientid</th>\n",
       "      <th>a_variableid</th>\n",
       "      <th>time</th>\n",
       "      <th>value</th>\n",
       "    </tr>\n",
       "  </thead>\n",
       "  <tbody>\n",
       "    <tr>\n",
       "      <th>0</th>\n",
       "      <td>3961761</td>\n",
       "      <td>3010000100</td>\n",
       "      <td>1167</td>\n",
       "      <td>1.0</td>\n",
       "    </tr>\n",
       "  </tbody>\n",
       "</table>\n",
       "</div>"
      ],
      "text/plain": [
       "   a_patientid  a_variableid  time  value\n",
       "0      3961761    3010000100  1167    1.0"
      ]
     },
     "execution_count": 23,
     "metadata": {},
     "output_type": "execute_result"
    }
   ],
   "source": [
    "v_observed_chunk.head(1)"
   ]
  },
  {
   "cell_type": "code",
   "execution_count": 24,
   "id": "d90897b7-88d9-4825-afc8-9d6b0a2ca80b",
   "metadata": {},
   "outputs": [
    {
     "name": "stdout",
     "output_type": "stream",
     "text": [
      "CPU times: user 15.6 s, sys: 1.59 s, total: 17.2 s\n",
      "Wall time: 54.2 s\n"
     ]
    }
   ],
   "source": [
    "%%time\n",
    "\n",
    "bucket = s3.Bucket('icusics-db-demo')\n",
    "imv_patlist = tuple()\n",
    "\n",
    "for my_bucket_object in bucket.objects.all():\n",
    "    \n",
    "    if all(x in my_bucket_object.key for x in ['h3', 'v_observed']):\n",
    "            \n",
    "        chunk = pd.read_csv(f's3://{db}/{my_bucket_object.key}')\n",
    "        imv_patlist_chunk = tuple(set(chunk[(chunk['a_variableid']==3015002262) & (chunk['value']==12) & (\n",
    "            chunk['a_patientid'].isin(tuple(set(los7d_diags_cvc['a_patientid']))))]['a_patientid']))\n",
    "        imv_patlist = imv_patlist + imv_patlist_chunk"
   ]
  },
  {
   "cell_type": "code",
   "execution_count": 25,
   "id": "2d277e41-9922-4a15-90b2-90a377f0151b",
   "metadata": {},
   "outputs": [],
   "source": [
    "los7d_diags_cvc_imv = los7d_diags_cvc[los7d_diags_cvc['a_patientid'].isin(imv_patlist)]"
   ]
  },
  {
   "cell_type": "markdown",
   "id": "0cefc4c6-87db-4299-bf8b-a6e33e06af19",
   "metadata": {},
   "source": [
    "#### 5- APACHE2 > 20 "
   ]
  },
  {
   "cell_type": "code",
   "execution_count": 26,
   "id": "29fa7559-1be4-436c-a645-f8c17eedd660",
   "metadata": {},
   "outputs": [
    {
     "name": "stdout",
     "output_type": "stream",
     "text": [
      "(62, 9)\n",
      "To many results, so you decide to ask to the mentors and they say that for that hospital, this feature is a numeric (datatype=0) and derived (vartype=8) feature called 'APACHE 2 validado'\n"
     ]
    }
   ],
   "source": [
    "# define key characters (remember that strings in this db can be in english, catalan or spanish language) to start a blind search\n",
    "\n",
    "key_chars = 'apache'\n",
    "\n",
    "result = variables_ref[(variables_ref['name'].str.contains(key_chars, case=False, na=False)) | (\n",
    "    variables_ref['description'].str.contains(key_chars, case=False, na=False)) | (\n",
    "    variables_ref['choicestringvalue'].str.contains(key_chars, case=False, na=False))]\n",
    "\n",
    "print(result.shape)\n",
    "\n",
    "print(\"To many results, so you decide to ask to the mentors and they say that for that hospital, this feature is a numeric (datatype=0) and derived (vartype=8) \\\n",
    "feature called 'APACHE 2 validado'\")"
   ]
  },
  {
   "cell_type": "code",
   "execution_count": 27,
   "id": "b10faaa9-3067-42f8-942b-10f67be6b1f6",
   "metadata": {},
   "outputs": [
    {
     "name": "stdout",
     "output_type": "stream",
     "text": [
      "So you finally get your result:\n"
     ]
    },
    {
     "data": {
      "text/html": [
       "<div>\n",
       "<style scoped>\n",
       "    .dataframe tbody tr th:only-of-type {\n",
       "        vertical-align: middle;\n",
       "    }\n",
       "\n",
       "    .dataframe tbody tr th {\n",
       "        vertical-align: top;\n",
       "    }\n",
       "\n",
       "    .dataframe thead th {\n",
       "        text-align: right;\n",
       "    }\n",
       "</style>\n",
       "<table border=\"1\" class=\"dataframe\">\n",
       "  <thead>\n",
       "    <tr style=\"text-align: right;\">\n",
       "      <th></th>\n",
       "      <th>a_variableid</th>\n",
       "      <th>hospital_coded</th>\n",
       "      <th>vartype</th>\n",
       "      <th>datatype</th>\n",
       "      <th>name</th>\n",
       "      <th>abbreviation</th>\n",
       "      <th>description</th>\n",
       "      <th>choicecode</th>\n",
       "      <th>choicestringvalue</th>\n",
       "    </tr>\n",
       "  </thead>\n",
       "  <tbody>\n",
       "    <tr>\n",
       "      <th>5790</th>\n",
       "      <td>3030000350</td>\n",
       "      <td>3</td>\n",
       "      <td>8</td>\n",
       "      <td>0</td>\n",
       "      <td>APACHE 2 validado</td>\n",
       "      <td>APACHE 2 man</td>\n",
       "      <td>Validated APACHE II score</td>\n",
       "      <td>NaN</td>\n",
       "      <td>NaN</td>\n",
       "    </tr>\n",
       "  </tbody>\n",
       "</table>\n",
       "</div>"
      ],
      "text/plain": [
       "      a_variableid  hospital_coded  vartype  datatype               name  \\\n",
       "5790    3030000350               3        8         0  APACHE 2 validado   \n",
       "\n",
       "      abbreviation                description  choicecode choicestringvalue  \n",
       "5790  APACHE 2 man  Validated APACHE II score         NaN               NaN  "
      ]
     },
     "execution_count": 27,
     "metadata": {},
     "output_type": "execute_result"
    }
   ],
   "source": [
    "result2 = result[(result['datatype']==0) & (result['vartype']==8) & (result['name'].str.contains('apache 2 validado', case=False, na=False))]\n",
    "\n",
    "print('So you finally get your result:')\n",
    "result2"
   ]
  },
  {
   "cell_type": "markdown",
   "id": "a688d779-b7ea-42a8-9c8f-9f69f9acd342",
   "metadata": {},
   "source": [
    "#### Get patients with an APACHE 2 higher of 20 for those who have accomplished with the inclusion criteria up to now"
   ]
  },
  {
   "cell_type": "code",
   "execution_count": 39,
   "id": "3b82eaa9-4015-4982-bcb3-832462bd08e5",
   "metadata": {},
   "outputs": [],
   "source": [
    "# take a look to the table structure using the first chunk of the table:\n",
    "\n",
    "v_derived_chunk = pd.read_csv(f's3://{db}/{h}_db/v_derived/{h}_derived001.csv')\n",
    "vderived_chunk = pd.read_csv(f's3://{db}/{h}_db/vderived/vderived_3000004_3009942.csv')\n",
    "vderived_hagg_chunk = pd.read_csv(f's3://{db}/{h}_db/vderived_hagg/hagg_vderived_3000004_3009942.csv')"
   ]
  },
  {
   "cell_type": "code",
   "execution_count": 55,
   "id": "1041ce89-411f-42de-aecd-c580f92fc375",
   "metadata": {},
   "outputs": [],
   "source": [
    "s = 'hagg_vderived_3000004_3009942.csv'"
   ]
  },
  {
   "cell_type": "code",
   "execution_count": 77,
   "id": "5fb4738e-e511-4fb9-8247-222e421a030e",
   "metadata": {},
   "outputs": [],
   "source": [
    "m = re.findall('\\d+', s)"
   ]
  },
  {
   "cell_type": "code",
   "execution_count": 78,
   "id": "7fcae733-6c10-4b94-b996-2728938b035b",
   "metadata": {},
   "outputs": [
    {
     "data": {
      "text/plain": [
       "'3000004'"
      ]
     },
     "execution_count": 78,
     "metadata": {},
     "output_type": "execute_result"
    }
   ],
   "source": [
    "m"
   ]
  },
  {
   "cell_type": "code",
   "execution_count": 40,
   "id": "1b2e54a6-a2ab-4855-9e43-5f40cadd395d",
   "metadata": {},
   "outputs": [
    {
     "data": {
      "text/html": [
       "<div>\n",
       "<style scoped>\n",
       "    .dataframe tbody tr th:only-of-type {\n",
       "        vertical-align: middle;\n",
       "    }\n",
       "\n",
       "    .dataframe tbody tr th {\n",
       "        vertical-align: top;\n",
       "    }\n",
       "\n",
       "    .dataframe thead th {\n",
       "        text-align: right;\n",
       "    }\n",
       "</style>\n",
       "<table border=\"1\" class=\"dataframe\">\n",
       "  <thead>\n",
       "    <tr style=\"text-align: right;\">\n",
       "      <th></th>\n",
       "      <th>a_patientid</th>\n",
       "      <th>a_variableid</th>\n",
       "      <th>time</th>\n",
       "      <th>value</th>\n",
       "    </tr>\n",
       "  </thead>\n",
       "  <tbody>\n",
       "    <tr>\n",
       "      <th>0</th>\n",
       "      <td>3669892</td>\n",
       "      <td>3030000100</td>\n",
       "      <td>0</td>\n",
       "      <td>7.0</td>\n",
       "    </tr>\n",
       "    <tr>\n",
       "      <th>1</th>\n",
       "      <td>3669892</td>\n",
       "      <td>3030000100</td>\n",
       "      <td>112</td>\n",
       "      <td>7.0</td>\n",
       "    </tr>\n",
       "    <tr>\n",
       "      <th>2</th>\n",
       "      <td>3669892</td>\n",
       "      <td>3030000100</td>\n",
       "      <td>6241</td>\n",
       "      <td>7.0</td>\n",
       "    </tr>\n",
       "    <tr>\n",
       "      <th>3</th>\n",
       "      <td>3319305</td>\n",
       "      <td>3030000100</td>\n",
       "      <td>0</td>\n",
       "      <td>5.0</td>\n",
       "    </tr>\n",
       "    <tr>\n",
       "      <th>4</th>\n",
       "      <td>3319305</td>\n",
       "      <td>3030000100</td>\n",
       "      <td>4520</td>\n",
       "      <td>5.0</td>\n",
       "    </tr>\n",
       "  </tbody>\n",
       "</table>\n",
       "</div>"
      ],
      "text/plain": [
       "   a_patientid  a_variableid  time  value\n",
       "0      3669892    3030000100     0    7.0\n",
       "1      3669892    3030000100   112    7.0\n",
       "2      3669892    3030000100  6241    7.0\n",
       "3      3319305    3030000100     0    5.0\n",
       "4      3319305    3030000100  4520    5.0"
      ]
     },
     "execution_count": 40,
     "metadata": {},
     "output_type": "execute_result"
    }
   ],
   "source": [
    "v_derived_chunk.head()"
   ]
  },
  {
   "cell_type": "code",
   "execution_count": 41,
   "id": "a3629c44-f511-4c2a-9532-4b614b3f7203",
   "metadata": {},
   "outputs": [
    {
     "data": {
      "text/html": [
       "<div>\n",
       "<style scoped>\n",
       "    .dataframe tbody tr th:only-of-type {\n",
       "        vertical-align: middle;\n",
       "    }\n",
       "\n",
       "    .dataframe tbody tr th {\n",
       "        vertical-align: top;\n",
       "    }\n",
       "\n",
       "    .dataframe thead th {\n",
       "        text-align: right;\n",
       "    }\n",
       "</style>\n",
       "<table border=\"1\" class=\"dataframe\">\n",
       "  <thead>\n",
       "    <tr style=\"text-align: right;\">\n",
       "      <th></th>\n",
       "      <th>a_patientid</th>\n",
       "      <th>a_variableid</th>\n",
       "      <th>time</th>\n",
       "      <th>value</th>\n",
       "    </tr>\n",
       "  </thead>\n",
       "  <tbody>\n",
       "    <tr>\n",
       "      <th>0</th>\n",
       "      <td>3001780</td>\n",
       "      <td>3030005060</td>\n",
       "      <td>127253</td>\n",
       "      <td>382.630</td>\n",
       "    </tr>\n",
       "    <tr>\n",
       "      <th>1</th>\n",
       "      <td>3001780</td>\n",
       "      <td>3030005060</td>\n",
       "      <td>127257</td>\n",
       "      <td>473.497</td>\n",
       "    </tr>\n",
       "    <tr>\n",
       "      <th>2</th>\n",
       "      <td>3001780</td>\n",
       "      <td>3030005060</td>\n",
       "      <td>127258</td>\n",
       "      <td>473.497</td>\n",
       "    </tr>\n",
       "    <tr>\n",
       "      <th>3</th>\n",
       "      <td>3001780</td>\n",
       "      <td>3030005060</td>\n",
       "      <td>127260</td>\n",
       "      <td>623.497</td>\n",
       "    </tr>\n",
       "    <tr>\n",
       "      <th>4</th>\n",
       "      <td>3001780</td>\n",
       "      <td>3030005060</td>\n",
       "      <td>127283</td>\n",
       "      <td>648.630</td>\n",
       "    </tr>\n",
       "  </tbody>\n",
       "</table>\n",
       "</div>"
      ],
      "text/plain": [
       "   a_patientid  a_variableid    time    value\n",
       "0      3001780    3030005060  127253  382.630\n",
       "1      3001780    3030005060  127257  473.497\n",
       "2      3001780    3030005060  127258  473.497\n",
       "3      3001780    3030005060  127260  623.497\n",
       "4      3001780    3030005060  127283  648.630"
      ]
     },
     "execution_count": 41,
     "metadata": {},
     "output_type": "execute_result"
    }
   ],
   "source": [
    "vderived_chunk.head()"
   ]
  },
  {
   "cell_type": "code",
   "execution_count": 42,
   "id": "0b3427a3-2764-4b5d-916b-f71e00a18941",
   "metadata": {},
   "outputs": [
    {
     "data": {
      "text/html": [
       "<div>\n",
       "<style scoped>\n",
       "    .dataframe tbody tr th:only-of-type {\n",
       "        vertical-align: middle;\n",
       "    }\n",
       "\n",
       "    .dataframe tbody tr th {\n",
       "        vertical-align: top;\n",
       "    }\n",
       "\n",
       "    .dataframe thead th {\n",
       "        text-align: right;\n",
       "    }\n",
       "</style>\n",
       "<table border=\"1\" class=\"dataframe\">\n",
       "  <thead>\n",
       "    <tr style=\"text-align: right;\">\n",
       "      <th></th>\n",
       "      <th>a_patientid</th>\n",
       "      <th>a_variableid</th>\n",
       "      <th>starttime</th>\n",
       "      <th>endtime</th>\n",
       "      <th>registries</th>\n",
       "      <th>min</th>\n",
       "      <th>max</th>\n",
       "      <th>median</th>\n",
       "      <th>sum</th>\n",
       "    </tr>\n",
       "  </thead>\n",
       "  <tbody>\n",
       "    <tr>\n",
       "      <th>0</th>\n",
       "      <td>3000004</td>\n",
       "      <td>3030000100</td>\n",
       "      <td>0.0</td>\n",
       "      <td>60.0</td>\n",
       "      <td>2</td>\n",
       "      <td>0.0</td>\n",
       "      <td>0.0</td>\n",
       "      <td>0.0</td>\n",
       "      <td>0.0</td>\n",
       "    </tr>\n",
       "    <tr>\n",
       "      <th>1</th>\n",
       "      <td>3000004</td>\n",
       "      <td>3030000100</td>\n",
       "      <td>9660.0</td>\n",
       "      <td>9720.0</td>\n",
       "      <td>2</td>\n",
       "      <td>0.0</td>\n",
       "      <td>0.0</td>\n",
       "      <td>0.0</td>\n",
       "      <td>0.0</td>\n",
       "    </tr>\n",
       "    <tr>\n",
       "      <th>2</th>\n",
       "      <td>3000004</td>\n",
       "      <td>3030000114</td>\n",
       "      <td>1080.0</td>\n",
       "      <td>1140.0</td>\n",
       "      <td>1</td>\n",
       "      <td>26.0</td>\n",
       "      <td>26.0</td>\n",
       "      <td>26.0</td>\n",
       "      <td>26.0</td>\n",
       "    </tr>\n",
       "    <tr>\n",
       "      <th>3</th>\n",
       "      <td>3000004</td>\n",
       "      <td>3030000114</td>\n",
       "      <td>2580.0</td>\n",
       "      <td>2640.0</td>\n",
       "      <td>1</td>\n",
       "      <td>8.0</td>\n",
       "      <td>8.0</td>\n",
       "      <td>8.0</td>\n",
       "      <td>8.0</td>\n",
       "    </tr>\n",
       "    <tr>\n",
       "      <th>4</th>\n",
       "      <td>3000004</td>\n",
       "      <td>3030000114</td>\n",
       "      <td>3720.0</td>\n",
       "      <td>3780.0</td>\n",
       "      <td>1</td>\n",
       "      <td>12.0</td>\n",
       "      <td>12.0</td>\n",
       "      <td>12.0</td>\n",
       "      <td>12.0</td>\n",
       "    </tr>\n",
       "  </tbody>\n",
       "</table>\n",
       "</div>"
      ],
      "text/plain": [
       "   a_patientid  a_variableid  starttime  endtime  registries   min   max  \\\n",
       "0      3000004    3030000100        0.0     60.0           2   0.0   0.0   \n",
       "1      3000004    3030000100     9660.0   9720.0           2   0.0   0.0   \n",
       "2      3000004    3030000114     1080.0   1140.0           1  26.0  26.0   \n",
       "3      3000004    3030000114     2580.0   2640.0           1   8.0   8.0   \n",
       "4      3000004    3030000114     3720.0   3780.0           1  12.0  12.0   \n",
       "\n",
       "   median   sum  \n",
       "0     0.0   0.0  \n",
       "1     0.0   0.0  \n",
       "2    26.0  26.0  \n",
       "3     8.0   8.0  \n",
       "4    12.0  12.0  "
      ]
     },
     "execution_count": 42,
     "metadata": {},
     "output_type": "execute_result"
    }
   ],
   "source": [
    "vderived_hagg_chunk.head()"
   ]
  },
  {
   "cell_type": "code",
   "execution_count": 123,
   "id": "ce53cb3b-2cb8-4070-9dcc-90950c91de70",
   "metadata": {},
   "outputs": [
    {
     "name": "stdout",
     "output_type": "stream",
     "text": [
      "CPU times: user 2min 7s, sys: 12.7 s, total: 2min 20s\n",
      "Wall time: 7min 2s\n"
     ]
    }
   ],
   "source": [
    "%%time\n",
    "\n",
    "bucket = s3.Bucket('icusics-db-demo')\n",
    "apache2_20_patlist = tuple()\n",
    "\n",
    "for my_bucket_object in bucket.objects.all():\n",
    "    \n",
    "    if all(x in my_bucket_object.key for x in ['h3', 'v_derived']):\n",
    "            \n",
    "        chunk = pd.read_csv(f's3://{db}/{my_bucket_object.key}')\n",
    "        apache2_20_patlist_chunk = tuple(set(chunk[(chunk['a_variableid']==3030000350) & (chunk['value']>20) & (\n",
    "            chunk['a_patientid'].isin(tuple(set(los7d_diags_cvc_imv['a_patientid']))))]['a_patientid']))\n",
    "        apache2_20_patlist = apache2_20_patlist + apache2_20_patlist_chunk"
   ]
  },
  {
   "cell_type": "code",
   "execution_count": 125,
   "id": "e9c40e2a-c44d-406b-9502-08be96430df8",
   "metadata": {},
   "outputs": [
    {
     "data": {
      "text/plain": [
       "[3001780,\n",
       " 3037324,\n",
       " 3068913,\n",
       " 3219293,\n",
       " 3257877,\n",
       " 3272164,\n",
       " 3275221,\n",
       " 3309946,\n",
       " 3345064,\n",
       " 3346463,\n",
       " 3356461,\n",
       " 3450913,\n",
       " 3454744,\n",
       " 3486278,\n",
       " 3511143,\n",
       " 3580417,\n",
       " 3592961,\n",
       " 3615379,\n",
       " 3647997,\n",
       " 3665240,\n",
       " 3666383,\n",
       " 3703957,\n",
       " 3718524,\n",
       " 3738345,\n",
       " 3792693,\n",
       " 3803957,\n",
       " 3876105,\n",
       " 3983254]"
      ]
     },
     "execution_count": 125,
     "metadata": {},
     "output_type": "execute_result"
    }
   ],
   "source": [
    "sorted(apache2_20_patlist)"
   ]
  },
  {
   "cell_type": "code",
   "execution_count": 115,
   "id": "f1f3fe4a-a89a-4bac-bec4-d6b9cd92812b",
   "metadata": {},
   "outputs": [
    {
     "name": "stdout",
     "output_type": "stream",
     "text": [
      "CPU times: user 1min 42s, sys: 11.7 s, total: 1min 54s\n",
      "Wall time: 3min 57s\n"
     ]
    }
   ],
   "source": [
    "%%time\n",
    "\n",
    "bucket = s3.Bucket('icusics-db-demo')\n",
    "apache2_20_patlist2 = tuple()\n",
    "\n",
    "for my_bucket_object in bucket.objects.all():\n",
    "    \n",
    "    if all(x in my_bucket_object.key for x in ['h3', 'vderived/']):\n",
    "        \n",
    "        boundaries = re.findall('\\d+', my_bucket_object.key)\n",
    "        lb = boundaries.pop(1)\n",
    "        ub = boundaries.pop()\n",
    "        for patid in sorted(list(set(los7d_diags_cvc_imv['a_patientid'].astype(str)))):\n",
    "            if patid>lb and patid<ub:\n",
    "                chunk = pd.read_csv(f's3://{db}/{my_bucket_object.key}')\n",
    "                apache2_20_patlist_chunk = tuple(set(chunk[(chunk['a_variableid']==3030000350) & (chunk['value']>20) & (\n",
    "                    chunk['a_patientid'].isin(tuple(set(los7d_diags_cvc_imv['a_patientid']))))]['a_patientid']))\n",
    "                apache2_20_patlist2 = apache2_20_patlist2 + apache2_20_patlist_chunk"
   ]
  },
  {
   "cell_type": "code",
   "execution_count": 121,
   "id": "a289d16e-69b3-44dd-81cd-5073de6d1c82",
   "metadata": {},
   "outputs": [
    {
     "data": {
      "text/plain": [
       "(3001780,\n",
       " 3037324,\n",
       " 3068913,\n",
       " 3219293,\n",
       " 3219293,\n",
       " 3219293,\n",
       " 3257877,\n",
       " 3257877,\n",
       " 3257877,\n",
       " 3272164,\n",
       " 3275221,\n",
       " 3272164,\n",
       " 3275221,\n",
       " 3309946,\n",
       " 3309946,\n",
       " 3345064,\n",
       " 3346463,\n",
       " 3345064,\n",
       " 3346463,\n",
       " 3345064,\n",
       " 3346463,\n",
       " 3356461,\n",
       " 3454744,\n",
       " 3450913,\n",
       " 3454744,\n",
       " 3450913,\n",
       " 3486278,\n",
       " 3511143,\n",
       " 3511143,\n",
       " 3511143,\n",
       " 3580417,\n",
       " 3592961,\n",
       " 3615379,\n",
       " 3647997,\n",
       " 3665240,\n",
       " 3666383,\n",
       " 3665240,\n",
       " 3666383,\n",
       " 3703957,\n",
       " 3703957,\n",
       " 3718524,\n",
       " 3718524,\n",
       " 3738345,\n",
       " 3792693,\n",
       " 3803957,\n",
       " 3876105,\n",
       " 3876105,\n",
       " 3983254)"
      ]
     },
     "execution_count": 121,
     "metadata": {},
     "output_type": "execute_result"
    }
   ],
   "source": [
    "apache2_20_patlist2"
   ]
  },
  {
   "cell_type": "code",
   "execution_count": 116,
   "id": "56c8f4e3-c526-44b8-a0ae-9e97c1062839",
   "metadata": {},
   "outputs": [
    {
     "name": "stdout",
     "output_type": "stream",
     "text": [
      "CPU times: user 40.8 s, sys: 3.76 s, total: 44.6 s\n",
      "Wall time: 1min 51s\n"
     ]
    }
   ],
   "source": [
    "%%time\n",
    "\n",
    "bucket = s3.Bucket('icusics-db-demo')\n",
    "apache2_20_patlist3 = tuple()\n",
    "\n",
    "for my_bucket_object in bucket.objects.all():\n",
    "    \n",
    "    if all(x in my_bucket_object.key for x in ['h3', 'vderived_hagg/']):\n",
    "        \n",
    "        boundaries = re.findall('\\d+', my_bucket_object.key)\n",
    "        lb = boundaries.pop(1)\n",
    "        ub = boundaries.pop()\n",
    "        for patid in sorted(list(set(los7d_diags_cvc_imv['a_patientid'].astype(str)))):\n",
    "            if patid>lb and patid<ub:\n",
    "                chunk = pd.read_csv(f's3://{db}/{my_bucket_object.key}')\n",
    "                apache2_20_patlist_chunk = tuple(set(chunk[(chunk['a_variableid']==3030000350) & (chunk['max']>20) & (\n",
    "                    chunk['a_patientid'].isin(tuple(set(los7d_diags_cvc_imv['a_patientid']))))]['a_patientid']))\n",
    "                apache2_20_patlist3 = apache2_20_patlist3 + apache2_20_patlist_chunk"
   ]
  },
  {
   "cell_type": "code",
   "execution_count": 122,
   "id": "cde4f7a3-28b5-44ed-90ee-6201ed4b7e35",
   "metadata": {},
   "outputs": [
    {
     "data": {
      "text/plain": [
       "(3001780,\n",
       " 3037324,\n",
       " 3068913,\n",
       " 3219293,\n",
       " 3219293,\n",
       " 3219293,\n",
       " 3257877,\n",
       " 3257877,\n",
       " 3257877,\n",
       " 3272164,\n",
       " 3275221,\n",
       " 3272164,\n",
       " 3275221,\n",
       " 3309946,\n",
       " 3309946,\n",
       " 3345064,\n",
       " 3346463,\n",
       " 3345064,\n",
       " 3346463,\n",
       " 3345064,\n",
       " 3346463,\n",
       " 3356461,\n",
       " 3454744,\n",
       " 3450913,\n",
       " 3454744,\n",
       " 3450913,\n",
       " 3486278,\n",
       " 3511143,\n",
       " 3511143,\n",
       " 3511143,\n",
       " 3580417,\n",
       " 3592961,\n",
       " 3615379,\n",
       " 3647997,\n",
       " 3665240,\n",
       " 3666383,\n",
       " 3665240,\n",
       " 3666383,\n",
       " 3703957,\n",
       " 3703957,\n",
       " 3718524,\n",
       " 3718524,\n",
       " 3738345,\n",
       " 3792693,\n",
       " 3803957,\n",
       " 3876105,\n",
       " 3876105,\n",
       " 3983254)"
      ]
     },
     "execution_count": 122,
     "metadata": {},
     "output_type": "execute_result"
    }
   ],
   "source": [
    "apache2_20_patlist3"
   ]
  },
  {
   "cell_type": "code",
   "execution_count": 117,
   "id": "1b01c97a-7c52-4cde-8e40-5f96dd170239",
   "metadata": {},
   "outputs": [],
   "source": [
    "los7d_diags_cvc_imv_apache = los7d_diags_cvc_imv[los7d_diags_cvc_imv['a_patientid'].isin(apache2_20_patlist)]"
   ]
  },
  {
   "cell_type": "code",
   "execution_count": 118,
   "id": "9b6d1a4f-5388-48a9-9f41-45601577ce01",
   "metadata": {},
   "outputs": [
    {
     "data": {
      "text/plain": [
       "(0, 13)"
      ]
     },
     "execution_count": 118,
     "metadata": {},
     "output_type": "execute_result"
    }
   ],
   "source": [
    "los7d_diags_cvc_imv_apache.shape"
   ]
  },
  {
   "cell_type": "markdown",
   "id": "4e2957f8-f806-4769-8772-fad9aaaae668",
   "metadata": {},
   "source": [
    "#### 6- Lactate (arterial) > 2mmol/L at first ICU day "
   ]
  },
  {
   "cell_type": "code",
   "execution_count": 36,
   "id": "7711c2be-6c91-401a-8869-a3cb7ebe8ccc",
   "metadata": {},
   "outputs": [
    {
     "name": "stdout",
     "output_type": "stream",
     "text": [
      "(8, 9)\n",
      "To many results, so you decide to ask to the mentors and they say that for that hospital, this feature is a numeric (datatype=0) and labres (vartype=2) feature that contains 'GSA' label in the abbreviation\n"
     ]
    }
   ],
   "source": [
    "# define key characters (remember that strings in this db can be in english, catalan or spanish language) to start a blind search\n",
    "\n",
    "key_chars = 'lactat'\n",
    "\n",
    "result = variables_ref[(variables_ref['name'].str.contains(key_chars, case=False, na=False)) | (\n",
    "    variables_ref['description'].str.contains(key_chars, case=False, na=False)) | (\n",
    "    variables_ref['choicestringvalue'].str.contains(key_chars, case=False, na=False))]\n",
    "\n",
    "print(result.shape)\n",
    "\n",
    "print(\"To many results, so you decide to ask to the mentors and they say that for that hospital, this feature is a numeric (datatype=0) and labres (vartype=2) \\\n",
    "feature that contains 'GSA' label in the abbreviation\")"
   ]
  },
  {
   "cell_type": "code",
   "execution_count": 37,
   "id": "3e259866-9e0f-4a1b-aaa6-bf8275051ea0",
   "metadata": {},
   "outputs": [
    {
     "name": "stdout",
     "output_type": "stream",
     "text": [
      "So you finally get your result:\n"
     ]
    },
    {
     "data": {
      "text/html": [
       "<div>\n",
       "<style scoped>\n",
       "    .dataframe tbody tr th:only-of-type {\n",
       "        vertical-align: middle;\n",
       "    }\n",
       "\n",
       "    .dataframe tbody tr th {\n",
       "        vertical-align: top;\n",
       "    }\n",
       "\n",
       "    .dataframe thead th {\n",
       "        text-align: right;\n",
       "    }\n",
       "</style>\n",
       "<table border=\"1\" class=\"dataframe\">\n",
       "  <thead>\n",
       "    <tr style=\"text-align: right;\">\n",
       "      <th></th>\n",
       "      <th>a_variableid</th>\n",
       "      <th>hospital_coded</th>\n",
       "      <th>vartype</th>\n",
       "      <th>datatype</th>\n",
       "      <th>name</th>\n",
       "      <th>abbreviation</th>\n",
       "      <th>description</th>\n",
       "      <th>choicecode</th>\n",
       "      <th>choicestringvalue</th>\n",
       "    </tr>\n",
       "  </thead>\n",
       "  <tbody>\n",
       "    <tr>\n",
       "      <th>5398</th>\n",
       "      <td>3024000658</td>\n",
       "      <td>3</td>\n",
       "      <td>2</td>\n",
       "      <td>0</td>\n",
       "      <td>Lactat art GSA</td>\n",
       "      <td>Lactat a GSA</td>\n",
       "      <td>NaN</td>\n",
       "      <td>NaN</td>\n",
       "      <td>NaN</td>\n",
       "    </tr>\n",
       "    <tr>\n",
       "      <th>5435</th>\n",
       "      <td>3024000704</td>\n",
       "      <td>3</td>\n",
       "      <td>2</td>\n",
       "      <td>0</td>\n",
       "      <td>aSan-Lactat</td>\n",
       "      <td>Lactat _GSA</td>\n",
       "      <td>NaN</td>\n",
       "      <td>NaN</td>\n",
       "      <td>NaN</td>\n",
       "    </tr>\n",
       "  </tbody>\n",
       "</table>\n",
       "</div>"
      ],
      "text/plain": [
       "      a_variableid  hospital_coded  vartype  datatype            name  \\\n",
       "5398    3024000658               3        2         0  Lactat art GSA   \n",
       "5435    3024000704               3        2         0     aSan-Lactat   \n",
       "\n",
       "      abbreviation description  choicecode choicestringvalue  \n",
       "5398  Lactat a GSA         NaN         NaN               NaN  \n",
       "5435   Lactat _GSA         NaN         NaN               NaN  "
      ]
     },
     "execution_count": 37,
     "metadata": {},
     "output_type": "execute_result"
    }
   ],
   "source": [
    "result2 = result[(result['datatype']==0) & (result['vartype']==2) & (result['name'].str.contains('lactat', case=False, na=False)) & (\n",
    "    result['abbreviation'].str.contains('GSA', case=False, na=False))]\n",
    "\n",
    "print('So you finally get your result:')\n",
    "result2"
   ]
  },
  {
   "cell_type": "markdown",
   "id": "6c17a62e-74b3-4b53-ae4c-6f0ba605f530",
   "metadata": {},
   "source": [
    "#### Get patients with an arterial lactate higher than 2mmol/L during the first ICU day for those who have accomplished with the inclusion criteria"
   ]
  },
  {
   "cell_type": "code",
   "execution_count": 38,
   "id": "e693b32e-aeb1-4254-94fe-151f436e182e",
   "metadata": {},
   "outputs": [],
   "source": [
    "# take a look to the table structure using the first chunk of the table:\n",
    "\n",
    "v_labres_chunk = pd.read_csv(f's3://{db}/{h}_db/v_labres/{h}_labs001.csv')"
   ]
  },
  {
   "cell_type": "code",
   "execution_count": 39,
   "id": "9469550f-f49a-420f-a4a0-98bc8cf4f3c0",
   "metadata": {},
   "outputs": [
    {
     "data": {
      "text/html": [
       "<div>\n",
       "<style scoped>\n",
       "    .dataframe tbody tr th:only-of-type {\n",
       "        vertical-align: middle;\n",
       "    }\n",
       "\n",
       "    .dataframe tbody tr th {\n",
       "        vertical-align: top;\n",
       "    }\n",
       "\n",
       "    .dataframe thead th {\n",
       "        text-align: right;\n",
       "    }\n",
       "</style>\n",
       "<table border=\"1\" class=\"dataframe\">\n",
       "  <thead>\n",
       "    <tr style=\"text-align: right;\">\n",
       "      <th></th>\n",
       "      <th>a_patientid</th>\n",
       "      <th>a_variableid</th>\n",
       "      <th>time</th>\n",
       "      <th>value</th>\n",
       "    </tr>\n",
       "  </thead>\n",
       "  <tbody>\n",
       "    <tr>\n",
       "      <th>0</th>\n",
       "      <td>3070757</td>\n",
       "      <td>3020000100</td>\n",
       "      <td>21140</td>\n",
       "      <td>27.0</td>\n",
       "    </tr>\n",
       "  </tbody>\n",
       "</table>\n",
       "</div>"
      ],
      "text/plain": [
       "   a_patientid  a_variableid   time  value\n",
       "0      3070757    3020000100  21140   27.0"
      ]
     },
     "execution_count": 39,
     "metadata": {},
     "output_type": "execute_result"
    }
   ],
   "source": [
    "v_labres_chunk.head(1)"
   ]
  },
  {
   "cell_type": "code",
   "execution_count": 40,
   "id": "263e402d-05b2-4aea-ab67-3ae544c9e008",
   "metadata": {},
   "outputs": [
    {
     "name": "stdout",
     "output_type": "stream",
     "text": [
      "CPU times: user 1.54 s, sys: 104 ms, total: 1.64 s\n",
      "Wall time: 3.87 s\n"
     ]
    }
   ],
   "source": [
    "%%time\n",
    "\n",
    "bucket = s3.Bucket('icusics-db-demo')\n",
    "f_lactate_2_patlist = tuple()\n",
    "\n",
    "for my_bucket_object in bucket.objects.all():\n",
    "    \n",
    "    if all(x in my_bucket_object.key for x in ['h3', 'v_labres']):\n",
    "            \n",
    "        chunk = pd.read_csv(f's3://{db}/{my_bucket_object.key}')\n",
    "        f_lactate_2_patlist_chunk = tuple(set(chunk[(chunk['a_variableid'].isin([3024000658,3024000704])) & (chunk['value']>2) & (chunk['time']<1440) & (\n",
    "            chunk['a_patientid'].isin(tuple(set(los7d_diags_cvc_imv_apache['a_patientid']))))]['a_patientid']))\n",
    "        f_lactate_2_patlist = f_lactate_2_patlist + f_lactate_2_patlist_chunk"
   ]
  },
  {
   "cell_type": "code",
   "execution_count": 41,
   "id": "853794c6-7034-4d62-bb81-777a45721201",
   "metadata": {},
   "outputs": [],
   "source": [
    "los7d_diags_cvc_imv_apache_lactate = los7d_diags_cvc_imv_apache[los7d_diags_cvc_imv_apache['a_patientid'].isin(f_lactate_2_patlist)]"
   ]
  },
  {
   "cell_type": "markdown",
   "id": "eff40e3c-93f8-440c-b011-ecd802c2a47c",
   "metadata": {},
   "source": [
    "#### 7- Respiratory Rate (RR) > 30 "
   ]
  },
  {
   "cell_type": "code",
   "execution_count": 46,
   "id": "4a12b7f1-e355-426b-945e-de379db0b83f",
   "metadata": {},
   "outputs": [
    {
     "name": "stdout",
     "output_type": "stream",
     "text": [
      "(359, 9)\n",
      "To many results, so you decide to ask to the mentors and they say that for that hospital, this feature is a numeric (datatype=0) and monitored (vartype=1) feature that is named 'FR (m)'\n"
     ]
    }
   ],
   "source": [
    "# define key characters (remember that strings in this db can be in english, catalan or spanish language) to start a blind search\n",
    "\n",
    "key_chars = 'respiratory rate|rr|fr'\n",
    "\n",
    "result = variables_ref[(variables_ref['name'].str.contains(key_chars, case=False, na=False)) | (\n",
    "    variables_ref['description'].str.contains(key_chars, case=False, na=False)) | (\n",
    "    variables_ref['choicestringvalue'].str.contains(key_chars, case=False, na=False))]\n",
    "\n",
    "print(result.shape)\n",
    "\n",
    "print(\"To many results, so you decide to ask to the mentors and they say that for that hospital, this feature is a numeric (datatype=0) and monitored (vartype=1) \\\n",
    "feature that is named 'FR monitor'\")"
   ]
  },
  {
   "cell_type": "code",
   "execution_count": 73,
   "id": "6b326219-3efd-4f0c-a19c-0542d0db19e1",
   "metadata": {},
   "outputs": [
    {
     "name": "stdout",
     "output_type": "stream",
     "text": [
      "So you finally get your result:\n"
     ]
    },
    {
     "data": {
      "text/html": [
       "<div>\n",
       "<style scoped>\n",
       "    .dataframe tbody tr th:only-of-type {\n",
       "        vertical-align: middle;\n",
       "    }\n",
       "\n",
       "    .dataframe tbody tr th {\n",
       "        vertical-align: top;\n",
       "    }\n",
       "\n",
       "    .dataframe thead th {\n",
       "        text-align: right;\n",
       "    }\n",
       "</style>\n",
       "<table border=\"1\" class=\"dataframe\">\n",
       "  <thead>\n",
       "    <tr style=\"text-align: right;\">\n",
       "      <th></th>\n",
       "      <th>a_variableid</th>\n",
       "      <th>hospital_coded</th>\n",
       "      <th>vartype</th>\n",
       "      <th>datatype</th>\n",
       "      <th>name</th>\n",
       "      <th>abbreviation</th>\n",
       "      <th>description</th>\n",
       "      <th>choicecode</th>\n",
       "      <th>choicestringvalue</th>\n",
       "    </tr>\n",
       "  </thead>\n",
       "  <tbody>\n",
       "    <tr>\n",
       "      <th>190</th>\n",
       "      <td>3000005600</td>\n",
       "      <td>3</td>\n",
       "      <td>1</td>\n",
       "      <td>0</td>\n",
       "      <td>FR monitor</td>\n",
       "      <td>FR monitor</td>\n",
       "      <td>NaN</td>\n",
       "      <td>NaN</td>\n",
       "      <td>NaN</td>\n",
       "    </tr>\n",
       "  </tbody>\n",
       "</table>\n",
       "</div>"
      ],
      "text/plain": [
       "     a_variableid  hospital_coded  vartype  datatype        name abbreviation  \\\n",
       "190    3000005600               3        1         0  FR monitor   FR monitor   \n",
       "\n",
       "    description  choicecode choicestringvalue  \n",
       "190         NaN         NaN               NaN  "
      ]
     },
     "execution_count": 73,
     "metadata": {},
     "output_type": "execute_result"
    }
   ],
   "source": [
    "result2 = result[(result['datatype']==0) & (result['vartype']==1) & (result['name'].str.contains('FR monitor', case=True, na=False))]\n",
    "\n",
    "print('So you finally get your result:')\n",
    "result2"
   ]
  },
  {
   "cell_type": "code",
   "execution_count": 74,
   "id": "fc0649ec-6275-470b-be49-9bc611a70616",
   "metadata": {},
   "outputs": [
    {
     "name": "stdout",
     "output_type": "stream",
     "text": [
      "CPU times: user 38.9 s, sys: 4.2 s, total: 43.1 s\n",
      "Wall time: 1min 47s\n"
     ]
    }
   ],
   "source": [
    "%%time\n",
    "\n",
    "bucket = s3.Bucket('icusics-db-demo')\n",
    "rr_16_patlist = tuple()\n",
    "\n",
    "for my_bucket_object in bucket.objects.all():\n",
    "    \n",
    "    if all(x in my_bucket_object.key for x in ['h3', 'v_monitored']):\n",
    "            \n",
    "        chunk = pd.read_csv(f's3://{db}/{my_bucket_object.key}')\n",
    "        rr_16_patlist_chunk = tuple(set(chunk[(chunk['a_variableid']==3000005600) & (chunk['value']>30) & (\n",
    "            chunk['a_patientid'].isin(tuple(set(los7d_diags_cvc_imv_apache_lactate['a_patientid']))))]['a_patientid']))\n",
    "        rr_16_patlist = rr_16_patlist + rr_16_patlist_chunk"
   ]
  },
  {
   "cell_type": "code",
   "execution_count": 75,
   "id": "a5f031ef-5371-4a80-9fe2-624ee6b44e30",
   "metadata": {},
   "outputs": [],
   "source": [
    "los7d_diags_cvc_imv_apache_lactate_rr = los7d_diags_cvc_imv_apache_lactate[los7d_diags_cvc_imv_apache_lactate['a_patientid'].isin(rr_16_patlist)]"
   ]
  },
  {
   "cell_type": "markdown",
   "id": "318ede04-40d0-4635-bc37-e74692f2811d",
   "metadata": {},
   "source": [
    "#### 9- Sedative Drugs (VAD)"
   ]
  },
  {
   "cell_type": "code",
   "execution_count": 77,
   "id": "ce76fdfa-9b71-465f-9e60-3974643b480f",
   "metadata": {},
   "outputs": [],
   "source": [
    "drugs_ref = pd.read_csv(f's3://{db}/{h}_db/drugs_ref/{h}_drugs_ref.csv')"
   ]
  },
  {
   "cell_type": "code",
   "execution_count": 78,
   "id": "0bbbe8e1-5ca2-46d6-8761-b64c0628a247",
   "metadata": {},
   "outputs": [
    {
     "data": {
      "text/html": [
       "<div>\n",
       "<style scoped>\n",
       "    .dataframe tbody tr th:only-of-type {\n",
       "        vertical-align: middle;\n",
       "    }\n",
       "\n",
       "    .dataframe tbody tr th {\n",
       "        vertical-align: top;\n",
       "    }\n",
       "\n",
       "    .dataframe thead th {\n",
       "        text-align: right;\n",
       "    }\n",
       "</style>\n",
       "<table border=\"1\" class=\"dataframe\">\n",
       "  <thead>\n",
       "    <tr style=\"text-align: right;\">\n",
       "      <th></th>\n",
       "      <th>a_pharmaid</th>\n",
       "      <th>hospital_coded</th>\n",
       "      <th>pharmaname</th>\n",
       "      <th>pharmagroupname</th>\n",
       "      <th>pharmaformunit</th>\n",
       "      <th>pharmadoseunit</th>\n",
       "      <th>pharmadoseformratio</th>\n",
       "      <th>pharmavolumeunit</th>\n",
       "      <th>pharmavolumeformratio</th>\n",
       "    </tr>\n",
       "  </thead>\n",
       "  <tbody>\n",
       "    <tr>\n",
       "      <th>0</th>\n",
       "      <td>3000000004</td>\n",
       "      <td>3</td>\n",
       "      <td>COMPLEX DE PROTROMBINA 600 UI (F. IX) vi</td>\n",
       "      <td>.Antihemorràgics</td>\n",
       "      <td>vial</td>\n",
       "      <td>UI</td>\n",
       "      <td>600.0</td>\n",
       "      <td>ml</td>\n",
       "      <td>0.0</td>\n",
       "    </tr>\n",
       "  </tbody>\n",
       "</table>\n",
       "</div>"
      ],
      "text/plain": [
       "   a_pharmaid  hospital_coded                                pharmaname  \\\n",
       "0  3000000004               3  COMPLEX DE PROTROMBINA 600 UI (F. IX) vi   \n",
       "\n",
       "    pharmagroupname pharmaformunit pharmadoseunit  pharmadoseformratio  \\\n",
       "0  .Antihemorràgics           vial             UI                600.0   \n",
       "\n",
       "  pharmavolumeunit  pharmavolumeformratio  \n",
       "0               ml                    0.0  "
      ]
     },
     "execution_count": 78,
     "metadata": {},
     "output_type": "execute_result"
    }
   ],
   "source": [
    "drugs_ref.head(1)"
   ]
  },
  {
   "cell_type": "code",
   "execution_count": 82,
   "id": "e6fbff45-3d7f-40a7-bad5-351fdaeb9331",
   "metadata": {},
   "outputs": [],
   "source": [
    "drugs = pd.read_csv(f's3://{db}/{h}_db/drugs/{h}_drugs001.csv')"
   ]
  },
  {
   "cell_type": "code",
   "execution_count": 83,
   "id": "3165958e-b926-4ed5-8ade-badcdc73599d",
   "metadata": {},
   "outputs": [
    {
     "data": {
      "text/html": [
       "<div>\n",
       "<style scoped>\n",
       "    .dataframe tbody tr th:only-of-type {\n",
       "        vertical-align: middle;\n",
       "    }\n",
       "\n",
       "    .dataframe tbody tr th {\n",
       "        vertical-align: top;\n",
       "    }\n",
       "\n",
       "    .dataframe thead th {\n",
       "        text-align: right;\n",
       "    }\n",
       "</style>\n",
       "<table border=\"1\" class=\"dataframe\">\n",
       "  <thead>\n",
       "    <tr style=\"text-align: right;\">\n",
       "      <th></th>\n",
       "      <th>a_patientid</th>\n",
       "      <th>a_pharmaid</th>\n",
       "      <th>time</th>\n",
       "      <th>routename</th>\n",
       "      <th>routeid</th>\n",
       "      <th>rate</th>\n",
       "      <th>givendose</th>\n",
       "    </tr>\n",
       "  </thead>\n",
       "  <tbody>\n",
       "    <tr>\n",
       "      <th>0</th>\n",
       "      <td>3376095</td>\n",
       "      <td>3000000104</td>\n",
       "      <td>1292</td>\n",
       "      <td>PERF IV</td>\n",
       "      <td>98</td>\n",
       "      <td>10.0</td>\n",
       "      <td>0.010033</td>\n",
       "    </tr>\n",
       "  </tbody>\n",
       "</table>\n",
       "</div>"
      ],
      "text/plain": [
       "   a_patientid  a_pharmaid  time routename  routeid  rate  givendose\n",
       "0      3376095  3000000104  1292   PERF IV       98  10.0   0.010033"
      ]
     },
     "execution_count": 83,
     "metadata": {},
     "output_type": "execute_result"
    }
   ],
   "source": [
    "drugs.head(1)"
   ]
  },
  {
   "cell_type": "code",
   "execution_count": 88,
   "id": "6da687ab-5155-425e-9daa-eab9aa18c682",
   "metadata": {},
   "outputs": [
    {
     "name": "stdout",
     "output_type": "stream",
     "text": [
      "(18, 9)\n",
      "We have 18 drugs in the group of sedatives, so we save all them in a tuple and search for them in drugs table'\n"
     ]
    }
   ],
   "source": [
    "# define key characters (remember that strings in this db can be in english, catalan or spanish language) to start a blind search\n",
    "\n",
    "key_chars = 'sed'\n",
    "\n",
    "result = drugs_ref[(drugs_ref['pharmagroupname'].str.contains(key_chars, case=False, na=False))]\n",
    "\n",
    "print(result.shape)\n",
    "\n",
    "print(\"We have 18 drugs in the group of sedatives, so we save all them in a tuple and search for them in drugs table'\")\n",
    "\n",
    "sedatives_ids = tuple(set(result['a_pharmaid']))"
   ]
  },
  {
   "cell_type": "code",
   "execution_count": 102,
   "id": "3c256a5b-775c-460f-951c-f11fff84e059",
   "metadata": {},
   "outputs": [
    {
     "name": "stdout",
     "output_type": "stream",
     "text": [
      "CPU times: user 14.6 s, sys: 1.31 s, total: 15.9 s\n",
      "Wall time: 38.6 s\n"
     ]
    }
   ],
   "source": [
    "%%time\n",
    "\n",
    "bucket = s3.Bucket('icusics-db-demo')\n",
    "sedatives_patlist = tuple()\n",
    "\n",
    "for my_bucket_object in bucket.objects.all():\n",
    "    \n",
    "    if all(x in my_bucket_object.key for x in ['h3', 'drugs']):\n",
    "        \n",
    "        if 'ref' not in my_bucket_object.key:\n",
    "            \n",
    "            chunk = pd.read_csv(f's3://{db}/{my_bucket_object.key}')\n",
    "            sedatives_patlist_chunk = tuple(set(chunk[(chunk['a_pharmaid'].isin(sedatives_ids)) & (chunk['routename']=='PERF IV CONT') & (\n",
    "                chunk['a_patientid'].isin(tuple(set(los7d_diags_cvc_imv_apache_lactate_rr['a_patientid']))))]['a_patientid']))\n",
    "            sedatives_patlist = sedatives_patlist + sedatives_patlist_chunk"
   ]
  },
  {
   "cell_type": "code",
   "execution_count": 103,
   "id": "42572d2e-e0ba-4d70-bdda-e1bcf27183d1",
   "metadata": {},
   "outputs": [],
   "source": [
    "los7d_diags_cvc_imv_apache_lactate_rr_sedatives = los7d_diags_cvc_imv_apache_lactate_rr[los7d_diags_cvc_imv_apache_lactate_rr['a_patientid'].isin(sedatives_patlist)]"
   ]
  },
  {
   "cell_type": "code",
   "execution_count": 104,
   "id": "9d945e3f-c1b9-45d3-bbc6-7f18775862b0",
   "metadata": {},
   "outputs": [
    {
     "name": "stdout",
     "output_type": "stream",
     "text": [
      "patients in ICUSICS demo database 6928\n",
      "patients with ICU LOS > 7 days: 2233\n",
      "patients with ICU LOS > 7 days and pneumonia as pd and myopathy as sd: 81\n",
      "patients with ICU LOS > 7 days and pneumonia as pd and myopathy as sd and cvc: 80\n",
      "patients with ICU LOS > 7 days and pneumonia as pd and myopathy as sd and cvc and imv: 79\n",
      "patients with ICU LOS > 7 days and pneumonia as pd and myopathy as sd and cvc and imv with an apache2 > 20: 28\n",
      "patients with ICU LOS > 7 days and pneumonia as pd and myopathy as sd and cvc and imv with an apache2 > 20 and lactate >2mmol/L at day 1: 12\n",
      "patients with ICU LOS > 7 days and pneumonia as pd and myopathy as sd and cvc and imv with an apache2 > 20 and lactate >2mmol/L at day 1 and rr > 20: 10\n",
      "patients with ICU LOS > 7 days and pneumonia as pd and myopathy as sd and cvc and imv with an apache2 > 20 and lactate >2mmol/L at day 1 and rr > 20 and sedatives: 9\n"
     ]
    }
   ],
   "source": [
    "print('patients in ICUSICS demo database',\n",
    "      patients['a_patientid'].nunique())\n",
    "print('patients with ICU LOS > 7 days:',\n",
    "      los7d['a_patientid'].nunique())\n",
    "print('patients with ICU LOS > 7 days and pneumonia as pd and myopathy as sd:',\n",
    "      los7d_diags['a_patientid'].nunique())\n",
    "print('patients with ICU LOS > 7 days and pneumonia as pd and myopathy as sd and cvc:',\n",
    "      los7d_diags_cvc['a_patientid'].nunique())\n",
    "print('patients with ICU LOS > 7 days and pneumonia as pd and myopathy as sd and cvc and imv:',\n",
    "      los7d_diags_cvc_imv['a_patientid'].nunique())\n",
    "print('patients with ICU LOS > 7 days and pneumonia as pd and myopathy as sd and cvc and imv with an apache2 > 20:',\n",
    "      los7d_diags_cvc_imv_apache['a_patientid'].nunique())\n",
    "print('patients with ICU LOS > 7 days and pneumonia as pd and myopathy as sd and cvc and imv with an apache2 > 20 and lactate >2mmol/L at day 1:',\n",
    "      los7d_diags_cvc_imv_apache_lactate['a_patientid'].nunique())\n",
    "print('patients with ICU LOS > 7 days and pneumonia as pd and myopathy as sd and cvc and imv with an apache2 > 20 and lactate >2mmol/L at day 1 and rr > 20:',\n",
    "      los7d_diags_cvc_imv_apache_lactate_rr['a_patientid'].nunique())\n",
    "print('patients with ICU LOS > 7 days and pneumonia as pd and myopathy as sd and cvc and imv with an apache2 > 20 and lactate >2mmol/L at day 1 and rr > 20 and sedatives:',\n",
    "      los7d_diags_cvc_imv_apache_lactate_rr_sedatives['a_patientid'].nunique())"
   ]
  },
  {
   "cell_type": "markdown",
   "id": "4cee9173-bf0c-40c3-8efc-997e63e0e492",
   "metadata": {},
   "source": [
    "We see how only 9 patients in that database fullfilled the inclusion criteria of this example. The objective was to explore all tables, not to obtain a real dataset"
   ]
  },
  {
   "cell_type": "code",
   "execution_count": 105,
   "id": "8c1f1713-fb32-4d22-a270-ee270712f6fa",
   "metadata": {},
   "outputs": [
    {
     "data": {
      "text/html": [
       "<div>\n",
       "<style scoped>\n",
       "    .dataframe tbody tr th:only-of-type {\n",
       "        vertical-align: middle;\n",
       "    }\n",
       "\n",
       "    .dataframe tbody tr th {\n",
       "        vertical-align: top;\n",
       "    }\n",
       "\n",
       "    .dataframe thead th {\n",
       "        text-align: right;\n",
       "    }\n",
       "</style>\n",
       "<table border=\"1\" class=\"dataframe\">\n",
       "  <thead>\n",
       "    <tr style=\"text-align: right;\">\n",
       "      <th></th>\n",
       "      <th>a_patientid</th>\n",
       "      <th>hospital_coded</th>\n",
       "      <th>patientsex</th>\n",
       "      <th>age</th>\n",
       "      <th>height</th>\n",
       "      <th>weight</th>\n",
       "      <th>bmi</th>\n",
       "      <th>hospadmtime</th>\n",
       "      <th>admwardname</th>\n",
       "      <th>distime</th>\n",
       "      <th>diswardname</th>\n",
       "      <th>hospdistime</th>\n",
       "      <th>hospital_outcome</th>\n",
       "    </tr>\n",
       "  </thead>\n",
       "  <tbody>\n",
       "    <tr>\n",
       "      <th>1482</th>\n",
       "      <td>3345064</td>\n",
       "      <td>3</td>\n",
       "      <td>M</td>\n",
       "      <td>30</td>\n",
       "      <td>170</td>\n",
       "      <td>70</td>\n",
       "      <td>24</td>\n",
       "      <td>-4</td>\n",
       "      <td>URGÈNCIES</td>\n",
       "      <td>52365</td>\n",
       "      <td>MEDICINA INTERNA</td>\n",
       "      <td>72262</td>\n",
       "      <td>ALIVE</td>\n",
       "    </tr>\n",
       "    <tr>\n",
       "      <th>2494</th>\n",
       "      <td>3615379</td>\n",
       "      <td>3</td>\n",
       "      <td>M</td>\n",
       "      <td>70</td>\n",
       "      <td>170</td>\n",
       "      <td>60</td>\n",
       "      <td>21</td>\n",
       "      <td>-11</td>\n",
       "      <td>URGÈNCIES</td>\n",
       "      <td>25791</td>\n",
       "      <td>MEDICINA INTERNA</td>\n",
       "      <td>45771</td>\n",
       "      <td>ALIVE</td>\n",
       "    </tr>\n",
       "    <tr>\n",
       "      <th>4239</th>\n",
       "      <td>3803957</td>\n",
       "      <td>3</td>\n",
       "      <td>F</td>\n",
       "      <td>40</td>\n",
       "      <td>170</td>\n",
       "      <td>60</td>\n",
       "      <td>21</td>\n",
       "      <td>-96</td>\n",
       "      <td>URGÈNCIES</td>\n",
       "      <td>91164</td>\n",
       "      <td>MEDICINA INTERNA</td>\n",
       "      <td>115427</td>\n",
       "      <td>ALIVE</td>\n",
       "    </tr>\n",
       "    <tr>\n",
       "      <th>4856</th>\n",
       "      <td>3001780</td>\n",
       "      <td>3</td>\n",
       "      <td>M</td>\n",
       "      <td>80</td>\n",
       "      <td>160</td>\n",
       "      <td>70</td>\n",
       "      <td>27</td>\n",
       "      <td>-55</td>\n",
       "      <td>URGÈNCIES</td>\n",
       "      <td>165263</td>\n",
       "      <td>MEDICINA INTERNA</td>\n",
       "      <td>188117</td>\n",
       "      <td>ALIVE</td>\n",
       "    </tr>\n",
       "    <tr>\n",
       "      <th>5112</th>\n",
       "      <td>3703957</td>\n",
       "      <td>3</td>\n",
       "      <td>M</td>\n",
       "      <td>70</td>\n",
       "      <td>170</td>\n",
       "      <td>70</td>\n",
       "      <td>24</td>\n",
       "      <td>0</td>\n",
       "      <td>H VALLS</td>\n",
       "      <td>57282</td>\n",
       "      <td>EXITUS</td>\n",
       "      <td>57725</td>\n",
       "      <td>EXITUS</td>\n",
       "    </tr>\n",
       "    <tr>\n",
       "      <th>5555</th>\n",
       "      <td>3792693</td>\n",
       "      <td>3</td>\n",
       "      <td>M</td>\n",
       "      <td>80</td>\n",
       "      <td>170</td>\n",
       "      <td>70</td>\n",
       "      <td>24</td>\n",
       "      <td>-2795</td>\n",
       "      <td>MEDICINA INTERNA</td>\n",
       "      <td>110656</td>\n",
       "      <td>REHABILITACIÓ</td>\n",
       "      <td>117747</td>\n",
       "      <td>ALIVE</td>\n",
       "    </tr>\n",
       "    <tr>\n",
       "      <th>5609</th>\n",
       "      <td>3219293</td>\n",
       "      <td>3</td>\n",
       "      <td>M</td>\n",
       "      <td>70</td>\n",
       "      <td>170</td>\n",
       "      <td>90</td>\n",
       "      <td>31</td>\n",
       "      <td>0</td>\n",
       "      <td>UCIM-UCO Joan XXIII</td>\n",
       "      <td>114444</td>\n",
       "      <td>PNEUMOLOGIA</td>\n",
       "      <td>129104</td>\n",
       "      <td>EXITUS</td>\n",
       "    </tr>\n",
       "    <tr>\n",
       "      <th>6368</th>\n",
       "      <td>3647997</td>\n",
       "      <td>3</td>\n",
       "      <td>M</td>\n",
       "      <td>70</td>\n",
       "      <td>170</td>\n",
       "      <td>80</td>\n",
       "      <td>28</td>\n",
       "      <td>-17</td>\n",
       "      <td>URGÈNCIES</td>\n",
       "      <td>21456</td>\n",
       "      <td>MEDICINA INTERNA</td>\n",
       "      <td>27253</td>\n",
       "      <td>ALIVE</td>\n",
       "    </tr>\n",
       "    <tr>\n",
       "      <th>6692</th>\n",
       "      <td>3257877</td>\n",
       "      <td>3</td>\n",
       "      <td>M</td>\n",
       "      <td>70</td>\n",
       "      <td>180</td>\n",
       "      <td>90</td>\n",
       "      <td>28</td>\n",
       "      <td>-1</td>\n",
       "      <td>H VENDRELL</td>\n",
       "      <td>77472</td>\n",
       "      <td>MEDICINA INTERNA</td>\n",
       "      <td>91648</td>\n",
       "      <td>ALIVE</td>\n",
       "    </tr>\n",
       "  </tbody>\n",
       "</table>\n",
       "</div>"
      ],
      "text/plain": [
       "      a_patientid  hospital_coded patientsex  age  height  weight  bmi  \\\n",
       "1482      3345064               3          M   30     170      70   24   \n",
       "2494      3615379               3          M   70     170      60   21   \n",
       "4239      3803957               3          F   40     170      60   21   \n",
       "4856      3001780               3          M   80     160      70   27   \n",
       "5112      3703957               3          M   70     170      70   24   \n",
       "5555      3792693               3          M   80     170      70   24   \n",
       "5609      3219293               3          M   70     170      90   31   \n",
       "6368      3647997               3          M   70     170      80   28   \n",
       "6692      3257877               3          M   70     180      90   28   \n",
       "\n",
       "      hospadmtime          admwardname  distime       diswardname  \\\n",
       "1482           -4            URGÈNCIES    52365  MEDICINA INTERNA   \n",
       "2494          -11            URGÈNCIES    25791  MEDICINA INTERNA   \n",
       "4239          -96            URGÈNCIES    91164  MEDICINA INTERNA   \n",
       "4856          -55            URGÈNCIES   165263  MEDICINA INTERNA   \n",
       "5112            0              H VALLS    57282            EXITUS   \n",
       "5555        -2795     MEDICINA INTERNA   110656     REHABILITACIÓ   \n",
       "5609            0  UCIM-UCO Joan XXIII   114444       PNEUMOLOGIA   \n",
       "6368          -17            URGÈNCIES    21456  MEDICINA INTERNA   \n",
       "6692           -1           H VENDRELL    77472  MEDICINA INTERNA   \n",
       "\n",
       "      hospdistime hospital_outcome  \n",
       "1482        72262            ALIVE  \n",
       "2494        45771            ALIVE  \n",
       "4239       115427            ALIVE  \n",
       "4856       188117            ALIVE  \n",
       "5112        57725           EXITUS  \n",
       "5555       117747            ALIVE  \n",
       "5609       129104           EXITUS  \n",
       "6368        27253            ALIVE  \n",
       "6692        91648            ALIVE  "
      ]
     },
     "execution_count": 105,
     "metadata": {},
     "output_type": "execute_result"
    }
   ],
   "source": [
    "los7d_diags_cvc_imv_apache_lactate_rr_sedatives"
   ]
  },
  {
   "cell_type": "code",
   "execution_count": 106,
   "id": "9708e030-ad8f-4dfe-9e13-8a8c2076a2b6",
   "metadata": {},
   "outputs": [
    {
     "data": {
      "text/plain": [
       "ALIVE     0.777778\n",
       "EXITUS    0.222222\n",
       "Name: hospital_outcome, dtype: float64"
      ]
     },
     "execution_count": 106,
     "metadata": {},
     "output_type": "execute_result"
    }
   ],
   "source": [
    "los7d_diags_cvc_imv_apache_lactate_rr_sedatives['hospital_outcome'].value_counts(normalize=True)"
   ]
  }
 ],
 "metadata": {
  "instance_type": "ml.t3.medium",
  "kernelspec": {
   "display_name": "Python 3 (Data Science)",
   "language": "python",
   "name": "python3__SAGEMAKER_INTERNAL__arn:aws:sagemaker:eu-west-1:470317259841:image/datascience-1.0"
  },
  "language_info": {
   "codemirror_mode": {
    "name": "ipython",
    "version": 3
   },
   "file_extension": ".py",
   "mimetype": "text/x-python",
   "name": "python",
   "nbconvert_exporter": "python",
   "pygments_lexer": "ipython3",
   "version": "3.7.10"
  }
 },
 "nbformat": 4,
 "nbformat_minor": 5
}
