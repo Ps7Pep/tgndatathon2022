{
 "cells": [
  {
   "cell_type": "code",
   "execution_count": 48,
   "id": "e08bf6e6-4260-40c5-994b-727e698e01d8",
   "metadata": {},
   "outputs": [],
   "source": [
    "import boto3\n",
    "import pandas as pd\n",
    "from sagemaker import get_execution_role\n",
    "role = get_execution_role()\n",
    "s3 = boto3.resource('s3')"
   ]
  },
  {
   "cell_type": "markdown",
   "id": "be356102-ffdb-4732-81fc-f57f08fd5824",
   "metadata": {},
   "source": [
    "# ICUsICS DB tutorial"
   ]
  },
  {
   "cell_type": "markdown",
   "id": "2eb70f7c-57da-4ae9-abec-18c7cf3b1086",
   "metadata": {},
   "source": [
    "ICUsICS is an anonymized database built from the data stored into the Clinical Information System (CIS) database of 6 Intensive Care Units (ICUs) from the Catalan Institute of Health (ICS). Actually, it is a database of databases, because each ICU belongs to a different hospital and each CIS presents its own particularities. However, the tables architecture of each database is identical between hospitals, which facilitates data search and extraction.\n",
    "\n",
    "ICUsICS is not hosted as a database 'per se', but as a directory of folders (tables) with csv files inside (registries). Inside icuics-db, there are 6 folders, 1 for each hospital, and inside them there are 10 folders:  \n",
    "\n",
    "patients: it contains patient-level info (id, hospital, demografics and admission and discharge time and wards)  \n",
    "diagnoses: table with the diagnoses  \n",
    "insertions: table with the insertions  \n",
    "variables_ref: it contains info of the variables present in the database (id, hospital, name, type). Key info: vartype 1, 2, 4 and 8 mean v_monitored, v_labres, v_observed and v_derived respectivelly (the table where the variable is stored). Key info: datatype 0, 1 and 2 mean numeric, categoric and checkbox respectivelly.  \n",
    "v_monitored: table with registries for vartype 1 variables  \n",
    "v_labres: table with registries for vartype 2 variables  \n",
    "v_observed: table with registries for vartype 4 variables  \n",
    "v_derived: table with registries for vartype 8 variables  \n",
    "drugs_ref: it contains info of the drugs present in the database (id, hospital, name, formunit, unit, etc.)  \n",
    "drugs: table with registries for drugs "
   ]
  },
  {
   "cell_type": "markdown",
   "id": "1ca03095-318a-4742-b237-340a74802503",
   "metadata": {},
   "source": [
    "## Example of data search and extraction [Invasive Mechanical Ventilation (IMV) example]"
   ]
  },
  {
   "cell_type": "markdown",
   "id": "54776173-181d-43ae-b40a-6841e988331c",
   "metadata": {},
   "source": [
    "### Import variables_ref tables"
   ]
  },
  {
   "cell_type": "code",
   "execution_count": 17,
   "id": "bb2ad3ab-27d3-405f-b388-3c74284ab2fe",
   "metadata": {},
   "outputs": [],
   "source": [
    "# set db and hospital\n",
    "\n",
    "db='icusics-db-demo'\n",
    "h='h3'\n",
    "\n",
    "# import data into pandas dfs\n",
    "\n",
    "variables_ref = pd.read_csv(f's3://{db}/{h}_db/variables_ref/{h}_variables_ref.csv')"
   ]
  },
  {
   "cell_type": "markdown",
   "id": "3ab25faf-a89a-4710-9e50-eb0b85f44d62",
   "metadata": {},
   "source": [
    "### Look for the variable"
   ]
  },
  {
   "cell_type": "code",
   "execution_count": 47,
   "id": "1ae8f8b1-bdf0-4f64-8bbd-b2dedeeaa953",
   "metadata": {},
   "outputs": [
    {
     "name": "stdout",
     "output_type": "stream",
     "text": [
      "(333, 9)\n",
      "To many results, so you decide to ask to the mentors and they say that for that hospital, this feature is a categorical (datatype=1) and observed (vartype=4) feature called 'Teràpia real O2' with the option 'Vent Mecànica'\n",
      "So you finally get your result:\n"
     ]
    },
    {
     "data": {
      "text/html": [
       "<div>\n",
       "<style scoped>\n",
       "    .dataframe tbody tr th:only-of-type {\n",
       "        vertical-align: middle;\n",
       "    }\n",
       "\n",
       "    .dataframe tbody tr th {\n",
       "        vertical-align: top;\n",
       "    }\n",
       "\n",
       "    .dataframe thead th {\n",
       "        text-align: right;\n",
       "    }\n",
       "</style>\n",
       "<table border=\"1\" class=\"dataframe\">\n",
       "  <thead>\n",
       "    <tr style=\"text-align: right;\">\n",
       "      <th></th>\n",
       "      <th>a_variableid</th>\n",
       "      <th>hospital_coded</th>\n",
       "      <th>vartype</th>\n",
       "      <th>datatype</th>\n",
       "      <th>name</th>\n",
       "      <th>abbreviation</th>\n",
       "      <th>description</th>\n",
       "      <th>choicecode</th>\n",
       "      <th>choicestringvalue</th>\n",
       "    </tr>\n",
       "  </thead>\n",
       "  <tbody>\n",
       "    <tr>\n",
       "      <th>1949</th>\n",
       "      <td>3015002262</td>\n",
       "      <td>3</td>\n",
       "      <td>4</td>\n",
       "      <td>1</td>\n",
       "      <td>Teràpia real O2</td>\n",
       "      <td>O2 Teràpia</td>\n",
       "      <td>DI 21.CONTROL RESPIRATORI.\\nVariable utilitzad...</td>\n",
       "      <td>12.0</td>\n",
       "      <td>Vent Mecànica</td>\n",
       "    </tr>\n",
       "  </tbody>\n",
       "</table>\n",
       "</div>"
      ],
      "text/plain": [
       "      a_variableid  hospital_coded  vartype  datatype             name  \\\n",
       "1949    3015002262               3        4         1  Teràpia real O2   \n",
       "\n",
       "     abbreviation                                        description  \\\n",
       "1949   O2 Teràpia  DI 21.CONTROL RESPIRATORI.\\nVariable utilitzad...   \n",
       "\n",
       "      choicecode choicestringvalue  \n",
       "1949        12.0     Vent Mecànica  "
      ]
     },
     "execution_count": 47,
     "metadata": {},
     "output_type": "execute_result"
    }
   ],
   "source": [
    "# define key characters (remember that strings in this db can be in english, catalan or spanish language) to start a blind search\n",
    "\n",
    "key_chars = 'vent|mec|inv'\n",
    "\n",
    "result = variables_ref[(variables_ref['name'].str.contains(key_chars, case=False, na=False)) | (\n",
    "    variables_ref['description'].str.contains(key_chars, case=False, na=False)) | (\n",
    "    variables_ref['choicestringvalue'].str.contains(key_chars, case=False, na=False))]\n",
    "\n",
    "print(queryset.shape)\n",
    "\n",
    "print(\"To many results, so you decide to ask to the mentors and they say that for that hospital, this feature is a categorical (datatype=1) and observed (vartype=4) \\\n",
    "feature called 'Teràpia real O2' with the option 'Vent Mecànica'\")\n",
    "\n",
    "result2 = result[(result['datatype']==1) & (result['vartype']==4) & (result['name'].str.contains('Teràpia real O2', case=False, na=False)) & (\n",
    "    result['choicestringvalue'].str.contains('Vent Mecànica', case=False, na=False))]\n",
    "\n",
    "print('So you finally get your result:')\n",
    "result2"
   ]
  },
  {
   "cell_type": "markdown",
   "id": "fd6032ce-aeff-4220-9c0b-aa4a41c7c306",
   "metadata": {},
   "source": [
    "### Get all registries of a variable"
   ]
  },
  {
   "cell_type": "code",
   "execution_count": 33,
   "id": "557baf57-1d72-4df7-b8db-1df9433e87fa",
   "metadata": {},
   "outputs": [],
   "source": [
    "%%time\n",
    "\n",
    "bucket = s3.Bucket('icusics-db-demo')\n",
    "imv_registries = pd.DataFrame()\n",
    "\n",
    "for my_bucket_object in bucket.objects.all():\n",
    "    \n",
    "    if all(x in my_bucket_object.key for x in ['h3', 'v_observed']):\n",
    "            \n",
    "        chunk = pd.read_csv(f's3://{db}/{my_bucket_object.key}')\n",
    "        df_chunk = chunk[(chunk['a_variableid']==3015002262) & (chunk['value']==12)]\n",
    "        imv_registries = pd.concat([imv_registries, df_chunk])"
   ]
  },
  {
   "cell_type": "code",
   "execution_count": 34,
   "id": "63e5cb1b-0a84-4135-b516-ab668456e0f9",
   "metadata": {},
   "outputs": [
    {
     "data": {
      "text/html": [
       "<div>\n",
       "<style scoped>\n",
       "    .dataframe tbody tr th:only-of-type {\n",
       "        vertical-align: middle;\n",
       "    }\n",
       "\n",
       "    .dataframe tbody tr th {\n",
       "        vertical-align: top;\n",
       "    }\n",
       "\n",
       "    .dataframe thead th {\n",
       "        text-align: right;\n",
       "    }\n",
       "</style>\n",
       "<table border=\"1\" class=\"dataframe\">\n",
       "  <thead>\n",
       "    <tr style=\"text-align: right;\">\n",
       "      <th></th>\n",
       "      <th>a_patientid</th>\n",
       "      <th>a_variableid</th>\n",
       "      <th>time</th>\n",
       "      <th>value</th>\n",
       "    </tr>\n",
       "  </thead>\n",
       "  <tbody>\n",
       "    <tr>\n",
       "      <th>80974</th>\n",
       "      <td>3961761</td>\n",
       "      <td>3015002262</td>\n",
       "      <td>3867</td>\n",
       "      <td>12.0</td>\n",
       "    </tr>\n",
       "    <tr>\n",
       "      <th>80977</th>\n",
       "      <td>3961761</td>\n",
       "      <td>3015002262</td>\n",
       "      <td>5307</td>\n",
       "      <td>12.0</td>\n",
       "    </tr>\n",
       "    <tr>\n",
       "      <th>80978</th>\n",
       "      <td>3961761</td>\n",
       "      <td>3015002262</td>\n",
       "      <td>4827</td>\n",
       "      <td>12.0</td>\n",
       "    </tr>\n",
       "    <tr>\n",
       "      <th>80979</th>\n",
       "      <td>3961761</td>\n",
       "      <td>3015002262</td>\n",
       "      <td>4347</td>\n",
       "      <td>12.0</td>\n",
       "    </tr>\n",
       "    <tr>\n",
       "      <th>80980</th>\n",
       "      <td>3961761</td>\n",
       "      <td>3015002262</td>\n",
       "      <td>6687</td>\n",
       "      <td>12.0</td>\n",
       "    </tr>\n",
       "  </tbody>\n",
       "</table>\n",
       "</div>"
      ],
      "text/plain": [
       "       a_patientid  a_variableid  time  value\n",
       "80974      3961761    3015002262  3867   12.0\n",
       "80977      3961761    3015002262  5307   12.0\n",
       "80978      3961761    3015002262  4827   12.0\n",
       "80979      3961761    3015002262  4347   12.0\n",
       "80980      3961761    3015002262  6687   12.0"
      ]
     },
     "execution_count": 34,
     "metadata": {},
     "output_type": "execute_result"
    }
   ],
   "source": [
    "imv_registries.head()"
   ]
  },
  {
   "cell_type": "code",
   "execution_count": 36,
   "id": "366b439f-3f23-4b7d-9ca1-fac195137005",
   "metadata": {},
   "outputs": [
    {
     "name": "stdout",
     "output_type": "stream",
     "text": [
      "In hospital 3 there are 3223 patients that received IMV\n"
     ]
    }
   ],
   "source": [
    "print('In hospital 3 there are', imv_registries['a_patientid'].nunique(), 'patients that received IMV')"
   ]
  },
  {
   "cell_type": "markdown",
   "id": "30880625-3d75-43e1-828e-d993ef054af8",
   "metadata": {},
   "source": [
    "### Let's explore the percentage of patients with IMV from the total and the mortality of each group"
   ]
  },
  {
   "cell_type": "code",
   "execution_count": 45,
   "id": "00490fa1-0557-4807-959f-1160ac48d09a",
   "metadata": {},
   "outputs": [
    {
     "name": "stdout",
     "output_type": "stream",
     "text": [
      "The percentage of patients that received IMV from the total is 46.52136258660508\n",
      "And the mortality according to each group (IMV vs no IMV) is, IMV:\n",
      "ALIVE     0.687558\n",
      "EXITUS    0.312442\n",
      "Name: hospital_outcome, dtype: float64\n",
      "no IMV:\n",
      "ALIVE     0.926316\n",
      "EXITUS    0.073684\n",
      "Name: hospital_outcome, dtype: float64\n",
      "We can see how the mortality of those who received IMV is higher (31%) among those who do not (7%), and BTW, the overall mortality in hospital 3 is:\n",
      "ALIVE     0.815242\n",
      "EXITUS    0.184758\n",
      "Name: hospital_outcome, dtype: float64\n"
     ]
    }
   ],
   "source": [
    "patients = pd.read_csv(f's3://{db}/{h}_db/patients/{h}_patients_ref.csv')\n",
    "print('The percentage of patients that received IMV from the total is',imv_registries['a_patientid'].nunique()/patients['a_patientid'].nunique()*100)\n",
    "print('And the mortality according to each group (IMV vs no IMV) is, IMV:')\n",
    "print(patients[patients['a_patientid'].isin(tuple(set(imv_registries['a_patientid'])))]['hospital_outcome'].value_counts(normalize=True))\n",
    "print('no IMV:')\n",
    "print(patients[~patients['a_patientid'].isin(tuple(set(imv_registries['a_patientid'])))]['hospital_outcome'].value_counts(normalize=True))\n",
    "print('We can see how the mortality of those who received IMV is higher (31%) among those who do not (7%), and BTW, the overall mortality in hospital 3 is:')\n",
    "print(patients['hospital_outcome'].value_counts(normalize=True))"
   ]
  },
  {
   "cell_type": "markdown",
   "id": "e81a9a06-6990-40d6-8409-39a06d46f818",
   "metadata": {},
   "source": [
    "Let's create a cohort that accomplishes the following inclusion/exclusion criteria:  \n",
    "Patients "
   ]
  },
  {
   "cell_type": "code",
   "execution_count": 49,
   "id": "84efd418-7aa2-4305-be2e-99e1849ef8b7",
   "metadata": {},
   "outputs": [
    {
     "data": {
      "text/html": [
       "<div>\n",
       "<style scoped>\n",
       "    .dataframe tbody tr th:only-of-type {\n",
       "        vertical-align: middle;\n",
       "    }\n",
       "\n",
       "    .dataframe tbody tr th {\n",
       "        vertical-align: top;\n",
       "    }\n",
       "\n",
       "    .dataframe thead th {\n",
       "        text-align: right;\n",
       "    }\n",
       "</style>\n",
       "<table border=\"1\" class=\"dataframe\">\n",
       "  <thead>\n",
       "    <tr style=\"text-align: right;\">\n",
       "      <th></th>\n",
       "      <th>a_patientid</th>\n",
       "      <th>hospital_coded</th>\n",
       "      <th>patientsex</th>\n",
       "      <th>age</th>\n",
       "      <th>height</th>\n",
       "      <th>weight</th>\n",
       "      <th>bmi</th>\n",
       "      <th>hospadmtime</th>\n",
       "      <th>admwardname</th>\n",
       "      <th>distime</th>\n",
       "      <th>diswardname</th>\n",
       "      <th>hospdistime</th>\n",
       "      <th>hospital_outcome</th>\n",
       "    </tr>\n",
       "  </thead>\n",
       "  <tbody>\n",
       "    <tr>\n",
       "      <th>0</th>\n",
       "      <td>3861270</td>\n",
       "      <td>3</td>\n",
       "      <td>M</td>\n",
       "      <td>70</td>\n",
       "      <td>160</td>\n",
       "      <td>80</td>\n",
       "      <td>31</td>\n",
       "      <td>-683</td>\n",
       "      <td>UCI GENERAL</td>\n",
       "      <td>14722</td>\n",
       "      <td>UCI GENERAL</td>\n",
       "      <td>34887</td>\n",
       "      <td>ALIVE</td>\n",
       "    </tr>\n",
       "    <tr>\n",
       "      <th>1</th>\n",
       "      <td>3477137</td>\n",
       "      <td>3</td>\n",
       "      <td>M</td>\n",
       "      <td>70</td>\n",
       "      <td>170</td>\n",
       "      <td>50</td>\n",
       "      <td>17</td>\n",
       "      <td>-1603</td>\n",
       "      <td>UCIM-UCO Joan XXIII</td>\n",
       "      <td>4227</td>\n",
       "      <td>UROLOGIA</td>\n",
       "      <td>11007</td>\n",
       "      <td>ALIVE</td>\n",
       "    </tr>\n",
       "  </tbody>\n",
       "</table>\n",
       "</div>"
      ],
      "text/plain": [
       "   a_patientid  hospital_coded patientsex  age  height  weight  bmi  \\\n",
       "0      3861270               3          M   70     160      80   31   \n",
       "1      3477137               3          M   70     170      50   17   \n",
       "\n",
       "   hospadmtime          admwardname  distime  diswardname  hospdistime  \\\n",
       "0         -683          UCI GENERAL    14722  UCI GENERAL        34887   \n",
       "1        -1603  UCIM-UCO Joan XXIII     4227     UROLOGIA        11007   \n",
       "\n",
       "  hospital_outcome  \n",
       "0            ALIVE  \n",
       "1            ALIVE  "
      ]
     },
     "execution_count": 49,
     "metadata": {},
     "output_type": "execute_result"
    }
   ],
   "source": [
    "patients.head(2)"
   ]
  },
  {
   "cell_type": "code",
   "execution_count": 55,
   "id": "e10d8019-ab99-456c-b89c-b3a54e9c4f56",
   "metadata": {},
   "outputs": [
    {
     "data": {
      "text/plain": [
       "5"
      ]
     },
     "execution_count": 55,
     "metadata": {},
     "output_type": "execute_result"
    }
   ],
   "source": [
    "# Check k=5 anonymization:\n",
    "\n",
    "patients.groupby(['patientsex','age','height','weight','hospital_outcome'], as_index=False).agg({'a_patientid':'nunique'})['a_patientid'].min()"
   ]
  },
  {
   "cell_type": "code",
   "execution_count": 59,
   "id": "3dbc492e-0e1f-48a8-a3c2-be2d764eab56",
   "metadata": {},
   "outputs": [],
   "source": [
    "variables_ref = pd.read_csv(f's3://{db}/{h}_db/variables_ref/{h}_variables_ref.csv')"
   ]
  },
  {
   "cell_type": "code",
   "execution_count": 71,
   "id": "88c6adac-08e0-4b1d-9064-2b3d6ef189a8",
   "metadata": {},
   "outputs": [
    {
     "data": {
      "text/html": [
       "<div>\n",
       "<style scoped>\n",
       "    .dataframe tbody tr th:only-of-type {\n",
       "        vertical-align: middle;\n",
       "    }\n",
       "\n",
       "    .dataframe tbody tr th {\n",
       "        vertical-align: top;\n",
       "    }\n",
       "\n",
       "    .dataframe thead th {\n",
       "        text-align: right;\n",
       "    }\n",
       "</style>\n",
       "<table border=\"1\" class=\"dataframe\">\n",
       "  <thead>\n",
       "    <tr style=\"text-align: right;\">\n",
       "      <th></th>\n",
       "      <th>a_variableid</th>\n",
       "      <th>hospital_coded</th>\n",
       "      <th>vartype</th>\n",
       "      <th>datatype</th>\n",
       "      <th>name</th>\n",
       "      <th>abbreviation</th>\n",
       "      <th>description</th>\n",
       "      <th>choicecode</th>\n",
       "      <th>choicestringvalue</th>\n",
       "    </tr>\n",
       "  </thead>\n",
       "  <tbody>\n",
       "    <tr>\n",
       "      <th>5790</th>\n",
       "      <td>3030000350</td>\n",
       "      <td>3</td>\n",
       "      <td>8</td>\n",
       "      <td>0</td>\n",
       "      <td>APACHE 2 validado</td>\n",
       "      <td>APACHE 2 man</td>\n",
       "      <td>Validated APACHE II score</td>\n",
       "      <td>NaN</td>\n",
       "      <td>NaN</td>\n",
       "    </tr>\n",
       "  </tbody>\n",
       "</table>\n",
       "</div>"
      ],
      "text/plain": [
       "      a_variableid  hospital_coded  vartype  datatype               name  \\\n",
       "5790    3030000350               3        8         0  APACHE 2 validado   \n",
       "\n",
       "      abbreviation                description  choicecode choicestringvalue  \n",
       "5790  APACHE 2 man  Validated APACHE II score         NaN               NaN  "
      ]
     },
     "execution_count": 71,
     "metadata": {},
     "output_type": "execute_result"
    }
   ],
   "source": [
    "key_chars = 'apache 2 validado'\n",
    "\n",
    "result = variables_ref[(variables_ref['name'].str.contains(key_chars, case=False, na=False)) | (\n",
    "    variables_ref['abbreviation'].str.contains(key_chars, case=False, na=False)) | (\n",
    "    variables_ref['description'].str.contains(key_chars, case=False, na=False)) | (\n",
    "    variables_ref['choicestringvalue'].str.contains(key_chars, case=False, na=False))]\n",
    "\n",
    "result"
   ]
  },
  {
   "cell_type": "code",
   "execution_count": null,
   "id": "9d0d88ae-b5e6-4dea-9fc6-5cfcc242ec0f",
   "metadata": {},
   "outputs": [],
   "source": [
    "key_chars = 'apache 2 validado|o2 teràpia'\n",
    "\n",
    "result = variables_ref[(variables_ref['name'].str.contains(key_chars, case=False, na=False)) | (\n",
    "    variables_ref['description'].str.contains(key_chars, case=False, na=False)) | (\n",
    "    variables_ref['choicestringvalue'].str.contains(key_chars, case=False, na=False))]\n",
    "\n",
    "result"
   ]
  },
  {
   "cell_type": "code",
   "execution_count": 72,
   "id": "7a015522-4749-4a2e-bac0-62a8812d7059",
   "metadata": {},
   "outputs": [
    {
     "name": "stdout",
     "output_type": "stream",
     "text": [
      "CPU times: user 2min 8s, sys: 12.9 s, total: 2min 21s\n",
      "Wall time: 6min 33s\n"
     ]
    }
   ],
   "source": [
    "%%time\n",
    "\n",
    "bucket = s3.Bucket('icusics-db-demo')\n",
    "a2_registries = pd.DataFrame()\n",
    "\n",
    "for my_bucket_object in bucket.objects.all():\n",
    "    \n",
    "    if all(x in my_bucket_object.key for x in ['h3', 'v_derived']):\n",
    "            \n",
    "        chunk = pd.read_csv(f's3://{db}/{my_bucket_object.key}')\n",
    "        df_chunk = chunk[(chunk['a_variableid']==3030000350) & (chunk['value']>20)]\n",
    "        a2_registries = pd.concat([a2_registries, df_chunk])"
   ]
  },
  {
   "cell_type": "code",
   "execution_count": 73,
   "id": "4661fa02-c657-429e-a9c6-541079da5e89",
   "metadata": {},
   "outputs": [
    {
     "name": "stdout",
     "output_type": "stream",
     "text": [
      "CPU times: user 15.3 s, sys: 1.39 s, total: 16.7 s\n",
      "Wall time: 46.5 s\n"
     ]
    }
   ],
   "source": [
    "%%time\n",
    "\n",
    "bucket = s3.Bucket('icusics-db-demo')\n",
    "imv_registries = pd.DataFrame()\n",
    "\n",
    "for my_bucket_object in bucket.objects.all():\n",
    "    \n",
    "    if all(x in my_bucket_object.key for x in ['h3', 'v_observed']):\n",
    "            \n",
    "        chunk = pd.read_csv(f's3://{db}/{my_bucket_object.key}')\n",
    "        df_chunk = chunk[(chunk['a_variableid']==3015002262) & (chunk['value']==12)]\n",
    "        imv_registries = pd.concat([imv_registries, df_chunk])"
   ]
  },
  {
   "cell_type": "markdown",
   "id": "e2b7417b-81f9-421f-a251-f18342a5d504",
   "metadata": {},
   "source": [
    "### Create a cohort of patients with ICU_LOS > 2 days, "
   ]
  },
  {
   "cell_type": "code",
   "execution_count": null,
   "id": "d3f6d046-5e99-461f-9c3a-698b7c980c92",
   "metadata": {},
   "outputs": [],
   "source": [
    "# Cohort:\n",
    "# Patients with icu los > 2, imv, vad, cvc, insf resp, apache2 > x, \n",
    "# icu los > 2:\n",
    "\n",
    "cohort = patients[patients['distime']>2880]\n",
    "\n"
   ]
  }
 ],
 "metadata": {
  "instance_type": "ml.t3.medium",
  "kernelspec": {
   "display_name": "Python 3 (Data Science)",
   "language": "python",
   "name": "python3__SAGEMAKER_INTERNAL__arn:aws:sagemaker:eu-west-1:470317259841:image/datascience-1.0"
  },
  "language_info": {
   "codemirror_mode": {
    "name": "ipython",
    "version": 3
   },
   "file_extension": ".py",
   "mimetype": "text/x-python",
   "name": "python",
   "nbconvert_exporter": "python",
   "pygments_lexer": "ipython3",
   "version": "3.7.10"
  }
 },
 "nbformat": 4,
 "nbformat_minor": 5
}
