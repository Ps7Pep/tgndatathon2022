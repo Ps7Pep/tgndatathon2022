{
 "cells": [
  {
   "cell_type": "markdown",
   "id": "be356102-ffdb-4732-81fc-f57f08fd5824",
   "metadata": {},
   "source": [
    "# ICUsICS DB tutorial"
   ]
  },
  {
   "cell_type": "markdown",
   "id": "2eb70f7c-57da-4ae9-abec-18c7cf3b1086",
   "metadata": {},
   "source": [
    "ICUsICS is an anonymized database built from the data stored into the Clinical Information System (CIS) database of 6 Intensive Care Units (ICUs) from the Catalan Institute of Health (ICS). Actually, it is a database of databases, because each ICU belongs to a different hospital and each CIS presents its own particularities. However, the tables architecture of each database is identical between hospitals, which facilitates data search and extraction.\n",
    "\n",
    "ICUsICS is not hosted as a database 'per se', but as a directory of folders (tables) with csv files inside (registries). Inside icuics-db, there are 6 folders, 1 for each hospital, and inside them there are 10 folders:  \n",
    "\n",
    "patients: it contains patient-level info (id, hospital, demografics and admission and discharge time and wards)  \n",
    "variables_ref: it contains info of the variables present in the database (id, hospital, name, type). Key info: vartype 1, 2, 4 and 8 mean v_monitored, v_labres, v_observed and v_derived respectivelly (the tables which the variable is stored). Key info: datatype 0, 1 and 2 mean numeric, categoric and checkbox respectivelly.  \n",
    "v_monitored: table with registries for vartype 1 variables  \n",
    "v_labres: table with registries for vartype 2 variables  \n",
    "v_observed: table with registries for vartype 4 variables  \n",
    "v_derived: table with registries for vartype 8 variables  \n",
    "drugs_ref: it contains info of the drugs present in the database (id, hospital, name, formunit, unit, etc.)  \n",
    "drugs: table with registries for drugs  \n",
    "diagnoses: table with the diagnoses  \n",
    "insertions: table with the insertions  "
   ]
  },
  {
   "cell_type": "code",
   "execution_count": 2,
   "id": "35382151-c071-4d0f-b3d8-f8d58fc0c738",
   "metadata": {},
   "outputs": [],
   "source": [
    "import pandas as pd\n",
    "import os\n",
    "from sagemaker import get_execution_role\n",
    "role = get_execution_role()"
   ]
  },
  {
   "cell_type": "code",
   "execution_count": 8,
   "id": "486bffca-230b-4208-82d1-dc49dba0db3a",
   "metadata": {},
   "outputs": [
    {
     "data": {
      "text/html": [
       "<div>\n",
       "<style scoped>\n",
       "    .dataframe tbody tr th:only-of-type {\n",
       "        vertical-align: middle;\n",
       "    }\n",
       "\n",
       "    .dataframe tbody tr th {\n",
       "        vertical-align: top;\n",
       "    }\n",
       "\n",
       "    .dataframe thead th {\n",
       "        text-align: right;\n",
       "    }\n",
       "</style>\n",
       "<table border=\"1\" class=\"dataframe\">\n",
       "  <thead>\n",
       "    <tr style=\"text-align: right;\">\n",
       "      <th></th>\n",
       "      <th>a_pharmaid</th>\n",
       "      <th>hospital_coded</th>\n",
       "      <th>pharmaname</th>\n",
       "      <th>pharmagroupname</th>\n",
       "      <th>pharmaformunit</th>\n",
       "      <th>pharmadoseunit</th>\n",
       "      <th>pharmadoseformratio</th>\n",
       "      <th>pharmavolumeunit</th>\n",
       "      <th>pharmavolumeformratio</th>\n",
       "    </tr>\n",
       "  </thead>\n",
       "  <tbody>\n",
       "    <tr>\n",
       "      <th>0</th>\n",
       "      <td>3000000004</td>\n",
       "      <td>3</td>\n",
       "      <td>COMPLEX DE PROTROMBINA 600 UI (F. IX) vi</td>\n",
       "      <td>.Antihemorràgics</td>\n",
       "      <td>vial</td>\n",
       "      <td>UI</td>\n",
       "      <td>600.0</td>\n",
       "      <td>ml</td>\n",
       "      <td>0.0</td>\n",
       "    </tr>\n",
       "    <tr>\n",
       "      <th>1</th>\n",
       "      <td>3000000005</td>\n",
       "      <td>3</td>\n",
       "      <td>OMEPRAZOL 40 mg vial</td>\n",
       "      <td>.Antiàcids</td>\n",
       "      <td>vial</td>\n",
       "      <td>mg</td>\n",
       "      <td>40.0</td>\n",
       "      <td>ml</td>\n",
       "      <td>0.0</td>\n",
       "    </tr>\n",
       "    <tr>\n",
       "      <th>2</th>\n",
       "      <td>3000000021</td>\n",
       "      <td>3</td>\n",
       "      <td>HEPARINA SODICA 5.000 UI/5 ml (1%) vial</td>\n",
       "      <td>ANTITROMBOTICS</td>\n",
       "      <td>ml</td>\n",
       "      <td>UI</td>\n",
       "      <td>1000.0</td>\n",
       "      <td>ml</td>\n",
       "      <td>1.0</td>\n",
       "    </tr>\n",
       "    <tr>\n",
       "      <th>3</th>\n",
       "      <td>3000000025</td>\n",
       "      <td>3</td>\n",
       "      <td>FOSFAT MONOPOTASSIC 10 mmol P/10 ml (1 M</td>\n",
       "      <td>.Electròlits</td>\n",
       "      <td>ml</td>\n",
       "      <td>mmol</td>\n",
       "      <td>1.0</td>\n",
       "      <td>ml</td>\n",
       "      <td>1.0</td>\n",
       "    </tr>\n",
       "    <tr>\n",
       "      <th>4</th>\n",
       "      <td>3000000049</td>\n",
       "      <td>3</td>\n",
       "      <td>FUROSEMIDA 250 mg/25 ml amp</td>\n",
       "      <td>DIURETICS</td>\n",
       "      <td>ml</td>\n",
       "      <td>mg</td>\n",
       "      <td>10.0</td>\n",
       "      <td>ml</td>\n",
       "      <td>1.0</td>\n",
       "    </tr>\n",
       "  </tbody>\n",
       "</table>\n",
       "</div>"
      ],
      "text/plain": [
       "   a_pharmaid  hospital_coded                                pharmaname  \\\n",
       "0  3000000004               3  COMPLEX DE PROTROMBINA 600 UI (F. IX) vi   \n",
       "1  3000000005               3                      OMEPRAZOL 40 mg vial   \n",
       "2  3000000021               3   HEPARINA SODICA 5.000 UI/5 ml (1%) vial   \n",
       "3  3000000025               3  FOSFAT MONOPOTASSIC 10 mmol P/10 ml (1 M   \n",
       "4  3000000049               3               FUROSEMIDA 250 mg/25 ml amp   \n",
       "\n",
       "    pharmagroupname pharmaformunit pharmadoseunit  pharmadoseformratio  \\\n",
       "0  .Antihemorràgics           vial             UI                600.0   \n",
       "1        .Antiàcids           vial             mg                 40.0   \n",
       "2    ANTITROMBOTICS             ml             UI               1000.0   \n",
       "3      .Electròlits             ml           mmol                  1.0   \n",
       "4         DIURETICS             ml             mg                 10.0   \n",
       "\n",
       "  pharmavolumeunit  pharmavolumeformratio  \n",
       "0               ml                    0.0  \n",
       "1               ml                    0.0  \n",
       "2               ml                    1.0  \n",
       "3               ml                    1.0  \n",
       "4               ml                    1.0  "
      ]
     },
     "execution_count": 8,
     "metadata": {},
     "output_type": "execute_result"
    }
   ],
   "source": [
    "bucket='icusics-db-demo'\n",
    "file_key = 'h3_db/drugs_ref/h3_drugs_ref.csv'\n",
    "s3uri = 's3://{}/{}'.format(bucket, file_key)\n",
    "df = pd.read_csv(s3uri)\n",
    "df.head()"
   ]
  },
  {
   "cell_type": "code",
   "execution_count": 6,
   "id": "6e2fef5a-de48-439d-93d9-43f71ea54fd3",
   "metadata": {},
   "outputs": [
    {
     "data": {
      "text/plain": [
       "4    5023\n",
       "2     424\n",
       "1     328\n",
       "8     218\n",
       "Name: vartype, dtype: int64"
      ]
     },
     "execution_count": 6,
     "metadata": {},
     "output_type": "execute_result"
    }
   ],
   "source": [
    "df['vartype'].value_counts()"
   ]
  },
  {
   "cell_type": "code",
   "execution_count": 7,
   "id": "dbbe1ce1-c4fb-49b2-8f2f-e5adb11c82d7",
   "metadata": {},
   "outputs": [
    {
     "data": {
      "text/plain": [
       "1    4597\n",
       "0     974\n",
       "2     422\n",
       "Name: datatype, dtype: int64"
      ]
     },
     "execution_count": 7,
     "metadata": {},
     "output_type": "execute_result"
    }
   ],
   "source": [
    "df['datatype'].value_counts()"
   ]
  },
  {
   "cell_type": "code",
   "execution_count": null,
   "id": "72f12d89-d458-44a8-b929-1f853c5e5365",
   "metadata": {},
   "outputs": [],
   "source": [
    "%%time\n",
    "\n",
    "h = '3'\n",
    "f = f'h{h}_db/v_derived'\n",
    "\n",
    "folder = os.listdir(f)\n",
    "files = [match for match in folder if f\"h{h}_\" in match]\n",
    "\n",
    "vmi = pd.DataFrame()\n",
    "chunk_index=1\n",
    "\n",
    "for file in files:\n",
    "    \n",
    "    chunk = pd.read_csv(f'{f}/{file}')\n",
    "    vmi_chunck = chunk[(chunk['a_variableid']==3015002262) & (chunk['value']==12)]\n",
    "    vmi = pd.concat([vmi, vmi_chunck])"
   ]
  }
 ],
 "metadata": {
  "instance_type": "ml.t3.medium",
  "kernelspec": {
   "display_name": "Python 3 (Data Science)",
   "language": "python",
   "name": "python3__SAGEMAKER_INTERNAL__arn:aws:sagemaker:eu-west-1:470317259841:image/datascience-1.0"
  },
  "language_info": {
   "codemirror_mode": {
    "name": "ipython",
    "version": 3
   },
   "file_extension": ".py",
   "mimetype": "text/x-python",
   "name": "python",
   "nbconvert_exporter": "python",
   "pygments_lexer": "ipython3",
   "version": "3.7.10"
  }
 },
 "nbformat": 4,
 "nbformat_minor": 5
}
