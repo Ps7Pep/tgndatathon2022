{
 "cells": [
  {
   "cell_type": "markdown",
   "id": "be356102-ffdb-4732-81fc-f57f08fd5824",
   "metadata": {},
   "source": [
    "# ICUsICS DB tutorial"
   ]
  },
  {
   "cell_type": "markdown",
   "id": "2eb70f7c-57da-4ae9-abec-18c7cf3b1086",
   "metadata": {},
   "source": [
    "ICUsICS is an anonymized database built from the data stored into the Clinical Information System (CIS) database of 6 Intensive Care Units (ICUs) from the Catalan Institute of Health (ICS). Actually, it is a database of databases, because each ICU belongs to a different hospital and each CIS presents its own particularities.\n",
    "\n",
    "ICUsICS is not hosted as a database 'per se', but as a directory of folders (tables) with parquet files inside (registries). Together with this tutorial there is a .png image (db_map.png) that shows the tables relation and fields names and types. This will be extremely helpful to search, fetch and merge information.\n",
    "\n",
    "As you can see in the map, there are a total of 13 tables:\n",
    "\n",
    "patients, d_variables and d_pharma are very small tables. patients contain some (few due to the anonymozed process) patient-level info and d_variables and d_pharma are dictionaries that contain all the metadata info needed to search the data (names, descriptions, table where data is stored, etc.).\n",
    "\n",
    "diagnoses, pharma_orders, pharma_records, labresults_numeric, observation_numeric, observation_flagged, observation_categoric, monitored_categoric are medium-size tables, which mean they are splitted by hospital in 6 chunks (the parquet files inside contain the suffix \\_h1, \\_h2, \\_h3, \\_h4, \\_h5, or \\_h6). This will be useful to avoid reading registries of hospitals you don't want to include in your dataset, optimizing queries time.\n",
    "\n",
    "monitored_numeric and derived_numeric are very large tables, which mean they are splitted by groups of patients in 600 chunks (100 chunks per hospital). The chunks have as suffix the first and last a_patientid in heach chunk (example: 101_109.parquet). This will be useful to avoid reading registries of patients you don't want to include in your dataset, optimizing queries time.\n",
    "\n",
    "This tutorial contains demo code to build a dataset using data of hospital 3."
   ]
  },
  {
   "cell_type": "markdown",
   "id": "356133e5-612d-40e6-b8b6-741c01fae4b4",
   "metadata": {},
   "source": [
    "#### First, install fastparquet and awswrangler"
   ]
  },
  {
   "cell_type": "code",
   "execution_count": 2,
   "id": "1a8d9b5c-781f-4918-850f-73ac93e21a68",
   "metadata": {},
   "outputs": [
    {
     "name": "stdout",
     "output_type": "stream",
     "text": [
      "Keyring is skipped due to an exception: 'keyring.backends'\n",
      "Collecting fastparquet\n",
      "  Using cached fastparquet-0.8.1-cp37-cp37m-manylinux_2_17_x86_64.manylinux2014_x86_64.whl (1.5 MB)\n",
      "Requirement already satisfied: pandas>=1.1.0 in /opt/conda/lib/python3.7/site-packages (from fastparquet) (1.3.5)\n",
      "Requirement already satisfied: numpy>=1.18 in /opt/conda/lib/python3.7/site-packages (from fastparquet) (1.21.6)\n",
      "Collecting cramjam>=2.3.0\n",
      "  Using cached cramjam-2.6.2-cp37-cp37m-manylinux_2_17_x86_64.manylinux2014_x86_64.whl (2.0 MB)\n",
      "Requirement already satisfied: fsspec in /opt/conda/lib/python3.7/site-packages (from fastparquet) (2022.11.0)\n",
      "Requirement already satisfied: pytz>=2017.3 in /opt/conda/lib/python3.7/site-packages (from pandas>=1.1.0->fastparquet) (2019.3)\n",
      "Requirement already satisfied: python-dateutil>=2.7.3 in /opt/conda/lib/python3.7/site-packages (from pandas>=1.1.0->fastparquet) (2.8.2)\n",
      "Requirement already satisfied: six>=1.5 in /opt/conda/lib/python3.7/site-packages (from python-dateutil>=2.7.3->pandas>=1.1.0->fastparquet) (1.14.0)\n",
      "Installing collected packages: cramjam, fastparquet\n",
      "Successfully installed cramjam-2.6.2 fastparquet-0.8.1\n",
      "\u001b[33mWARNING: Running pip as the 'root' user can result in broken permissions and conflicting behaviour with the system package manager. It is recommended to use a virtual environment instead: https://pip.pypa.io/warnings/venv\u001b[0m\u001b[33m\n",
      "\u001b[0mNote: you may need to restart the kernel to use updated packages.\n"
     ]
    }
   ],
   "source": [
    "!pip install fastparquet"
   ]
  },
  {
   "cell_type": "code",
   "execution_count": 13,
   "id": "227535cf-3d24-4cbd-a4da-f5ee7ef1863a",
   "metadata": {
    "tags": []
   },
   "outputs": [
    {
     "name": "stdout",
     "output_type": "stream",
     "text": [
      "Keyring is skipped due to an exception: 'keyring.backends'\n",
      "Requirement already satisfied: awswrangler in /opt/conda/lib/python3.7/site-packages (2.17.0)\n",
      "Requirement already satisfied: boto3<2.0.0,>=1.24.11 in /opt/conda/lib/python3.7/site-packages (from awswrangler) (1.26.8)\n",
      "Requirement already satisfied: gremlinpython<4.0.0,>=3.5.2 in /opt/conda/lib/python3.7/site-packages (from awswrangler) (3.6.1)\n",
      "Requirement already satisfied: opensearch-py<3,>=1 in /opt/conda/lib/python3.7/site-packages (from awswrangler) (2.0.0)\n",
      "Requirement already satisfied: backoff<3.0.0,>=1.11.1 in /opt/conda/lib/python3.7/site-packages (from awswrangler) (2.2.1)\n",
      "Requirement already satisfied: progressbar2<5.0.0,>=4.0.0 in /opt/conda/lib/python3.7/site-packages (from awswrangler) (4.2.0)\n",
      "Requirement already satisfied: jsonpath-ng<2.0.0,>=1.5.3 in /opt/conda/lib/python3.7/site-packages (from awswrangler) (1.5.3)\n",
      "Requirement already satisfied: pymysql<2.0.0,>=1.0.0 in /opt/conda/lib/python3.7/site-packages (from awswrangler) (1.0.2)\n",
      "Requirement already satisfied: requests-aws4auth<2.0.0,>=1.1.1 in /opt/conda/lib/python3.7/site-packages (from awswrangler) (1.1.2)\n",
      "Requirement already satisfied: pyarrow<8.1.0,>=2.0.0 in /opt/conda/lib/python3.7/site-packages (from awswrangler) (8.0.0)\n",
      "Requirement already satisfied: pandas<2.0.0,>=1.2.0 in /opt/conda/lib/python3.7/site-packages (from awswrangler) (1.3.5)\n",
      "Requirement already satisfied: redshift-connector<2.1.0,>=2.0.889 in /opt/conda/lib/python3.7/site-packages (from awswrangler) (2.0.909)\n",
      "Requirement already satisfied: numpy<2.0.0,>=1.21.0 in /opt/conda/lib/python3.7/site-packages (from awswrangler) (1.21.6)\n",
      "Requirement already satisfied: openpyxl<3.1.0,>=3.0.0 in /opt/conda/lib/python3.7/site-packages (from awswrangler) (3.0.3)\n",
      "Requirement already satisfied: pg8000<2.0.0,>=1.20.0 in /opt/conda/lib/python3.7/site-packages (from awswrangler) (1.29.3)\n",
      "Requirement already satisfied: botocore<2.0.0,>=1.27.11 in /opt/conda/lib/python3.7/site-packages (from awswrangler) (1.29.8)\n",
      "Requirement already satisfied: jmespath<2.0.0,>=0.7.1 in /opt/conda/lib/python3.7/site-packages (from boto3<2.0.0,>=1.24.11->awswrangler) (1.0.1)\n",
      "Requirement already satisfied: s3transfer<0.7.0,>=0.6.0 in /opt/conda/lib/python3.7/site-packages (from boto3<2.0.0,>=1.24.11->awswrangler) (0.6.0)\n",
      "Requirement already satisfied: urllib3<1.27,>=1.25.4 in /opt/conda/lib/python3.7/site-packages (from botocore<2.0.0,>=1.27.11->awswrangler) (1.26.12)\n",
      "Requirement already satisfied: python-dateutil<3.0.0,>=2.1 in /opt/conda/lib/python3.7/site-packages (from botocore<2.0.0,>=1.27.11->awswrangler) (2.8.2)\n",
      "Requirement already satisfied: nest-asyncio in /opt/conda/lib/python3.7/site-packages (from gremlinpython<4.0.0,>=3.5.2->awswrangler) (1.5.6)\n",
      "Requirement already satisfied: aiohttp<=3.8.1,>=3.8.0 in /opt/conda/lib/python3.7/site-packages (from gremlinpython<4.0.0,>=3.5.2->awswrangler) (3.8.1)\n",
      "Requirement already satisfied: isodate<1.0.0,>=0.6.0 in /opt/conda/lib/python3.7/site-packages (from gremlinpython<4.0.0,>=3.5.2->awswrangler) (0.6.1)\n",
      "Requirement already satisfied: aenum<4.0.0,>=1.4.5 in /opt/conda/lib/python3.7/site-packages (from gremlinpython<4.0.0,>=3.5.2->awswrangler) (3.1.11)\n",
      "Requirement already satisfied: six in /opt/conda/lib/python3.7/site-packages (from jsonpath-ng<2.0.0,>=1.5.3->awswrangler) (1.14.0)\n",
      "Requirement already satisfied: ply in /opt/conda/lib/python3.7/site-packages (from jsonpath-ng<2.0.0,>=1.5.3->awswrangler) (3.11)\n",
      "Requirement already satisfied: decorator in /opt/conda/lib/python3.7/site-packages (from jsonpath-ng<2.0.0,>=1.5.3->awswrangler) (4.4.1)\n",
      "Requirement already satisfied: jdcal in /opt/conda/lib/python3.7/site-packages (from openpyxl<3.1.0,>=3.0.0->awswrangler) (1.4.1)\n",
      "Requirement already satisfied: et-xmlfile in /opt/conda/lib/python3.7/site-packages (from openpyxl<3.1.0,>=3.0.0->awswrangler) (1.0.1)\n",
      "Requirement already satisfied: requests<3.0.0,>=2.4.0 in /opt/conda/lib/python3.7/site-packages (from opensearch-py<3,>=1->awswrangler) (2.28.1)\n",
      "Requirement already satisfied: certifi in /opt/conda/lib/python3.7/site-packages (from opensearch-py<3,>=1->awswrangler) (2022.9.24)\n",
      "Requirement already satisfied: pytz>=2017.3 in /opt/conda/lib/python3.7/site-packages (from pandas<2.0.0,>=1.2.0->awswrangler) (2022.6)\n",
      "Requirement already satisfied: scramp>=1.4.3 in /opt/conda/lib/python3.7/site-packages (from pg8000<2.0.0,>=1.20.0->awswrangler) (1.4.4)\n",
      "Requirement already satisfied: importlib-metadata>=1.0 in /opt/conda/lib/python3.7/site-packages (from pg8000<2.0.0,>=1.20.0->awswrangler) (5.0.0)\n",
      "Requirement already satisfied: python-utils>=3.0.0 in /opt/conda/lib/python3.7/site-packages (from progressbar2<5.0.0,>=4.0.0->awswrangler) (3.4.5)\n",
      "Requirement already satisfied: setuptools in /opt/conda/lib/python3.7/site-packages (from redshift-connector<2.1.0,>=2.0.889->awswrangler) (59.3.0)\n",
      "Requirement already satisfied: beautifulsoup4<5.0.0,>=4.7.0 in /opt/conda/lib/python3.7/site-packages (from redshift-connector<2.1.0,>=2.0.889->awswrangler) (4.8.2)\n",
      "Requirement already satisfied: lxml>=4.6.5 in /opt/conda/lib/python3.7/site-packages (from redshift-connector<2.1.0,>=2.0.889->awswrangler) (4.9.1)\n",
      "Requirement already satisfied: packaging in /opt/conda/lib/python3.7/site-packages (from redshift-connector<2.1.0,>=2.0.889->awswrangler) (20.1)\n",
      "Requirement already satisfied: typing-extensions>=3.7.4 in /opt/conda/lib/python3.7/site-packages (from aiohttp<=3.8.1,>=3.8.0->gremlinpython<4.0.0,>=3.5.2->awswrangler) (4.4.0)\n",
      "Requirement already satisfied: yarl<2.0,>=1.0 in /opt/conda/lib/python3.7/site-packages (from aiohttp<=3.8.1,>=3.8.0->gremlinpython<4.0.0,>=3.5.2->awswrangler) (1.8.1)\n",
      "Requirement already satisfied: aiosignal>=1.1.2 in /opt/conda/lib/python3.7/site-packages (from aiohttp<=3.8.1,>=3.8.0->gremlinpython<4.0.0,>=3.5.2->awswrangler) (1.3.1)\n",
      "Requirement already satisfied: multidict<7.0,>=4.5 in /opt/conda/lib/python3.7/site-packages (from aiohttp<=3.8.1,>=3.8.0->gremlinpython<4.0.0,>=3.5.2->awswrangler) (6.0.2)\n",
      "Requirement already satisfied: asynctest==0.13.0 in /opt/conda/lib/python3.7/site-packages (from aiohttp<=3.8.1,>=3.8.0->gremlinpython<4.0.0,>=3.5.2->awswrangler) (0.13.0)\n",
      "Requirement already satisfied: charset-normalizer<3.0,>=2.0 in /opt/conda/lib/python3.7/site-packages (from aiohttp<=3.8.1,>=3.8.0->gremlinpython<4.0.0,>=3.5.2->awswrangler) (2.0.4)\n",
      "Requirement already satisfied: attrs>=17.3.0 in /opt/conda/lib/python3.7/site-packages (from aiohttp<=3.8.1,>=3.8.0->gremlinpython<4.0.0,>=3.5.2->awswrangler) (22.1.0)\n",
      "Requirement already satisfied: async-timeout<5.0,>=4.0.0a3 in /opt/conda/lib/python3.7/site-packages (from aiohttp<=3.8.1,>=3.8.0->gremlinpython<4.0.0,>=3.5.2->awswrangler) (4.0.2)\n",
      "Requirement already satisfied: frozenlist>=1.1.1 in /opt/conda/lib/python3.7/site-packages (from aiohttp<=3.8.1,>=3.8.0->gremlinpython<4.0.0,>=3.5.2->awswrangler) (1.3.3)\n",
      "Requirement already satisfied: soupsieve>=1.2 in /opt/conda/lib/python3.7/site-packages (from beautifulsoup4<5.0.0,>=4.7.0->redshift-connector<2.1.0,>=2.0.889->awswrangler) (1.9.5)\n",
      "Requirement already satisfied: zipp>=0.5 in /opt/conda/lib/python3.7/site-packages (from importlib-metadata>=1.0->pg8000<2.0.0,>=1.20.0->awswrangler) (3.10.0)\n",
      "Requirement already satisfied: idna<4,>=2.5 in /opt/conda/lib/python3.7/site-packages (from requests<3.0.0,>=2.4.0->opensearch-py<3,>=1->awswrangler) (2.8)\n",
      "Requirement already satisfied: asn1crypto>=1.5.1 in /opt/conda/lib/python3.7/site-packages (from scramp>=1.4.3->pg8000<2.0.0,>=1.20.0->awswrangler) (1.5.1)\n",
      "Requirement already satisfied: pyparsing>=2.0.2 in /opt/conda/lib/python3.7/site-packages (from packaging->redshift-connector<2.1.0,>=2.0.889->awswrangler) (2.4.6)\n",
      "\u001b[33mWARNING: Running pip as the 'root' user can result in broken permissions and conflicting behaviour with the system package manager. It is recommended to use a virtual environment instead: https://pip.pypa.io/warnings/venv\u001b[0m\u001b[33m\n",
      "\u001b[0m"
     ]
    }
   ],
   "source": [
    "!pip install awswrangler"
   ]
  },
  {
   "cell_type": "markdown",
   "id": "0365f821-6af2-448c-9e9f-f27669937e27",
   "metadata": {},
   "source": [
    "#### Then, import packages"
   ]
  },
  {
   "cell_type": "code",
   "execution_count": 17,
   "id": "e08bf6e6-4260-40c5-994b-727e698e01d8",
   "metadata": {},
   "outputs": [],
   "source": [
    "import awswrangler as wr\n",
    "import boto3\n",
    "import pandas as pd\n",
    "import numpy as np\n",
    "import re\n",
    "from sagemaker import get_execution_role\n",
    "role = get_execution_role()\n",
    "s3 = boto3.resource('s3')"
   ]
  },
  {
   "cell_type": "markdown",
   "id": "fdbde786-27e9-47af-b7fb-b7735a7c036c",
   "metadata": {},
   "source": [
    "## Before starting the creating cohort example, let's take a look to the patients table to get a general idea of the number of patients x hospital, mortality and lenght of stay distribution"
   ]
  },
  {
   "cell_type": "code",
   "execution_count": 18,
   "id": "5a282b27-b128-41e3-98ae-ddafb2623eb3",
   "metadata": {},
   "outputs": [
    {
     "name": "stdout",
     "output_type": "stream",
     "text": [
      "CPU times: user 75.5 ms, sys: 9.61 ms, total: 85.1 ms\n",
      "Wall time: 235 ms\n"
     ]
    }
   ],
   "source": [
    "%%time\n",
    "\n",
    "icusics_db_patients = wr.s3.read_parquet(path=\"s3://icusics-db/patients/patients.parquet\")"
   ]
  },
  {
   "cell_type": "code",
   "execution_count": 19,
   "id": "10b85a65-030b-4d29-a55d-da24f083829d",
   "metadata": {},
   "outputs": [
    {
     "data": {
      "text/html": [
       "<div>\n",
       "<style scoped>\n",
       "    .dataframe tbody tr th:only-of-type {\n",
       "        vertical-align: middle;\n",
       "    }\n",
       "\n",
       "    .dataframe tbody tr th {\n",
       "        vertical-align: top;\n",
       "    }\n",
       "\n",
       "    .dataframe thead th {\n",
       "        text-align: right;\n",
       "    }\n",
       "</style>\n",
       "<table border=\"1\" class=\"dataframe\">\n",
       "  <thead>\n",
       "    <tr style=\"text-align: right;\">\n",
       "      <th></th>\n",
       "      <th>hospital_coded</th>\n",
       "      <th>a_patientid</th>\n",
       "      <th>patientsex</th>\n",
       "      <th>age</th>\n",
       "      <th>height</th>\n",
       "      <th>weight</th>\n",
       "      <th>bmi</th>\n",
       "      <th>hospadmtime</th>\n",
       "      <th>distime</th>\n",
       "      <th>hospdistime</th>\n",
       "      <th>hospital_outcome</th>\n",
       "    </tr>\n",
       "  </thead>\n",
       "  <tbody>\n",
       "    <tr>\n",
       "      <th>0</th>\n",
       "      <td>1</td>\n",
       "      <td>1000091</td>\n",
       "      <td>M</td>\n",
       "      <td>70</td>\n",
       "      <td>160</td>\n",
       "      <td>50</td>\n",
       "      <td>20</td>\n",
       "      <td>-549</td>\n",
       "      <td>6034</td>\n",
       "      <td>24482</td>\n",
       "      <td>ALIVE</td>\n",
       "    </tr>\n",
       "    <tr>\n",
       "      <th>1</th>\n",
       "      <td>1</td>\n",
       "      <td>1000109</td>\n",
       "      <td>M</td>\n",
       "      <td>50</td>\n",
       "      <td>160</td>\n",
       "      <td>80</td>\n",
       "      <td>31</td>\n",
       "      <td>-12516</td>\n",
       "      <td>10118</td>\n",
       "      <td>32875</td>\n",
       "      <td>ALIVE</td>\n",
       "    </tr>\n",
       "    <tr>\n",
       "      <th>2</th>\n",
       "      <td>1</td>\n",
       "      <td>1000211</td>\n",
       "      <td>M</td>\n",
       "      <td>70</td>\n",
       "      <td>160</td>\n",
       "      <td>60</td>\n",
       "      <td>23</td>\n",
       "      <td>-13013</td>\n",
       "      <td>2495</td>\n",
       "      <td>2495</td>\n",
       "      <td>EXITUS</td>\n",
       "    </tr>\n",
       "    <tr>\n",
       "      <th>3</th>\n",
       "      <td>1</td>\n",
       "      <td>1000999</td>\n",
       "      <td>F</td>\n",
       "      <td>30</td>\n",
       "      <td>150</td>\n",
       "      <td>60</td>\n",
       "      <td>27</td>\n",
       "      <td>-1731</td>\n",
       "      <td>8597</td>\n",
       "      <td>21402</td>\n",
       "      <td>ALIVE</td>\n",
       "    </tr>\n",
       "    <tr>\n",
       "      <th>4</th>\n",
       "      <td>1</td>\n",
       "      <td>1001000</td>\n",
       "      <td>F</td>\n",
       "      <td>50</td>\n",
       "      <td>160</td>\n",
       "      <td>80</td>\n",
       "      <td>31</td>\n",
       "      <td>0</td>\n",
       "      <td>31713</td>\n",
       "      <td>31830</td>\n",
       "      <td>EXITUS</td>\n",
       "    </tr>\n",
       "  </tbody>\n",
       "</table>\n",
       "</div>"
      ],
      "text/plain": [
       "   hospital_coded  a_patientid patientsex  age  height  weight  bmi  \\\n",
       "0               1      1000091          M   70     160      50   20   \n",
       "1               1      1000109          M   50     160      80   31   \n",
       "2               1      1000211          M   70     160      60   23   \n",
       "3               1      1000999          F   30     150      60   27   \n",
       "4               1      1001000          F   50     160      80   31   \n",
       "\n",
       "   hospadmtime  distime  hospdistime hospital_outcome  \n",
       "0         -549     6034        24482            ALIVE  \n",
       "1       -12516    10118        32875            ALIVE  \n",
       "2       -13013     2495         2495           EXITUS  \n",
       "3        -1731     8597        21402            ALIVE  \n",
       "4            0    31713        31830           EXITUS  "
      ]
     },
     "execution_count": 19,
     "metadata": {},
     "output_type": "execute_result"
    }
   ],
   "source": [
    "icusics_db_patients.head()"
   ]
  },
  {
   "cell_type": "markdown",
   "id": "349259e8-c51c-4210-aed4-ca18aa6c80cd",
   "metadata": {},
   "source": [
    "#### Check if the database is correctly k5 anonymized"
   ]
  },
  {
   "cell_type": "code",
   "execution_count": 20,
   "id": "04b03675-b0aa-4b87-9bde-c5e74cd8c300",
   "metadata": {},
   "outputs": [
    {
     "name": "stdout",
     "output_type": "stream",
     "text": [
      "minimum number of patients grouped by indirect identifiers: 5\n"
     ]
    }
   ],
   "source": [
    "print('minimum number of patients grouped by indirect identifiers:', icusics_db_patients.groupby(\n",
    "    ['hospital_coded','patientsex','age',\n",
    "    'height','weight','bmi','hospital_outcome']).agg({'a_patientid':'nunique'})['a_patientid'].min())"
   ]
  },
  {
   "cell_type": "markdown",
   "id": "7b5a4af8-9199-4379-8be3-2a865804ed43",
   "metadata": {},
   "source": [
    "#### Nº of patients in the database"
   ]
  },
  {
   "cell_type": "code",
   "execution_count": 21,
   "id": "13d1837d-9a15-494b-a010-d843cc264f47",
   "metadata": {},
   "outputs": [
    {
     "name": "stdout",
     "output_type": "stream",
     "text": [
      "number of patinets in the database: 21139\n",
      "number of patients per hospital:\n"
     ]
    },
    {
     "data": {
      "text/html": [
       "<div>\n",
       "<style scoped>\n",
       "    .dataframe tbody tr th:only-of-type {\n",
       "        vertical-align: middle;\n",
       "    }\n",
       "\n",
       "    .dataframe tbody tr th {\n",
       "        vertical-align: top;\n",
       "    }\n",
       "\n",
       "    .dataframe thead th {\n",
       "        text-align: right;\n",
       "    }\n",
       "</style>\n",
       "<table border=\"1\" class=\"dataframe\">\n",
       "  <thead>\n",
       "    <tr style=\"text-align: right;\">\n",
       "      <th></th>\n",
       "      <th>hospital_coded</th>\n",
       "      <th>a_patientid</th>\n",
       "    </tr>\n",
       "  </thead>\n",
       "  <tbody>\n",
       "    <tr>\n",
       "      <th>0</th>\n",
       "      <td>1</td>\n",
       "      <td>4519</td>\n",
       "    </tr>\n",
       "    <tr>\n",
       "      <th>1</th>\n",
       "      <td>2</td>\n",
       "      <td>4653</td>\n",
       "    </tr>\n",
       "    <tr>\n",
       "      <th>2</th>\n",
       "      <td>3</td>\n",
       "      <td>3815</td>\n",
       "    </tr>\n",
       "    <tr>\n",
       "      <th>3</th>\n",
       "      <td>4</td>\n",
       "      <td>3949</td>\n",
       "    </tr>\n",
       "    <tr>\n",
       "      <th>4</th>\n",
       "      <td>5</td>\n",
       "      <td>2025</td>\n",
       "    </tr>\n",
       "    <tr>\n",
       "      <th>5</th>\n",
       "      <td>6</td>\n",
       "      <td>2178</td>\n",
       "    </tr>\n",
       "  </tbody>\n",
       "</table>\n",
       "</div>"
      ],
      "text/plain": [
       "   hospital_coded  a_patientid\n",
       "0               1         4519\n",
       "1               2         4653\n",
       "2               3         3815\n",
       "3               4         3949\n",
       "4               5         2025\n",
       "5               6         2178"
      ]
     },
     "execution_count": 21,
     "metadata": {},
     "output_type": "execute_result"
    }
   ],
   "source": [
    "print('number of patinets in the database:',icusics_db_patients['a_patientid'].nunique())\n",
    "print('number of patients per hospital:')\n",
    "icusics_db_patients.groupby('hospital_coded', as_index=False).agg({'a_patientid':'nunique'})"
   ]
  },
  {
   "cell_type": "markdown",
   "id": "6602724d-443b-4046-b55f-7e665ce99833",
   "metadata": {},
   "source": [
    "#### Hospital mortality (note that this is not the real mortality of the hospital, but the mortality of the people who has been included in its anonymized version)"
   ]
  },
  {
   "cell_type": "code",
   "execution_count": 22,
   "id": "871a0730-2489-46e0-90bd-ac1527844642",
   "metadata": {},
   "outputs": [
    {
     "data": {
      "text/plain": [
       "hospital_coded  hospital_outcome\n",
       "1               ALIVE               0.738659\n",
       "                EXITUS              0.261341\n",
       "2               ALIVE               0.696970\n",
       "                EXITUS              0.303030\n",
       "3               ALIVE               0.747575\n",
       "                EXITUS              0.252425\n",
       "4               ALIVE               0.787035\n",
       "                EXITUS              0.212965\n",
       "5               ALIVE               0.881481\n",
       "                EXITUS              0.118519\n",
       "6               ALIVE               0.831956\n",
       "                EXITUS              0.168044\n",
       "Name: hospital_outcome, dtype: float64"
      ]
     },
     "execution_count": 22,
     "metadata": {},
     "output_type": "execute_result"
    }
   ],
   "source": [
    "icusics_db_patients.groupby('hospital_coded')['hospital_outcome'].value_counts(normalize=True)"
   ]
  },
  {
   "cell_type": "markdown",
   "id": "86e28c2e-2666-4854-8b7e-243ff9bef830",
   "metadata": {},
   "source": [
    "#### ICU Length of stay (ICU LOS)"
   ]
  },
  {
   "cell_type": "code",
   "execution_count": 23,
   "id": "02a0236a-cce4-426d-86fe-1c66fc6346d1",
   "metadata": {},
   "outputs": [],
   "source": [
    "icusics_db_patients['distime_in_days'] = round(icusics_db_patients['distime']/1440,1)"
   ]
  },
  {
   "cell_type": "code",
   "execution_count": 24,
   "id": "43fad98e-9dd1-4b43-afb1-8a0b5f3416bc",
   "metadata": {},
   "outputs": [
    {
     "name": "stdout",
     "output_type": "stream",
     "text": [
      "SPOILER ALERT! you will see how even if the numbers are consistent enough, there are some impossible things such as cases with negative distimes. As happen with every database containing manually registered fields, this database can, in some cases, have erroneous times and values (the raw reality when working with real-world data)\n"
     ]
    },
    {
     "data": {
      "text/html": [
       "<div>\n",
       "<style scoped>\n",
       "    .dataframe tbody tr th:only-of-type {\n",
       "        vertical-align: middle;\n",
       "    }\n",
       "\n",
       "    .dataframe tbody tr th {\n",
       "        vertical-align: top;\n",
       "    }\n",
       "\n",
       "    .dataframe thead th {\n",
       "        text-align: right;\n",
       "    }\n",
       "</style>\n",
       "<table border=\"1\" class=\"dataframe\">\n",
       "  <thead>\n",
       "    <tr style=\"text-align: right;\">\n",
       "      <th></th>\n",
       "      <th>count</th>\n",
       "      <th>mean</th>\n",
       "      <th>std</th>\n",
       "      <th>min</th>\n",
       "      <th>25%</th>\n",
       "      <th>50%</th>\n",
       "      <th>75%</th>\n",
       "      <th>max</th>\n",
       "    </tr>\n",
       "    <tr>\n",
       "      <th>hospital_coded</th>\n",
       "      <th></th>\n",
       "      <th></th>\n",
       "      <th></th>\n",
       "      <th></th>\n",
       "      <th></th>\n",
       "      <th></th>\n",
       "      <th></th>\n",
       "      <th></th>\n",
       "    </tr>\n",
       "  </thead>\n",
       "  <tbody>\n",
       "    <tr>\n",
       "      <th>1</th>\n",
       "      <td>4519.0</td>\n",
       "      <td>6.963023</td>\n",
       "      <td>12.010618</td>\n",
       "      <td>0.0</td>\n",
       "      <td>1.0</td>\n",
       "      <td>2.2</td>\n",
       "      <td>6.9</td>\n",
       "      <td>129.8</td>\n",
       "    </tr>\n",
       "    <tr>\n",
       "      <th>2</th>\n",
       "      <td>4653.0</td>\n",
       "      <td>7.049581</td>\n",
       "      <td>10.572153</td>\n",
       "      <td>-0.9</td>\n",
       "      <td>1.8</td>\n",
       "      <td>3.0</td>\n",
       "      <td>7.1</td>\n",
       "      <td>118.0</td>\n",
       "    </tr>\n",
       "    <tr>\n",
       "      <th>3</th>\n",
       "      <td>3815.0</td>\n",
       "      <td>6.600813</td>\n",
       "      <td>12.672646</td>\n",
       "      <td>0.0</td>\n",
       "      <td>1.6</td>\n",
       "      <td>2.7</td>\n",
       "      <td>5.8</td>\n",
       "      <td>192.8</td>\n",
       "    </tr>\n",
       "    <tr>\n",
       "      <th>4</th>\n",
       "      <td>3949.0</td>\n",
       "      <td>7.161104</td>\n",
       "      <td>12.900796</td>\n",
       "      <td>0.0</td>\n",
       "      <td>1.6</td>\n",
       "      <td>2.7</td>\n",
       "      <td>6.6</td>\n",
       "      <td>307.6</td>\n",
       "    </tr>\n",
       "    <tr>\n",
       "      <th>5</th>\n",
       "      <td>2025.0</td>\n",
       "      <td>4.127457</td>\n",
       "      <td>7.196876</td>\n",
       "      <td>0.0</td>\n",
       "      <td>1.0</td>\n",
       "      <td>1.9</td>\n",
       "      <td>3.7</td>\n",
       "      <td>70.1</td>\n",
       "    </tr>\n",
       "    <tr>\n",
       "      <th>6</th>\n",
       "      <td>2178.0</td>\n",
       "      <td>5.508586</td>\n",
       "      <td>8.961284</td>\n",
       "      <td>0.0</td>\n",
       "      <td>1.1</td>\n",
       "      <td>2.2</td>\n",
       "      <td>5.3</td>\n",
       "      <td>89.5</td>\n",
       "    </tr>\n",
       "  </tbody>\n",
       "</table>\n",
       "</div>"
      ],
      "text/plain": [
       "                 count      mean        std  min  25%  50%  75%    max\n",
       "hospital_coded                                                        \n",
       "1               4519.0  6.963023  12.010618  0.0  1.0  2.2  6.9  129.8\n",
       "2               4653.0  7.049581  10.572153 -0.9  1.8  3.0  7.1  118.0\n",
       "3               3815.0  6.600813  12.672646  0.0  1.6  2.7  5.8  192.8\n",
       "4               3949.0  7.161104  12.900796  0.0  1.6  2.7  6.6  307.6\n",
       "5               2025.0  4.127457   7.196876  0.0  1.0  1.9  3.7   70.1\n",
       "6               2178.0  5.508586   8.961284  0.0  1.1  2.2  5.3   89.5"
      ]
     },
     "execution_count": 24,
     "metadata": {},
     "output_type": "execute_result"
    }
   ],
   "source": [
    "print('SPOILER ALERT! you will see how even if the numbers are consistent enough, there are some \\\n",
    "impossible things such as cases with negative distimes. As happen with every database \\\n",
    "containing manually registered fields, this database can, in some cases, have erroneous times and values \\\n",
    "(the raw reality when working with real-world data)')\n",
    "icusics_db_patients.groupby('hospital_coded')['distime_in_days'].describe()"
   ]
  },
  {
   "cell_type": "code",
   "execution_count": 25,
   "id": "ccdf4029-205d-4aed-b139-d5f2e1620791",
   "metadata": {},
   "outputs": [
    {
     "name": "stdout",
     "output_type": "stream",
     "text": [
      "fortunately, these errors are few:\n"
     ]
    },
    {
     "data": {
      "text/plain": [
       "0.01"
      ]
     },
     "execution_count": 25,
     "metadata": {},
     "output_type": "execute_result"
    }
   ],
   "source": [
    "print('fortunately, these errors are few:')\n",
    "round(icusics_db_patients[icusics_db_patients['distime']<0].shape[0]/icusics_db_patients.shape[0]*100,2)"
   ]
  },
  {
   "cell_type": "markdown",
   "id": "e2b7417b-81f9-421f-a251-f18342a5d504",
   "metadata": {
    "tags": []
   },
   "source": [
    "### Example: Creating a cohort of patients in hospital 3 with:  \n",
    "1- ICU_LOS > 2 days  \n",
    "2- Primary diagnose of pneumonia (any type)   \n",
    "3- Invasive Mechanical Ventilation (IMV)  \n",
    "4- APACHE II > 20  \n",
    "5- Lactate (arterial) > 2mmol/L at first ICU day  \n",
    "6- Sedative Drugs (VAD)  "
   ]
  },
  {
   "cell_type": "markdown",
   "id": "92857be8-4536-4ec9-93b1-6dc8bf922078",
   "metadata": {},
   "source": [
    "### 1- ICU_LOS > 2 days"
   ]
  },
  {
   "cell_type": "code",
   "execution_count": 26,
   "id": "14c5e5e4-fc87-4cfc-80b6-e1fc78cbd05e",
   "metadata": {},
   "outputs": [
    {
     "name": "stdout",
     "output_type": "stream",
     "text": [
      "CPU times: user 4.04 ms, sys: 0 ns, total: 4.04 ms\n",
      "Wall time: 6.22 ms\n"
     ]
    }
   ],
   "source": [
    "%%time\n",
    "\n",
    "patients = icusics_db_patients[icusics_db_patients['hospital_coded']==3]"
   ]
  },
  {
   "cell_type": "code",
   "execution_count": 27,
   "id": "ef976022-f20f-4c0b-a389-a3bb4730ff6f",
   "metadata": {},
   "outputs": [
    {
     "data": {
      "text/html": [
       "<div>\n",
       "<style scoped>\n",
       "    .dataframe tbody tr th:only-of-type {\n",
       "        vertical-align: middle;\n",
       "    }\n",
       "\n",
       "    .dataframe tbody tr th {\n",
       "        vertical-align: top;\n",
       "    }\n",
       "\n",
       "    .dataframe thead th {\n",
       "        text-align: right;\n",
       "    }\n",
       "</style>\n",
       "<table border=\"1\" class=\"dataframe\">\n",
       "  <thead>\n",
       "    <tr style=\"text-align: right;\">\n",
       "      <th></th>\n",
       "      <th>hospital_coded</th>\n",
       "      <th>a_patientid</th>\n",
       "      <th>patientsex</th>\n",
       "      <th>age</th>\n",
       "      <th>height</th>\n",
       "      <th>weight</th>\n",
       "      <th>bmi</th>\n",
       "      <th>hospadmtime</th>\n",
       "      <th>distime</th>\n",
       "      <th>hospdistime</th>\n",
       "      <th>hospital_outcome</th>\n",
       "      <th>distime_in_days</th>\n",
       "    </tr>\n",
       "  </thead>\n",
       "  <tbody>\n",
       "    <tr>\n",
       "      <th>9172</th>\n",
       "      <td>3</td>\n",
       "      <td>3000004</td>\n",
       "      <td>M</td>\n",
       "      <td>40</td>\n",
       "      <td>180</td>\n",
       "      <td>120</td>\n",
       "      <td>37</td>\n",
       "      <td>-3</td>\n",
       "      <td>10309</td>\n",
       "      <td>17603</td>\n",
       "      <td>ALIVE</td>\n",
       "      <td>7.2</td>\n",
       "    </tr>\n",
       "    <tr>\n",
       "      <th>9173</th>\n",
       "      <td>3</td>\n",
       "      <td>3000184</td>\n",
       "      <td>F</td>\n",
       "      <td>80</td>\n",
       "      <td>160</td>\n",
       "      <td>80</td>\n",
       "      <td>31</td>\n",
       "      <td>-4505</td>\n",
       "      <td>3772</td>\n",
       "      <td>15073</td>\n",
       "      <td>ALIVE</td>\n",
       "      <td>2.6</td>\n",
       "    </tr>\n",
       "    <tr>\n",
       "      <th>9174</th>\n",
       "      <td>3</td>\n",
       "      <td>3000446</td>\n",
       "      <td>F</td>\n",
       "      <td>60</td>\n",
       "      <td>150</td>\n",
       "      <td>70</td>\n",
       "      <td>31</td>\n",
       "      <td>-381</td>\n",
       "      <td>9245</td>\n",
       "      <td>19099</td>\n",
       "      <td>ALIVE</td>\n",
       "      <td>6.4</td>\n",
       "    </tr>\n",
       "    <tr>\n",
       "      <th>9175</th>\n",
       "      <td>3</td>\n",
       "      <td>3000658</td>\n",
       "      <td>F</td>\n",
       "      <td>60</td>\n",
       "      <td>160</td>\n",
       "      <td>110</td>\n",
       "      <td>43</td>\n",
       "      <td>-1411</td>\n",
       "      <td>29873</td>\n",
       "      <td>29873</td>\n",
       "      <td>ALIVE</td>\n",
       "      <td>20.7</td>\n",
       "    </tr>\n",
       "    <tr>\n",
       "      <th>9176</th>\n",
       "      <td>3</td>\n",
       "      <td>3000852</td>\n",
       "      <td>F</td>\n",
       "      <td>40</td>\n",
       "      <td>160</td>\n",
       "      <td>90</td>\n",
       "      <td>35</td>\n",
       "      <td>-461</td>\n",
       "      <td>12215</td>\n",
       "      <td>23426</td>\n",
       "      <td>ALIVE</td>\n",
       "      <td>8.5</td>\n",
       "    </tr>\n",
       "  </tbody>\n",
       "</table>\n",
       "</div>"
      ],
      "text/plain": [
       "      hospital_coded  a_patientid patientsex  age  height  weight  bmi  \\\n",
       "9172               3      3000004          M   40     180     120   37   \n",
       "9173               3      3000184          F   80     160      80   31   \n",
       "9174               3      3000446          F   60     150      70   31   \n",
       "9175               3      3000658          F   60     160     110   43   \n",
       "9176               3      3000852          F   40     160      90   35   \n",
       "\n",
       "      hospadmtime  distime  hospdistime hospital_outcome  distime_in_days  \n",
       "9172           -3    10309        17603            ALIVE              7.2  \n",
       "9173        -4505     3772        15073            ALIVE              2.6  \n",
       "9174         -381     9245        19099            ALIVE              6.4  \n",
       "9175        -1411    29873        29873            ALIVE             20.7  \n",
       "9176         -461    12215        23426            ALIVE              8.5  "
      ]
     },
     "execution_count": 27,
     "metadata": {},
     "output_type": "execute_result"
    }
   ],
   "source": [
    "patients.head()"
   ]
  },
  {
   "cell_type": "code",
   "execution_count": 28,
   "id": "c147e617-ea0d-406e-a0ee-da2db7514786",
   "metadata": {},
   "outputs": [
    {
     "name": "stdout",
     "output_type": "stream",
     "text": [
      "(3815, 12)\n",
      "3815\n"
     ]
    }
   ],
   "source": [
    "print(patients.shape)\n",
    "print(patients['a_patientid'].nunique())"
   ]
  },
  {
   "cell_type": "code",
   "execution_count": 29,
   "id": "a35f1cd1-5fdc-40e1-a438-204f44112207",
   "metadata": {},
   "outputs": [],
   "source": [
    "los2d = patients[patients['distime']>2880].sort_values('a_patientid').reset_index(drop=True) # All times in the database are integers that represent the minuts from icu admission time"
   ]
  },
  {
   "cell_type": "code",
   "execution_count": 30,
   "id": "fddde7c9-95a2-4e29-8f9b-04fecd200f92",
   "metadata": {},
   "outputs": [
    {
     "name": "stdout",
     "output_type": "stream",
     "text": [
      "2312\n",
      "60.6\n"
     ]
    }
   ],
   "source": [
    "print(los2d['a_patientid'].nunique())\n",
    "print(round(los2d['a_patientid'].nunique()/patients['a_patientid'].nunique()*100,2))"
   ]
  },
  {
   "cell_type": "markdown",
   "id": "32c4760b-7ba3-4767-8f87-1ed765d42f93",
   "metadata": {},
   "source": [
    "### 2- Primary diagnose of pneumonia (any type)"
   ]
  },
  {
   "cell_type": "code",
   "execution_count": 31,
   "id": "ad3d34d5-8935-4f43-8515-cc676c962dae",
   "metadata": {},
   "outputs": [],
   "source": [
    "diags = wr.s3.read_parquet(path=\"s3://icusics-db/diagnoses/diagnoses_h3.parquet\")"
   ]
  },
  {
   "cell_type": "code",
   "execution_count": 32,
   "id": "df23a352-8b7a-46ac-b416-9ddfb607d275",
   "metadata": {},
   "outputs": [
    {
     "data": {
      "text/html": [
       "<div>\n",
       "<style scoped>\n",
       "    .dataframe tbody tr th:only-of-type {\n",
       "        vertical-align: middle;\n",
       "    }\n",
       "\n",
       "    .dataframe tbody tr th {\n",
       "        vertical-align: top;\n",
       "    }\n",
       "\n",
       "    .dataframe thead th {\n",
       "        text-align: right;\n",
       "    }\n",
       "</style>\n",
       "<table border=\"1\" class=\"dataframe\">\n",
       "  <thead>\n",
       "    <tr style=\"text-align: right;\">\n",
       "      <th></th>\n",
       "      <th>a_patientid</th>\n",
       "      <th>diag_type</th>\n",
       "      <th>referencecode</th>\n",
       "      <th>referencecodename</th>\n",
       "    </tr>\n",
       "  </thead>\n",
       "  <tbody>\n",
       "    <tr>\n",
       "      <th>0</th>\n",
       "      <td>3000004</td>\n",
       "      <td>primary</td>\n",
       "      <td>F14.12</td>\n",
       "      <td>Abús de cocaïna amb intoxicació</td>\n",
       "    </tr>\n",
       "    <tr>\n",
       "      <th>1</th>\n",
       "      <td>3000004</td>\n",
       "      <td>secondary</td>\n",
       "      <td>F14.1</td>\n",
       "      <td>Abús de cocaïna</td>\n",
       "    </tr>\n",
       "    <tr>\n",
       "      <th>2</th>\n",
       "      <td>3000004</td>\n",
       "      <td>secondary</td>\n",
       "      <td>R45.1</td>\n",
       "      <td>Agitació i agitació psicomotora</td>\n",
       "    </tr>\n",
       "    <tr>\n",
       "      <th>3</th>\n",
       "      <td>3000004</td>\n",
       "      <td>secondary</td>\n",
       "      <td>D68</td>\n",
       "      <td>Altres tipus de defecte de la coagulació</td>\n",
       "    </tr>\n",
       "    <tr>\n",
       "      <th>4</th>\n",
       "      <td>3000004</td>\n",
       "      <td>secondary</td>\n",
       "      <td>D69.59</td>\n",
       "      <td>Altres tipus de trombocitopènia secundària</td>\n",
       "    </tr>\n",
       "  </tbody>\n",
       "</table>\n",
       "</div>"
      ],
      "text/plain": [
       "   a_patientid  diag_type referencecode  \\\n",
       "0      3000004    primary        F14.12   \n",
       "1      3000004  secondary         F14.1   \n",
       "2      3000004  secondary         R45.1   \n",
       "3      3000004  secondary           D68   \n",
       "4      3000004  secondary        D69.59   \n",
       "\n",
       "                            referencecodename  \n",
       "0             Abús de cocaïna amb intoxicació  \n",
       "1                             Abús de cocaïna  \n",
       "2             Agitació i agitació psicomotora  \n",
       "3    Altres tipus de defecte de la coagulació  \n",
       "4  Altres tipus de trombocitopènia secundària  "
      ]
     },
     "execution_count": 32,
     "metadata": {},
     "output_type": "execute_result"
    }
   ],
   "source": [
    "diags.head()"
   ]
  },
  {
   "cell_type": "code",
   "execution_count": 33,
   "id": "1672cb40-955e-4553-b6e5-ba278a52ed90",
   "metadata": {},
   "outputs": [
    {
     "name": "stdout",
     "output_type": "stream",
     "text": [
      "(27774, 4)\n",
      "3815\n"
     ]
    }
   ],
   "source": [
    "print(diags.shape)\n",
    "print(diags['a_patientid'].nunique())"
   ]
  },
  {
   "cell_type": "code",
   "execution_count": 34,
   "id": "f412fba5-d56d-40c3-a4be-77fa5b49f834",
   "metadata": {},
   "outputs": [],
   "source": [
    "pd_pneumo_patlist = tuple(set(diags[(diags['diag_type']=='primary') & (diags['referencecodename'].str.contains('pneum', case=False))]['a_patientid']))"
   ]
  },
  {
   "cell_type": "code",
   "execution_count": 35,
   "id": "3be7212e-a0e5-4644-b8a1-94216ccb101f",
   "metadata": {},
   "outputs": [],
   "source": [
    "los2d_pneumopd = los2d[los2d['a_patientid'].isin(pd_pneumo_patlist)].sort_values('a_patientid').reset_index(drop=True)"
   ]
  },
  {
   "cell_type": "code",
   "execution_count": 36,
   "id": "24163eca-bfa6-4534-b5ca-52aa29bf58da",
   "metadata": {},
   "outputs": [
    {
     "name": "stdout",
     "output_type": "stream",
     "text": [
      "228\n",
      "5.98\n"
     ]
    }
   ],
   "source": [
    "print(los2d_pneumopd['a_patientid'].nunique())\n",
    "print(round(los2d_pneumopd['a_patientid'].nunique()/patients['a_patientid'].nunique()*100,2))"
   ]
  },
  {
   "cell_type": "markdown",
   "id": "cb26aac5-38cd-4d67-8419-965e3f15fb86",
   "metadata": {},
   "source": [
    "### 3- Invasive Mechanical Ventilation (IMV)  "
   ]
  },
  {
   "cell_type": "markdown",
   "id": "5955d53a-7bba-48e3-b012-b8917bcf2127",
   "metadata": {},
   "source": [
    "#### First, import variables_ref table to look for the variable code"
   ]
  },
  {
   "cell_type": "code",
   "execution_count": 38,
   "id": "6e9aea45-d87a-498a-94ae-6044c6533e63",
   "metadata": {},
   "outputs": [],
   "source": [
    "d_variables = wr.s3.read_parquet(path=\"s3://icusics-db/d_variables/d_variables.parquet\")"
   ]
  },
  {
   "cell_type": "code",
   "execution_count": 39,
   "id": "1b47cbbf-057f-4c98-a130-8b4e31bb9ce2",
   "metadata": {},
   "outputs": [
    {
     "data": {
      "text/html": [
       "<div>\n",
       "<style scoped>\n",
       "    .dataframe tbody tr th:only-of-type {\n",
       "        vertical-align: middle;\n",
       "    }\n",
       "\n",
       "    .dataframe tbody tr th {\n",
       "        vertical-align: top;\n",
       "    }\n",
       "\n",
       "    .dataframe thead th {\n",
       "        text-align: right;\n",
       "    }\n",
       "</style>\n",
       "<table border=\"1\" class=\"dataframe\">\n",
       "  <thead>\n",
       "    <tr style=\"text-align: right;\">\n",
       "      <th></th>\n",
       "      <th>hospital_coded</th>\n",
       "      <th>table</th>\n",
       "      <th>a_variableid</th>\n",
       "      <th>choicecode</th>\n",
       "      <th>choicestringvalue</th>\n",
       "      <th>name</th>\n",
       "      <th>abbreviation</th>\n",
       "      <th>description</th>\n",
       "    </tr>\n",
       "  </thead>\n",
       "  <tbody>\n",
       "    <tr>\n",
       "      <th>0</th>\n",
       "      <td>1</td>\n",
       "      <td>derived_numeric</td>\n",
       "      <td>1030000100</td>\n",
       "      <td>NaN</td>\n",
       "      <td>&lt;NA&gt;</td>\n",
       "      <td>Chronic health evaluation</td>\n",
       "      <td>CHE</td>\n",
       "      <td>In APACHE II and A2</td>\n",
       "    </tr>\n",
       "    <tr>\n",
       "      <th>1</th>\n",
       "      <td>1</td>\n",
       "      <td>derived_numeric</td>\n",
       "      <td>1030000114</td>\n",
       "      <td>NaN</td>\n",
       "      <td>&lt;NA&gt;</td>\n",
       "      <td>Daily worst APS</td>\n",
       "      <td>APS</td>\n",
       "      <td>Acute physiology score</td>\n",
       "    </tr>\n",
       "    <tr>\n",
       "      <th>2</th>\n",
       "      <td>1</td>\n",
       "      <td>derived_numeric</td>\n",
       "      <td>1030000140</td>\n",
       "      <td>NaN</td>\n",
       "      <td>&lt;NA&gt;</td>\n",
       "      <td>Highest 24 h APACHE II</td>\n",
       "      <td>APACHE II</td>\n",
       "      <td>Automatically calculated APACHE II score</td>\n",
       "    </tr>\n",
       "    <tr>\n",
       "      <th>3</th>\n",
       "      <td>1</td>\n",
       "      <td>derived_numeric</td>\n",
       "      <td>1030000145</td>\n",
       "      <td>NaN</td>\n",
       "      <td>&lt;NA&gt;</td>\n",
       "      <td>risk (R) of hospital death</td>\n",
       "      <td>R(APACHE II)</td>\n",
       "      <td>&lt;NA&gt;</td>\n",
       "    </tr>\n",
       "    <tr>\n",
       "      <th>4</th>\n",
       "      <td>1</td>\n",
       "      <td>derived_numeric</td>\n",
       "      <td>1030000160</td>\n",
       "      <td>NaN</td>\n",
       "      <td>&lt;NA&gt;</td>\n",
       "      <td>Major 24 h SAPS II</td>\n",
       "      <td>SAPS II</td>\n",
       "      <td>Càlcul automàtic SAPS II</td>\n",
       "    </tr>\n",
       "  </tbody>\n",
       "</table>\n",
       "</div>"
      ],
      "text/plain": [
       "   hospital_coded            table  a_variableid  choicecode  \\\n",
       "0               1  derived_numeric    1030000100         NaN   \n",
       "1               1  derived_numeric    1030000114         NaN   \n",
       "2               1  derived_numeric    1030000140         NaN   \n",
       "3               1  derived_numeric    1030000145         NaN   \n",
       "4               1  derived_numeric    1030000160         NaN   \n",
       "\n",
       "  choicestringvalue                        name  abbreviation  \\\n",
       "0              <NA>   Chronic health evaluation           CHE   \n",
       "1              <NA>             Daily worst APS           APS   \n",
       "2              <NA>      Highest 24 h APACHE II     APACHE II   \n",
       "3              <NA>  risk (R) of hospital death  R(APACHE II)   \n",
       "4              <NA>          Major 24 h SAPS II       SAPS II   \n",
       "\n",
       "                                description  \n",
       "0                       In APACHE II and A2  \n",
       "1                    Acute physiology score  \n",
       "2  Automatically calculated APACHE II score  \n",
       "3                                      <NA>  \n",
       "4                  Càlcul automàtic SAPS II  "
      ]
     },
     "execution_count": 39,
     "metadata": {},
     "output_type": "execute_result"
    }
   ],
   "source": [
    "d_variables.head()"
   ]
  },
  {
   "cell_type": "code",
   "execution_count": 40,
   "id": "4f670d99-1b8b-45fa-ae99-372d2585cf7f",
   "metadata": {},
   "outputs": [
    {
     "name": "stdout",
     "output_type": "stream",
     "text": [
      "(335, 8)\n",
      "To many results, so you decide to ask to the mentors and they say that for that hospital, this feature is an observed_categoric feature named 'Teràpia real O2' with the choicestringcode 'Vent Mecànica'\n"
     ]
    }
   ],
   "source": [
    "# define key characters (remember that strings in this db can be in english, catalan or spanish language) to start a blind search\n",
    "\n",
    "key_chars = 'vent|mec|inv'\n",
    "\n",
    "imv_result_dummy = d_variables[(d_variables['hospital_coded']==3) & (\n",
    "    (d_variables['name'].str.contains(key_chars, case=False, na=False)) | (\n",
    "    d_variables['description'].str.contains(key_chars, case=False, na=False)) | (\n",
    "    d_variables['choicestringvalue'].str.contains(key_chars, case=False, na=False)))]\n",
    "\n",
    "print(imv_result_dummy.shape)\n",
    "\n",
    "print(\"To many results, so you decide to ask to the mentors and they say that for that hospital, this feature is an observed_categoric \\\n",
    "feature named 'Teràpia real O2' with the choicestringcode 'Vent Mecànica'\")"
   ]
  },
  {
   "cell_type": "code",
   "execution_count": 41,
   "id": "d64b58ec-0190-44bd-9308-a79da43f34ec",
   "metadata": {},
   "outputs": [
    {
     "data": {
      "text/html": [
       "<div>\n",
       "<style scoped>\n",
       "    .dataframe tbody tr th:only-of-type {\n",
       "        vertical-align: middle;\n",
       "    }\n",
       "\n",
       "    .dataframe tbody tr th {\n",
       "        vertical-align: top;\n",
       "    }\n",
       "\n",
       "    .dataframe thead th {\n",
       "        text-align: right;\n",
       "    }\n",
       "</style>\n",
       "<table border=\"1\" class=\"dataframe\">\n",
       "  <thead>\n",
       "    <tr style=\"text-align: right;\">\n",
       "      <th></th>\n",
       "      <th>hospital_coded</th>\n",
       "      <th>table</th>\n",
       "      <th>a_variableid</th>\n",
       "      <th>choicecode</th>\n",
       "      <th>choicestringvalue</th>\n",
       "      <th>name</th>\n",
       "      <th>abbreviation</th>\n",
       "      <th>description</th>\n",
       "    </tr>\n",
       "  </thead>\n",
       "  <tbody>\n",
       "    <tr>\n",
       "      <th>9885</th>\n",
       "      <td>3</td>\n",
       "      <td>derived_numeric</td>\n",
       "      <td>3030001400</td>\n",
       "      <td>NaN</td>\n",
       "      <td>&lt;NA&gt;</td>\n",
       "      <td>LVSW_left ventric stroke work</td>\n",
       "      <td>LVSW</td>\n",
       "      <td>= SV x ARTmean x 0.0136  ;  SV ml, ARTmean mmH...</td>\n",
       "    </tr>\n",
       "    <tr>\n",
       "      <th>9886</th>\n",
       "      <td>3</td>\n",
       "      <td>derived_numeric</td>\n",
       "      <td>3030001410</td>\n",
       "      <td>NaN</td>\n",
       "      <td>&lt;NA&gt;</td>\n",
       "      <td>LVSWi_left vent stroke w index</td>\n",
       "      <td>LVSWi</td>\n",
       "      <td>= SI x ARTmean x 0.0136  ;  SI ml/m², ARTmean ...</td>\n",
       "    </tr>\n",
       "    <tr>\n",
       "      <th>9887</th>\n",
       "      <td>3</td>\n",
       "      <td>derived_numeric</td>\n",
       "      <td>3030001500</td>\n",
       "      <td>NaN</td>\n",
       "      <td>&lt;NA&gt;</td>\n",
       "      <td>RVSW_right ventric stroke work</td>\n",
       "      <td>RVSW</td>\n",
       "      <td>= SV x PAPmean x 0.0136  ;  SV ml, PAPmean mmH...</td>\n",
       "    </tr>\n",
       "    <tr>\n",
       "      <th>9888</th>\n",
       "      <td>3</td>\n",
       "      <td>derived_numeric</td>\n",
       "      <td>3030001510</td>\n",
       "      <td>NaN</td>\n",
       "      <td>&lt;NA&gt;</td>\n",
       "      <td>RVSW_Right vent stroke w index</td>\n",
       "      <td>RVSWi</td>\n",
       "      <td>= SVI x PAPmean x 0.0136  ;  SVI ml/m², PAPmea...</td>\n",
       "    </tr>\n",
       "    <tr>\n",
       "      <th>10461</th>\n",
       "      <td>3</td>\n",
       "      <td>monitored_categoric</td>\n",
       "      <td>3000003812</td>\n",
       "      <td>1.0</td>\n",
       "      <td>IPPV</td>\n",
       "      <td>Evita 2_4 ventilation mode</td>\n",
       "      <td>Evita24 Mode</td>\n",
       "      <td>Draeger Evita 2 dura and Evita 4 ventilation mode</td>\n",
       "    </tr>\n",
       "  </tbody>\n",
       "</table>\n",
       "</div>"
      ],
      "text/plain": [
       "       hospital_coded                table  a_variableid  choicecode  \\\n",
       "9885                3      derived_numeric    3030001400         NaN   \n",
       "9886                3      derived_numeric    3030001410         NaN   \n",
       "9887                3      derived_numeric    3030001500         NaN   \n",
       "9888                3      derived_numeric    3030001510         NaN   \n",
       "10461               3  monitored_categoric    3000003812         1.0   \n",
       "\n",
       "      choicestringvalue                            name  abbreviation  \\\n",
       "9885               <NA>   LVSW_left ventric stroke work          LVSW   \n",
       "9886               <NA>  LVSWi_left vent stroke w index         LVSWi   \n",
       "9887               <NA>  RVSW_right ventric stroke work          RVSW   \n",
       "9888               <NA>  RVSW_Right vent stroke w index         RVSWi   \n",
       "10461              IPPV      Evita 2_4 ventilation mode  Evita24 Mode   \n",
       "\n",
       "                                             description  \n",
       "9885   = SV x ARTmean x 0.0136  ;  SV ml, ARTmean mmH...  \n",
       "9886   = SI x ARTmean x 0.0136  ;  SI ml/m², ARTmean ...  \n",
       "9887   = SV x PAPmean x 0.0136  ;  SV ml, PAPmean mmH...  \n",
       "9888   = SVI x PAPmean x 0.0136  ;  SVI ml/m², PAPmea...  \n",
       "10461  Draeger Evita 2 dura and Evita 4 ventilation mode  "
      ]
     },
     "execution_count": 41,
     "metadata": {},
     "output_type": "execute_result"
    }
   ],
   "source": [
    "imv_result_dummy.head()"
   ]
  },
  {
   "cell_type": "code",
   "execution_count": 42,
   "id": "cd4dbfab-8861-4e74-b5ad-3ea1904f392b",
   "metadata": {},
   "outputs": [
    {
     "name": "stdout",
     "output_type": "stream",
     "text": [
      "So you finally get your result:\n"
     ]
    },
    {
     "data": {
      "text/html": [
       "<div>\n",
       "<style scoped>\n",
       "    .dataframe tbody tr th:only-of-type {\n",
       "        vertical-align: middle;\n",
       "    }\n",
       "\n",
       "    .dataframe tbody tr th {\n",
       "        vertical-align: top;\n",
       "    }\n",
       "\n",
       "    .dataframe thead th {\n",
       "        text-align: right;\n",
       "    }\n",
       "</style>\n",
       "<table border=\"1\" class=\"dataframe\">\n",
       "  <thead>\n",
       "    <tr style=\"text-align: right;\">\n",
       "      <th></th>\n",
       "      <th>hospital_coded</th>\n",
       "      <th>table</th>\n",
       "      <th>a_variableid</th>\n",
       "      <th>choicecode</th>\n",
       "      <th>choicestringvalue</th>\n",
       "      <th>name</th>\n",
       "      <th>abbreviation</th>\n",
       "      <th>description</th>\n",
       "    </tr>\n",
       "  </thead>\n",
       "  <tbody>\n",
       "    <tr>\n",
       "      <th>12241</th>\n",
       "      <td>3</td>\n",
       "      <td>observed_categoric</td>\n",
       "      <td>3015002262</td>\n",
       "      <td>12.0</td>\n",
       "      <td>Vent Mecànica</td>\n",
       "      <td>Teràpia real O2</td>\n",
       "      <td>O2 Teràpia</td>\n",
       "      <td>DI 21.CONTROL RESPIRATORI.\n",
       "Variable utilitzada...</td>\n",
       "    </tr>\n",
       "  </tbody>\n",
       "</table>\n",
       "</div>"
      ],
      "text/plain": [
       "       hospital_coded               table  a_variableid  choicecode  \\\n",
       "12241               3  observed_categoric    3015002262        12.0   \n",
       "\n",
       "      choicestringvalue             name abbreviation  \\\n",
       "12241     Vent Mecànica  Teràpia real O2   O2 Teràpia   \n",
       "\n",
       "                                             description  \n",
       "12241  DI 21.CONTROL RESPIRATORI.\n",
       "Variable utilitzada...  "
      ]
     },
     "execution_count": 42,
     "metadata": {},
     "output_type": "execute_result"
    }
   ],
   "source": [
    "imv_result = imv_result_dummy[(imv_result_dummy['table']=='observed_categoric') & (imv_result_dummy['name'].str.contains('Teràpia real O2', case=False, na=False)) & (\n",
    "    imv_result_dummy['choicestringvalue'].str.contains('Vent Mecànica', case=False, na=False))]\n",
    "\n",
    "print('So you finally get your result:')\n",
    "imv_result"
   ]
  },
  {
   "cell_type": "markdown",
   "id": "bf84a3fc-2004-4b61-86ee-3471e2c70746",
   "metadata": {},
   "source": [
    "#### Get patients with IMV registries for those who have accomplished with the inclusion criteria up to now"
   ]
  },
  {
   "cell_type": "code",
   "execution_count": 43,
   "id": "d90897b7-88d9-4825-afc8-9d6b0a2ca80b",
   "metadata": {},
   "outputs": [
    {
     "name": "stdout",
     "output_type": "stream",
     "text": [
      "CPU times: user 481 ms, sys: 653 ms, total: 1.13 s\n",
      "Wall time: 1.64 s\n"
     ]
    }
   ],
   "source": [
    "%%time\n",
    "\n",
    "moncat = wr.s3.read_parquet(path=\"s3://icusics-db/observed_categoric/observed_categoric_h3.parquet\")"
   ]
  },
  {
   "cell_type": "code",
   "execution_count": 44,
   "id": "56f887e9-860d-4287-bb31-99c9232ae167",
   "metadata": {},
   "outputs": [
    {
     "data": {
      "text/html": [
       "<div>\n",
       "<style scoped>\n",
       "    .dataframe tbody tr th:only-of-type {\n",
       "        vertical-align: middle;\n",
       "    }\n",
       "\n",
       "    .dataframe tbody tr th {\n",
       "        vertical-align: top;\n",
       "    }\n",
       "\n",
       "    .dataframe thead th {\n",
       "        text-align: right;\n",
       "    }\n",
       "</style>\n",
       "<table border=\"1\" class=\"dataframe\">\n",
       "  <thead>\n",
       "    <tr style=\"text-align: right;\">\n",
       "      <th></th>\n",
       "      <th>a_patientid</th>\n",
       "      <th>a_variableid</th>\n",
       "      <th>time</th>\n",
       "      <th>choicecode</th>\n",
       "      <th>h</th>\n",
       "    </tr>\n",
       "  </thead>\n",
       "  <tbody>\n",
       "    <tr>\n",
       "      <th>0</th>\n",
       "      <td>3000004</td>\n",
       "      <td>3010000100</td>\n",
       "      <td>1019</td>\n",
       "      <td>6.0</td>\n",
       "      <td>3</td>\n",
       "    </tr>\n",
       "    <tr>\n",
       "      <th>1</th>\n",
       "      <td>3000004</td>\n",
       "      <td>3010000100</td>\n",
       "      <td>2879</td>\n",
       "      <td>6.0</td>\n",
       "      <td>3</td>\n",
       "    </tr>\n",
       "    <tr>\n",
       "      <th>2</th>\n",
       "      <td>3000004</td>\n",
       "      <td>3010000100</td>\n",
       "      <td>2999</td>\n",
       "      <td>6.0</td>\n",
       "      <td>3</td>\n",
       "    </tr>\n",
       "    <tr>\n",
       "      <th>3</th>\n",
       "      <td>3000004</td>\n",
       "      <td>3010000100</td>\n",
       "      <td>3079</td>\n",
       "      <td>6.0</td>\n",
       "      <td>3</td>\n",
       "    </tr>\n",
       "    <tr>\n",
       "      <th>4</th>\n",
       "      <td>3000004</td>\n",
       "      <td>3010000100</td>\n",
       "      <td>3140</td>\n",
       "      <td>6.0</td>\n",
       "      <td>3</td>\n",
       "    </tr>\n",
       "  </tbody>\n",
       "</table>\n",
       "</div>"
      ],
      "text/plain": [
       "   a_patientid  a_variableid  time  choicecode  h\n",
       "0      3000004    3010000100  1019         6.0  3\n",
       "1      3000004    3010000100  2879         6.0  3\n",
       "2      3000004    3010000100  2999         6.0  3\n",
       "3      3000004    3010000100  3079         6.0  3\n",
       "4      3000004    3010000100  3140         6.0  3"
      ]
     },
     "execution_count": 44,
     "metadata": {},
     "output_type": "execute_result"
    }
   ],
   "source": [
    "moncat.head()"
   ]
  },
  {
   "cell_type": "code",
   "execution_count": 45,
   "id": "8459cec1-cd71-4506-8cad-aefbaededa3f",
   "metadata": {},
   "outputs": [
    {
     "name": "stdout",
     "output_type": "stream",
     "text": [
      "CPU times: user 74.1 ms, sys: 102 ms, total: 176 ms\n",
      "Wall time: 289 ms\n"
     ]
    }
   ],
   "source": [
    "%%time\n",
    "\n",
    "imv_patlist = tuple(set(moncat[(moncat['a_variableid']==3015002262) & (moncat['choicecode']==12)]['a_patientid']))"
   ]
  },
  {
   "cell_type": "code",
   "execution_count": 46,
   "id": "2d277e41-9922-4a15-90b2-90a377f0151b",
   "metadata": {},
   "outputs": [],
   "source": [
    "los2d_pneumopd_imv = los2d_pneumopd[los2d_pneumopd['a_patientid'].isin(imv_patlist)].sort_values('a_patientid').reset_index(drop=True)"
   ]
  },
  {
   "cell_type": "code",
   "execution_count": 47,
   "id": "7d7b5df7-f40a-44a1-b6ff-0597b4e8523c",
   "metadata": {},
   "outputs": [
    {
     "name": "stdout",
     "output_type": "stream",
     "text": [
      "131\n",
      "3.43\n"
     ]
    }
   ],
   "source": [
    "print(los2d_pneumopd_imv['a_patientid'].nunique())\n",
    "print(round(los2d_pneumopd_imv['a_patientid'].nunique()/patients['a_patientid'].nunique()*100,2))"
   ]
  },
  {
   "cell_type": "markdown",
   "id": "0cefc4c6-87db-4299-bf8b-a6e33e06af19",
   "metadata": {},
   "source": [
    "### 4- APACHE II > 20 "
   ]
  },
  {
   "cell_type": "code",
   "execution_count": 48,
   "id": "29fa7559-1be4-436c-a645-f8c17eedd660",
   "metadata": {},
   "outputs": [
    {
     "name": "stdout",
     "output_type": "stream",
     "text": [
      "(60, 8)\n",
      "To many results, so you decide to ask to the mentors and they say that for that hospital, this feature is a derived_numeric feature named 'APACHE 2 validado'\n"
     ]
    }
   ],
   "source": [
    "# define key characters (remember that strings in this db can be in english, catalan or spanish language) to start a blind search\n",
    "\n",
    "key_chars = 'apache'\n",
    "\n",
    "apache_result_dummy = d_variables[(d_variables['hospital_coded']==3) & (\n",
    "    (d_variables['name'].str.contains(key_chars, case=False, na=False)) | (\n",
    "    d_variables['description'].str.contains(key_chars, case=False, na=False)) | (\n",
    "    d_variables['choicestringvalue'].str.contains(key_chars, case=False, na=False)))]\n",
    "\n",
    "print(apache_result_dummy.shape)\n",
    "\n",
    "print(\"To many results, so you decide to ask to the mentors and they say that for that hospital, this feature is a derived_numeric \\\n",
    "feature named 'APACHE 2 validado'\")"
   ]
  },
  {
   "cell_type": "code",
   "execution_count": 49,
   "id": "b10faaa9-3067-42f8-942b-10f67be6b1f6",
   "metadata": {},
   "outputs": [
    {
     "name": "stdout",
     "output_type": "stream",
     "text": [
      "So you finally get your result:\n"
     ]
    },
    {
     "data": {
      "text/html": [
       "<div>\n",
       "<style scoped>\n",
       "    .dataframe tbody tr th:only-of-type {\n",
       "        vertical-align: middle;\n",
       "    }\n",
       "\n",
       "    .dataframe tbody tr th {\n",
       "        vertical-align: top;\n",
       "    }\n",
       "\n",
       "    .dataframe thead th {\n",
       "        text-align: right;\n",
       "    }\n",
       "</style>\n",
       "<table border=\"1\" class=\"dataframe\">\n",
       "  <thead>\n",
       "    <tr style=\"text-align: right;\">\n",
       "      <th></th>\n",
       "      <th>hospital_coded</th>\n",
       "      <th>table</th>\n",
       "      <th>a_variableid</th>\n",
       "      <th>choicecode</th>\n",
       "      <th>choicestringvalue</th>\n",
       "      <th>name</th>\n",
       "      <th>abbreviation</th>\n",
       "      <th>description</th>\n",
       "    </tr>\n",
       "  </thead>\n",
       "  <tbody>\n",
       "    <tr>\n",
       "      <th>9870</th>\n",
       "      <td>3</td>\n",
       "      <td>derived_numeric</td>\n",
       "      <td>3030000350</td>\n",
       "      <td>NaN</td>\n",
       "      <td>&lt;NA&gt;</td>\n",
       "      <td>APACHE 2 validado</td>\n",
       "      <td>APACHE 2 man</td>\n",
       "      <td>Validated APACHE II score</td>\n",
       "    </tr>\n",
       "  </tbody>\n",
       "</table>\n",
       "</div>"
      ],
      "text/plain": [
       "      hospital_coded            table  a_variableid  choicecode  \\\n",
       "9870               3  derived_numeric    3030000350         NaN   \n",
       "\n",
       "     choicestringvalue               name  abbreviation  \\\n",
       "9870              <NA>  APACHE 2 validado  APACHE 2 man   \n",
       "\n",
       "                    description  \n",
       "9870  Validated APACHE II score  "
      ]
     },
     "execution_count": 49,
     "metadata": {},
     "output_type": "execute_result"
    }
   ],
   "source": [
    "apache_result = apache_result_dummy[(apache_result_dummy['table']=='derived_numeric') & (apache_result_dummy['name'].str.contains('apache 2 validado', case=False, na=False))]\n",
    "\n",
    "print('So you finally get your result:')\n",
    "apache_result"
   ]
  },
  {
   "cell_type": "markdown",
   "id": "a688d779-b7ea-42a8-9c8f-9f69f9acd342",
   "metadata": {},
   "source": [
    "#### Get patients with an APACHE II higher of 20 for those who have accomplished with the inclusion criteria up to now"
   ]
  },
  {
   "cell_type": "code",
   "execution_count": 50,
   "id": "9e775409-43e6-4efd-b8e6-f69e96c4a1b6",
   "metadata": {},
   "outputs": [
    {
     "name": "stdout",
     "output_type": "stream",
     "text": [
      "CPU times: user 20.2 s, sys: 4.99 s, total: 25.2 s\n",
      "Wall time: 54.6 s\n"
     ]
    }
   ],
   "source": [
    "%%time\n",
    "\n",
    "bucket = s3.Bucket('icusics-db')\n",
    "apacheII_20_patlist = tuple()\n",
    "\n",
    "for my_bucket_object in bucket.objects.all():\n",
    "    \n",
    "    if all(x in my_bucket_object.key for x in ['derived_numeric_']):\n",
    "        \n",
    "        boundaries = re.findall('\\d+', my_bucket_object.key)\n",
    "        ub = boundaries.pop(1)\n",
    "        lb = boundaries.pop()\n",
    "        for patid in sorted(list(set(los2d_pneumopd_imv['a_patientid'].astype(str)))):\n",
    "            if patid>lb and patid<ub:\n",
    "                chunk = wr.s3.read_parquet(path=f\"s3://icusics-db/{my_bucket_object.key}\")\n",
    "                apacheII_20_patlist_chunk = tuple(set(chunk[(chunk['a_variableid']==3030000350) & (chunk['value']>20) & (\n",
    "                    chunk['a_patientid'].isin(tuple(set(los2d_pneumopd_imv['a_patientid']))))]['a_patientid']))\n",
    "                apacheII_20_patlist = apacheII_20_patlist + apacheII_20_patlist_chunk\n",
    "                \n",
    "apacheII_20_patlist_unique = tuple(set(apacheII_20_patlist))"
   ]
  },
  {
   "cell_type": "code",
   "execution_count": 51,
   "id": "84d3551a-b26f-4a03-8578-cb973d281018",
   "metadata": {},
   "outputs": [
    {
     "data": {
      "text/plain": [
       "60"
      ]
     },
     "execution_count": 51,
     "metadata": {},
     "output_type": "execute_result"
    }
   ],
   "source": [
    "len(apacheII_20_patlist_unique)"
   ]
  },
  {
   "cell_type": "code",
   "execution_count": 52,
   "id": "4f3fa86c-43c7-4571-b4dd-80435902c4fc",
   "metadata": {},
   "outputs": [],
   "source": [
    "los2d_pneumopd_imv_apacheII20 = los2d_pneumopd_imv[los2d_pneumopd_imv['a_patientid'].isin(apacheII_20_patlist_unique)].sort_values('a_patientid').reset_index(drop=True)"
   ]
  },
  {
   "cell_type": "code",
   "execution_count": 53,
   "id": "c1172c5c-7a33-448a-967e-86f3361cec8b",
   "metadata": {},
   "outputs": [
    {
     "name": "stdout",
     "output_type": "stream",
     "text": [
      "60\n",
      "1.57\n"
     ]
    }
   ],
   "source": [
    "print(los2d_pneumopd_imv_apacheII20['a_patientid'].nunique())\n",
    "print(round(los2d_pneumopd_imv_apacheII20['a_patientid'].nunique()/patients['a_patientid'].nunique()*100,2))"
   ]
  },
  {
   "cell_type": "markdown",
   "id": "4e2957f8-f806-4769-8772-fad9aaaae668",
   "metadata": {},
   "source": [
    "### 5- Lactate (arterial) > 2mmol/L at first ICU day "
   ]
  },
  {
   "cell_type": "code",
   "execution_count": 54,
   "id": "7711c2be-6c91-401a-8869-a3cb7ebe8ccc",
   "metadata": {},
   "outputs": [
    {
     "name": "stdout",
     "output_type": "stream",
     "text": [
      "(7, 8)\n",
      "To many results, so you decide to ask to the mentors and they say that for that hospital, this feature is a labresult_numeric feature that contains 'GSA' in its abbreviation\n"
     ]
    }
   ],
   "source": [
    "# define key characters (remember that strings in this db can be in english, catalan or spanish language) to start a blind search\n",
    "\n",
    "key_chars = 'lactat'\n",
    "\n",
    "lactate_result_dummy = d_variables[(d_variables['hospital_coded']==3) & (\n",
    "    (d_variables['name'].str.contains(key_chars, case=False, na=False)) | (\n",
    "    d_variables['description'].str.contains(key_chars, case=False, na=False)) | (\n",
    "    d_variables['choicestringvalue'].str.contains(key_chars, case=False, na=False)))]\n",
    "\n",
    "print(lactate_result_dummy.shape)\n",
    "\n",
    "print(\"To many results, so you decide to ask to the mentors and they say that for that hospital, this feature is a labresult_numeric \\\n",
    "feature that contains 'GSA' in its abbreviation\")"
   ]
  },
  {
   "cell_type": "code",
   "execution_count": 55,
   "id": "3e259866-9e0f-4a1b-aaa6-bf8275051ea0",
   "metadata": {},
   "outputs": [
    {
     "name": "stdout",
     "output_type": "stream",
     "text": [
      "So you finally get your result:\n"
     ]
    },
    {
     "data": {
      "text/html": [
       "<div>\n",
       "<style scoped>\n",
       "    .dataframe tbody tr th:only-of-type {\n",
       "        vertical-align: middle;\n",
       "    }\n",
       "\n",
       "    .dataframe tbody tr th {\n",
       "        vertical-align: top;\n",
       "    }\n",
       "\n",
       "    .dataframe thead th {\n",
       "        text-align: right;\n",
       "    }\n",
       "</style>\n",
       "<table border=\"1\" class=\"dataframe\">\n",
       "  <thead>\n",
       "    <tr style=\"text-align: right;\">\n",
       "      <th></th>\n",
       "      <th>hospital_coded</th>\n",
       "      <th>table</th>\n",
       "      <th>a_variableid</th>\n",
       "      <th>choicecode</th>\n",
       "      <th>choicestringvalue</th>\n",
       "      <th>name</th>\n",
       "      <th>abbreviation</th>\n",
       "      <th>description</th>\n",
       "    </tr>\n",
       "  </thead>\n",
       "  <tbody>\n",
       "    <tr>\n",
       "      <th>10105</th>\n",
       "      <td>3</td>\n",
       "      <td>labresults_numeric</td>\n",
       "      <td>3024000658</td>\n",
       "      <td>NaN</td>\n",
       "      <td>&lt;NA&gt;</td>\n",
       "      <td>Lactat art GSA</td>\n",
       "      <td>Lactat a GSA</td>\n",
       "      <td>&lt;NA&gt;</td>\n",
       "    </tr>\n",
       "    <tr>\n",
       "      <th>10141</th>\n",
       "      <td>3</td>\n",
       "      <td>labresults_numeric</td>\n",
       "      <td>3024000704</td>\n",
       "      <td>NaN</td>\n",
       "      <td>&lt;NA&gt;</td>\n",
       "      <td>aSan-Lactat</td>\n",
       "      <td>Lactat _GSA</td>\n",
       "      <td>&lt;NA&gt;</td>\n",
       "    </tr>\n",
       "  </tbody>\n",
       "</table>\n",
       "</div>"
      ],
      "text/plain": [
       "       hospital_coded               table  a_variableid  choicecode  \\\n",
       "10105               3  labresults_numeric    3024000658         NaN   \n",
       "10141               3  labresults_numeric    3024000704         NaN   \n",
       "\n",
       "      choicestringvalue            name  abbreviation description  \n",
       "10105              <NA>  Lactat art GSA  Lactat a GSA        <NA>  \n",
       "10141              <NA>     aSan-Lactat   Lactat _GSA        <NA>  "
      ]
     },
     "execution_count": 55,
     "metadata": {},
     "output_type": "execute_result"
    }
   ],
   "source": [
    "lactate_result = lactate_result_dummy[(lactate_result_dummy['table']=='labresults_numeric') & (lactate_result_dummy['name'].str.contains('lactat', case=False, na=False)) & (\n",
    "    lactate_result_dummy['abbreviation'].str.contains('GSA', case=False, na=False))]\n",
    "\n",
    "print('So you finally get your result:')\n",
    "lactate_result"
   ]
  },
  {
   "cell_type": "markdown",
   "id": "6c17a62e-74b3-4b53-ae4c-6f0ba605f530",
   "metadata": {},
   "source": [
    "#### Get patients with an arterial lactate higher than 2mmol/L during the first ICU day for those who have accomplished with the inclusion criteria"
   ]
  },
  {
   "cell_type": "code",
   "execution_count": 58,
   "id": "e693b32e-aeb1-4254-94fe-151f436e182e",
   "metadata": {},
   "outputs": [
    {
     "name": "stdout",
     "output_type": "stream",
     "text": [
      "CPU times: user 129 ms, sys: 49.2 ms, total: 178 ms\n",
      "Wall time: 471 ms\n"
     ]
    }
   ],
   "source": [
    "%%time\n",
    "\n",
    "labres = wr.s3.read_parquet(path='s3://icusics-db/labresults_numeric/labresults_numeric_h3.parquet')"
   ]
  },
  {
   "cell_type": "code",
   "execution_count": 59,
   "id": "9469550f-f49a-420f-a4a0-98bc8cf4f3c0",
   "metadata": {},
   "outputs": [
    {
     "data": {
      "text/html": [
       "<div>\n",
       "<style scoped>\n",
       "    .dataframe tbody tr th:only-of-type {\n",
       "        vertical-align: middle;\n",
       "    }\n",
       "\n",
       "    .dataframe tbody tr th {\n",
       "        vertical-align: top;\n",
       "    }\n",
       "\n",
       "    .dataframe thead th {\n",
       "        text-align: right;\n",
       "    }\n",
       "</style>\n",
       "<table border=\"1\" class=\"dataframe\">\n",
       "  <thead>\n",
       "    <tr style=\"text-align: right;\">\n",
       "      <th></th>\n",
       "      <th>a_patientid</th>\n",
       "      <th>a_variableid</th>\n",
       "      <th>time</th>\n",
       "      <th>value</th>\n",
       "    </tr>\n",
       "  </thead>\n",
       "  <tbody>\n",
       "    <tr>\n",
       "      <th>0</th>\n",
       "      <td>3000446</td>\n",
       "      <td>3020000100</td>\n",
       "      <td>-13</td>\n",
       "      <td>30.2</td>\n",
       "    </tr>\n",
       "    <tr>\n",
       "      <th>1</th>\n",
       "      <td>3000446</td>\n",
       "      <td>3020000100</td>\n",
       "      <td>74</td>\n",
       "      <td>31.2</td>\n",
       "    </tr>\n",
       "    <tr>\n",
       "      <th>2</th>\n",
       "      <td>3000446</td>\n",
       "      <td>3020000100</td>\n",
       "      <td>1642</td>\n",
       "      <td>27.5</td>\n",
       "    </tr>\n",
       "    <tr>\n",
       "      <th>3</th>\n",
       "      <td>3000446</td>\n",
       "      <td>3020000100</td>\n",
       "      <td>3312</td>\n",
       "      <td>31.1</td>\n",
       "    </tr>\n",
       "    <tr>\n",
       "      <th>4</th>\n",
       "      <td>3000446</td>\n",
       "      <td>3020000100</td>\n",
       "      <td>4343</td>\n",
       "      <td>28.2</td>\n",
       "    </tr>\n",
       "  </tbody>\n",
       "</table>\n",
       "</div>"
      ],
      "text/plain": [
       "   a_patientid  a_variableid  time  value\n",
       "0      3000446    3020000100   -13   30.2\n",
       "1      3000446    3020000100    74   31.2\n",
       "2      3000446    3020000100  1642   27.5\n",
       "3      3000446    3020000100  3312   31.1\n",
       "4      3000446    3020000100  4343   28.2"
      ]
     },
     "execution_count": 59,
     "metadata": {},
     "output_type": "execute_result"
    }
   ],
   "source": [
    "labres.head()"
   ]
  },
  {
   "cell_type": "code",
   "execution_count": 60,
   "id": "c135dde1-4031-4e53-8504-3a3241a19067",
   "metadata": {},
   "outputs": [
    {
     "name": "stdout",
     "output_type": "stream",
     "text": [
      "CPU times: user 26.5 ms, sys: 3.32 ms, total: 29.9 ms\n",
      "Wall time: 28.8 ms\n"
     ]
    }
   ],
   "source": [
    "%%time\n",
    "\n",
    "lac2_fd_patlist = tuple(set(labres[(labres['a_variableid'].isin([3024000658,3024000704])) & (labres['value']>2) & (labres['time']<1440) & (\n",
    "    labres['a_patientid'].isin(tuple(set(los2d_pneumopd_imv_apacheII20['a_patientid']))))]['a_patientid']))"
   ]
  },
  {
   "cell_type": "code",
   "execution_count": 61,
   "id": "5b8eae49-adef-4fd2-bd5f-15408dc5b6d5",
   "metadata": {},
   "outputs": [
    {
     "data": {
      "text/plain": [
       "26"
      ]
     },
     "execution_count": 61,
     "metadata": {},
     "output_type": "execute_result"
    }
   ],
   "source": [
    "len(lac2_fd_patlist)"
   ]
  },
  {
   "cell_type": "code",
   "execution_count": 62,
   "id": "b897ff7d-710e-4a37-ab94-3c0723be3d38",
   "metadata": {},
   "outputs": [],
   "source": [
    "los2d_pneumopd_imv_apacheII20_lac2fd = los2d_pneumopd_imv_apacheII20[los2d_pneumopd_imv_apacheII20['a_patientid'].isin(lac2_fd_patlist)].sort_values(\n",
    "    'a_patientid').reset_index(drop=True)"
   ]
  },
  {
   "cell_type": "code",
   "execution_count": 63,
   "id": "31b35cc3-f907-4c40-a0f0-109b136d73f1",
   "metadata": {},
   "outputs": [
    {
     "name": "stdout",
     "output_type": "stream",
     "text": [
      "26\n",
      "0.68\n"
     ]
    }
   ],
   "source": [
    "print(los2d_pneumopd_imv_apacheII20_lac2fd['a_patientid'].nunique())\n",
    "print(round(los2d_pneumopd_imv_apacheII20_lac2fd['a_patientid'].nunique()/patients['a_patientid'].nunique()*100,2))"
   ]
  },
  {
   "cell_type": "markdown",
   "id": "318ede04-40d0-4635-bc37-e74692f2811d",
   "metadata": {},
   "source": [
    "### 6- Sedative Drugs (VAD)"
   ]
  },
  {
   "cell_type": "code",
   "execution_count": 64,
   "id": "ce76fdfa-9b71-465f-9e60-3974643b480f",
   "metadata": {},
   "outputs": [],
   "source": [
    "d_pharma = wr.s3.read_parquet(path='s3://icusics-db/d_pharma/d_pharma.parquet')"
   ]
  },
  {
   "cell_type": "code",
   "execution_count": 65,
   "id": "0bbbe8e1-5ca2-46d6-8761-b64c0628a247",
   "metadata": {},
   "outputs": [
    {
     "data": {
      "text/html": [
       "<div>\n",
       "<style scoped>\n",
       "    .dataframe tbody tr th:only-of-type {\n",
       "        vertical-align: middle;\n",
       "    }\n",
       "\n",
       "    .dataframe tbody tr th {\n",
       "        vertical-align: top;\n",
       "    }\n",
       "\n",
       "    .dataframe thead th {\n",
       "        text-align: right;\n",
       "    }\n",
       "</style>\n",
       "<table border=\"1\" class=\"dataframe\">\n",
       "  <thead>\n",
       "    <tr style=\"text-align: right;\">\n",
       "      <th></th>\n",
       "      <th>hospital_coded</th>\n",
       "      <th>a_pharmaid</th>\n",
       "      <th>pharmaname</th>\n",
       "      <th>pharmagroupname</th>\n",
       "      <th>pharmaformunit</th>\n",
       "      <th>pharmadoseunit</th>\n",
       "      <th>pharmadoseformratio</th>\n",
       "      <th>pharmavolumeunit</th>\n",
       "      <th>pharmavolumeformratio</th>\n",
       "    </tr>\n",
       "  </thead>\n",
       "  <tbody>\n",
       "    <tr>\n",
       "      <th>0</th>\n",
       "      <td>1</td>\n",
       "      <td>1001000255</td>\n",
       "      <td>ABACAVIR 300 MG COMP</td>\n",
       "      <td>&lt;NA&gt;</td>\n",
       "      <td>comp</td>\n",
       "      <td>mg</td>\n",
       "      <td>300.0</td>\n",
       "      <td>ml</td>\n",
       "      <td>0.0</td>\n",
       "    </tr>\n",
       "    <tr>\n",
       "      <th>1</th>\n",
       "      <td>1</td>\n",
       "      <td>1001000256</td>\n",
       "      <td>AIGUA</td>\n",
       "      <td>Nutrició Enteral</td>\n",
       "      <td>ml</td>\n",
       "      <td>ml</td>\n",
       "      <td>1.0</td>\n",
       "      <td>ml</td>\n",
       "      <td>1.0</td>\n",
       "    </tr>\n",
       "    <tr>\n",
       "      <th>2</th>\n",
       "      <td>1</td>\n",
       "      <td>1001000258</td>\n",
       "      <td>BICARBONAT SODIC 1/6M</td>\n",
       "      <td>Serumteràpia</td>\n",
       "      <td>ml</td>\n",
       "      <td>ml</td>\n",
       "      <td>1.0</td>\n",
       "      <td>ml</td>\n",
       "      <td>1.0</td>\n",
       "    </tr>\n",
       "    <tr>\n",
       "      <th>3</th>\n",
       "      <td>1</td>\n",
       "      <td>1001000259</td>\n",
       "      <td>BICARBONAT SODIC 1M</td>\n",
       "      <td>Serumteràpia</td>\n",
       "      <td>ml</td>\n",
       "      <td>ml</td>\n",
       "      <td>1.0</td>\n",
       "      <td>ml</td>\n",
       "      <td>1.0</td>\n",
       "    </tr>\n",
       "    <tr>\n",
       "      <th>4</th>\n",
       "      <td>1</td>\n",
       "      <td>1001000275</td>\n",
       "      <td>GELATINA 3%</td>\n",
       "      <td>Serumteràpia</td>\n",
       "      <td>ml</td>\n",
       "      <td>ml</td>\n",
       "      <td>1.0</td>\n",
       "      <td>ml</td>\n",
       "      <td>1.0</td>\n",
       "    </tr>\n",
       "  </tbody>\n",
       "</table>\n",
       "</div>"
      ],
      "text/plain": [
       "   hospital_coded  a_pharmaid             pharmaname   pharmagroupname  \\\n",
       "0               1  1001000255   ABACAVIR 300 MG COMP              <NA>   \n",
       "1               1  1001000256                  AIGUA  Nutrició Enteral   \n",
       "2               1  1001000258  BICARBONAT SODIC 1/6M      Serumteràpia   \n",
       "3               1  1001000259    BICARBONAT SODIC 1M      Serumteràpia   \n",
       "4               1  1001000275            GELATINA 3%      Serumteràpia   \n",
       "\n",
       "  pharmaformunit pharmadoseunit  pharmadoseformratio pharmavolumeunit  \\\n",
       "0           comp             mg                300.0               ml   \n",
       "1             ml             ml                  1.0               ml   \n",
       "2             ml             ml                  1.0               ml   \n",
       "3             ml             ml                  1.0               ml   \n",
       "4             ml             ml                  1.0               ml   \n",
       "\n",
       "   pharmavolumeformratio  \n",
       "0                    0.0  \n",
       "1                    1.0  \n",
       "2                    1.0  \n",
       "3                    1.0  \n",
       "4                    1.0  "
      ]
     },
     "execution_count": 65,
     "metadata": {},
     "output_type": "execute_result"
    }
   ],
   "source": [
    "d_pharma.head()"
   ]
  },
  {
   "cell_type": "code",
   "execution_count": 66,
   "id": "6da687ab-5155-425e-9daa-eab9aa18c682",
   "metadata": {},
   "outputs": [
    {
     "name": "stdout",
     "output_type": "stream",
     "text": [
      "(39, 9)\n",
      "We have 39 drugs in the group of sedatives, so we save all them in a tuple and search for them in drugs table'\n"
     ]
    }
   ],
   "source": [
    "# define key characters (remember that strings in this db can be in english, catalan or spanish language) to start a blind search\n",
    "\n",
    "key_chars = 'sed'\n",
    "\n",
    "sed_results_dummy = d_pharma[(d_pharma['hospital_coded']==3) & (d_pharma['pharmagroupname'].str.contains(key_chars, case=False, na=False))]\n",
    "\n",
    "print(sed_results_dummy.shape)\n",
    "\n",
    "print(\"We have 39 drugs in the group of sedatives, so we save all them in a tuple and search for them in drugs table'\")\n",
    "\n",
    "sedatives_ids = tuple(set(sed_results_dummy['a_pharmaid']))"
   ]
  },
  {
   "cell_type": "code",
   "execution_count": 67,
   "id": "e6fbff45-3d7f-40a7-bad5-351fdaeb9331",
   "metadata": {},
   "outputs": [
    {
     "name": "stdout",
     "output_type": "stream",
     "text": [
      "CPU times: user 1.66 s, sys: 2.27 s, total: 3.92 s\n",
      "Wall time: 5.27 s\n"
     ]
    }
   ],
   "source": [
    "%%time\n",
    "\n",
    "pharma_records = wr.s3.read_parquet(path='s3://icusics-db/pharma_records/pharma_records_h3.parquet')"
   ]
  },
  {
   "cell_type": "code",
   "execution_count": 68,
   "id": "3165958e-b926-4ed5-8ade-badcdc73599d",
   "metadata": {},
   "outputs": [
    {
     "data": {
      "text/html": [
       "<div>\n",
       "<style scoped>\n",
       "    .dataframe tbody tr th:only-of-type {\n",
       "        vertical-align: middle;\n",
       "    }\n",
       "\n",
       "    .dataframe tbody tr th {\n",
       "        vertical-align: top;\n",
       "    }\n",
       "\n",
       "    .dataframe thead th {\n",
       "        text-align: right;\n",
       "    }\n",
       "</style>\n",
       "<table border=\"1\" class=\"dataframe\">\n",
       "  <thead>\n",
       "    <tr style=\"text-align: right;\">\n",
       "      <th></th>\n",
       "      <th>a_patientid</th>\n",
       "      <th>ordernumber</th>\n",
       "      <th>a_pharmaid</th>\n",
       "      <th>time</th>\n",
       "      <th>givendose</th>\n",
       "      <th>routename</th>\n",
       "    </tr>\n",
       "  </thead>\n",
       "  <tbody>\n",
       "    <tr>\n",
       "      <th>0</th>\n",
       "      <td>3001014</td>\n",
       "      <td>804140</td>\n",
       "      <td>3000000005</td>\n",
       "      <td>643</td>\n",
       "      <td>40.0</td>\n",
       "      <td>PERF IV</td>\n",
       "    </tr>\n",
       "    <tr>\n",
       "      <th>1</th>\n",
       "      <td>3001014</td>\n",
       "      <td>804140</td>\n",
       "      <td>3000002034</td>\n",
       "      <td>643</td>\n",
       "      <td>50.0</td>\n",
       "      <td>PERF IV</td>\n",
       "    </tr>\n",
       "    <tr>\n",
       "      <th>2</th>\n",
       "      <td>3001014</td>\n",
       "      <td>804141</td>\n",
       "      <td>3000000446</td>\n",
       "      <td>233</td>\n",
       "      <td>1.0</td>\n",
       "      <td>PERF IV</td>\n",
       "    </tr>\n",
       "    <tr>\n",
       "      <th>3</th>\n",
       "      <td>3001014</td>\n",
       "      <td>804141</td>\n",
       "      <td>3000000446</td>\n",
       "      <td>677</td>\n",
       "      <td>1.0</td>\n",
       "      <td>PERF IV</td>\n",
       "    </tr>\n",
       "    <tr>\n",
       "      <th>4</th>\n",
       "      <td>3001014</td>\n",
       "      <td>804141</td>\n",
       "      <td>3000000446</td>\n",
       "      <td>1193</td>\n",
       "      <td>1.0</td>\n",
       "      <td>PERF IV</td>\n",
       "    </tr>\n",
       "  </tbody>\n",
       "</table>\n",
       "</div>"
      ],
      "text/plain": [
       "   a_patientid  ordernumber  a_pharmaid  time  givendose routename\n",
       "0      3001014       804140  3000000005   643       40.0   PERF IV\n",
       "1      3001014       804140  3000002034   643       50.0   PERF IV\n",
       "2      3001014       804141  3000000446   233        1.0   PERF IV\n",
       "3      3001014       804141  3000000446   677        1.0   PERF IV\n",
       "4      3001014       804141  3000000446  1193        1.0   PERF IV"
      ]
     },
     "execution_count": 68,
     "metadata": {},
     "output_type": "execute_result"
    }
   ],
   "source": [
    "pharma_records.head()"
   ]
  },
  {
   "cell_type": "code",
   "execution_count": 69,
   "id": "5c32115a-0148-40c9-9519-fd56dcdb4cab",
   "metadata": {},
   "outputs": [],
   "source": [
    "sed_patlist = tuple(set(pharma_records[(pharma_records['a_patientid'].isin(tuple(set(los2d_pneumopd_imv_apacheII20_lac2fd['a_patientid'])))) & (\n",
    "    pharma_records['a_pharmaid'].isin(sedatives_ids))]['a_patientid']))"
   ]
  },
  {
   "cell_type": "code",
   "execution_count": 70,
   "id": "8d4f3fc2-d754-46e7-9dbf-351f7e610ce3",
   "metadata": {},
   "outputs": [],
   "source": [
    "los2d_pneumopd_imv_apacheII20_lac2fd_sedatives = los2d_pneumopd_imv_apacheII20_lac2fd[los2d_pneumopd_imv_apacheII20_lac2fd['a_patientid'].isin(sed_patlist)].sort_values(\n",
    "    'a_patientid').reset_index(drop=True)"
   ]
  },
  {
   "cell_type": "code",
   "execution_count": 71,
   "id": "42572d2e-e0ba-4d70-bdda-e1bcf27183d1",
   "metadata": {},
   "outputs": [
    {
     "name": "stdout",
     "output_type": "stream",
     "text": [
      "26\n",
      "0.68\n"
     ]
    }
   ],
   "source": [
    "print(los2d_pneumopd_imv_apacheII20_lac2fd_sedatives['a_patientid'].nunique())\n",
    "print(round(los2d_pneumopd_imv_apacheII20_lac2fd_sedatives['a_patientid'].nunique()/patients['a_patientid'].nunique()*100,2))"
   ]
  },
  {
   "cell_type": "code",
   "execution_count": 72,
   "id": "9d945e3f-c1b9-45d3-bbc6-7f18775862b0",
   "metadata": {},
   "outputs": [
    {
     "name": "stdout",
     "output_type": "stream",
     "text": [
      "patients in ICUSICS DB for hospital 3 3815\n",
      "from those, with ICU LOS > 2 days: 2312\n",
      "from those, with pneumonia as pd: 228\n",
      "from those, with imv: 131\n",
      "from those, with an apache2 > 20: 60\n",
      "from those, with lactate >2mmol/L at day 1: 26\n",
      "from those, with sedatives: 26\n"
     ]
    }
   ],
   "source": [
    "print('patients in ICUSICS DB for hospital 3',\n",
    "      patients['a_patientid'].nunique())\n",
    "print('from those, with ICU LOS > 2 days:',\n",
    "      los2d['a_patientid'].nunique())\n",
    "print('from those, with pneumonia as pd:',\n",
    "      los2d_pneumopd['a_patientid'].nunique())\n",
    "print('from those, with imv:',\n",
    "      los2d_pneumopd_imv['a_patientid'].nunique())\n",
    "print('from those, with an apache2 > 20:',\n",
    "      los2d_pneumopd_imv_apacheII20['a_patientid'].nunique())\n",
    "print('from those, with lactate >2mmol/L at day 1:',\n",
    "      los2d_pneumopd_imv_apacheII20_lac2fd['a_patientid'].nunique())\n",
    "print('from those, with sedatives:',\n",
    "      los2d_pneumopd_imv_apacheII20_lac2fd_sedatives['a_patientid'].nunique())"
   ]
  },
  {
   "cell_type": "markdown",
   "id": "4cee9173-bf0c-40c3-8efc-997e63e0e492",
   "metadata": {},
   "source": [
    "We see how only 26 patients fullfilled the inclusion criteria of this example. The objective was to explore all tables, not to obtain a real dataset with clinical criteria"
   ]
  },
  {
   "cell_type": "code",
   "execution_count": 73,
   "id": "8c1f1713-fb32-4d22-a270-ee270712f6fa",
   "metadata": {},
   "outputs": [
    {
     "data": {
      "text/html": [
       "<div>\n",
       "<style scoped>\n",
       "    .dataframe tbody tr th:only-of-type {\n",
       "        vertical-align: middle;\n",
       "    }\n",
       "\n",
       "    .dataframe tbody tr th {\n",
       "        vertical-align: top;\n",
       "    }\n",
       "\n",
       "    .dataframe thead th {\n",
       "        text-align: right;\n",
       "    }\n",
       "</style>\n",
       "<table border=\"1\" class=\"dataframe\">\n",
       "  <thead>\n",
       "    <tr style=\"text-align: right;\">\n",
       "      <th></th>\n",
       "      <th>hospital_coded</th>\n",
       "      <th>a_patientid</th>\n",
       "      <th>patientsex</th>\n",
       "      <th>age</th>\n",
       "      <th>height</th>\n",
       "      <th>weight</th>\n",
       "      <th>bmi</th>\n",
       "      <th>hospadmtime</th>\n",
       "      <th>distime</th>\n",
       "      <th>hospdistime</th>\n",
       "      <th>hospital_outcome</th>\n",
       "      <th>distime_in_days</th>\n",
       "    </tr>\n",
       "  </thead>\n",
       "  <tbody>\n",
       "    <tr>\n",
       "      <th>0</th>\n",
       "      <td>3</td>\n",
       "      <td>3006618</td>\n",
       "      <td>M</td>\n",
       "      <td>80</td>\n",
       "      <td>170</td>\n",
       "      <td>90</td>\n",
       "      <td>31</td>\n",
       "      <td>-7221</td>\n",
       "      <td>20926</td>\n",
       "      <td>20926</td>\n",
       "      <td>EXITUS</td>\n",
       "      <td>14.5</td>\n",
       "    </tr>\n",
       "    <tr>\n",
       "      <th>1</th>\n",
       "      <td>3</td>\n",
       "      <td>3010785</td>\n",
       "      <td>M</td>\n",
       "      <td>70</td>\n",
       "      <td>170</td>\n",
       "      <td>100</td>\n",
       "      <td>35</td>\n",
       "      <td>0</td>\n",
       "      <td>67191</td>\n",
       "      <td>67304</td>\n",
       "      <td>EXITUS</td>\n",
       "      <td>46.7</td>\n",
       "    </tr>\n",
       "    <tr>\n",
       "      <th>2</th>\n",
       "      <td>3</td>\n",
       "      <td>3189352</td>\n",
       "      <td>M</td>\n",
       "      <td>40</td>\n",
       "      <td>180</td>\n",
       "      <td>100</td>\n",
       "      <td>31</td>\n",
       "      <td>0</td>\n",
       "      <td>4516</td>\n",
       "      <td>14757</td>\n",
       "      <td>ALIVE</td>\n",
       "      <td>3.1</td>\n",
       "    </tr>\n",
       "    <tr>\n",
       "      <th>3</th>\n",
       "      <td>3</td>\n",
       "      <td>3295500</td>\n",
       "      <td>M</td>\n",
       "      <td>30</td>\n",
       "      <td>180</td>\n",
       "      <td>110</td>\n",
       "      <td>34</td>\n",
       "      <td>-1</td>\n",
       "      <td>46245</td>\n",
       "      <td>74523</td>\n",
       "      <td>ALIVE</td>\n",
       "      <td>32.1</td>\n",
       "    </tr>\n",
       "    <tr>\n",
       "      <th>4</th>\n",
       "      <td>3</td>\n",
       "      <td>3306000</td>\n",
       "      <td>M</td>\n",
       "      <td>60</td>\n",
       "      <td>170</td>\n",
       "      <td>120</td>\n",
       "      <td>42</td>\n",
       "      <td>-5</td>\n",
       "      <td>164080</td>\n",
       "      <td>169641</td>\n",
       "      <td>ALIVE</td>\n",
       "      <td>113.9</td>\n",
       "    </tr>\n",
       "    <tr>\n",
       "      <th>5</th>\n",
       "      <td>3</td>\n",
       "      <td>3319369</td>\n",
       "      <td>M</td>\n",
       "      <td>70</td>\n",
       "      <td>160</td>\n",
       "      <td>60</td>\n",
       "      <td>23</td>\n",
       "      <td>-10</td>\n",
       "      <td>8083</td>\n",
       "      <td>8093</td>\n",
       "      <td>EXITUS</td>\n",
       "      <td>5.6</td>\n",
       "    </tr>\n",
       "    <tr>\n",
       "      <th>6</th>\n",
       "      <td>3</td>\n",
       "      <td>3324322</td>\n",
       "      <td>F</td>\n",
       "      <td>60</td>\n",
       "      <td>160</td>\n",
       "      <td>100</td>\n",
       "      <td>39</td>\n",
       "      <td>-247</td>\n",
       "      <td>18387</td>\n",
       "      <td>27041</td>\n",
       "      <td>ALIVE</td>\n",
       "      <td>12.8</td>\n",
       "    </tr>\n",
       "    <tr>\n",
       "      <th>7</th>\n",
       "      <td>3</td>\n",
       "      <td>3433306</td>\n",
       "      <td>F</td>\n",
       "      <td>60</td>\n",
       "      <td>150</td>\n",
       "      <td>60</td>\n",
       "      <td>27</td>\n",
       "      <td>-12</td>\n",
       "      <td>3892</td>\n",
       "      <td>32921</td>\n",
       "      <td>ALIVE</td>\n",
       "      <td>2.7</td>\n",
       "    </tr>\n",
       "    <tr>\n",
       "      <th>8</th>\n",
       "      <td>3</td>\n",
       "      <td>3489340</td>\n",
       "      <td>F</td>\n",
       "      <td>80</td>\n",
       "      <td>150</td>\n",
       "      <td>70</td>\n",
       "      <td>31</td>\n",
       "      <td>-7</td>\n",
       "      <td>21346</td>\n",
       "      <td>58606</td>\n",
       "      <td>ALIVE</td>\n",
       "      <td>14.8</td>\n",
       "    </tr>\n",
       "    <tr>\n",
       "      <th>9</th>\n",
       "      <td>3</td>\n",
       "      <td>3509270</td>\n",
       "      <td>F</td>\n",
       "      <td>80</td>\n",
       "      <td>160</td>\n",
       "      <td>90</td>\n",
       "      <td>35</td>\n",
       "      <td>-1637</td>\n",
       "      <td>6846</td>\n",
       "      <td>47409</td>\n",
       "      <td>ALIVE</td>\n",
       "      <td>4.8</td>\n",
       "    </tr>\n",
       "    <tr>\n",
       "      <th>10</th>\n",
       "      <td>3</td>\n",
       "      <td>3586513</td>\n",
       "      <td>M</td>\n",
       "      <td>60</td>\n",
       "      <td>180</td>\n",
       "      <td>120</td>\n",
       "      <td>37</td>\n",
       "      <td>-51</td>\n",
       "      <td>8403</td>\n",
       "      <td>8403</td>\n",
       "      <td>EXITUS</td>\n",
       "      <td>5.8</td>\n",
       "    </tr>\n",
       "    <tr>\n",
       "      <th>11</th>\n",
       "      <td>3</td>\n",
       "      <td>3623258</td>\n",
       "      <td>M</td>\n",
       "      <td>50</td>\n",
       "      <td>170</td>\n",
       "      <td>90</td>\n",
       "      <td>31</td>\n",
       "      <td>-24710</td>\n",
       "      <td>8006</td>\n",
       "      <td>8006</td>\n",
       "      <td>EXITUS</td>\n",
       "      <td>5.6</td>\n",
       "    </tr>\n",
       "    <tr>\n",
       "      <th>12</th>\n",
       "      <td>3</td>\n",
       "      <td>3629281</td>\n",
       "      <td>F</td>\n",
       "      <td>60</td>\n",
       "      <td>160</td>\n",
       "      <td>80</td>\n",
       "      <td>31</td>\n",
       "      <td>0</td>\n",
       "      <td>3737</td>\n",
       "      <td>3737</td>\n",
       "      <td>EXITUS</td>\n",
       "      <td>2.6</td>\n",
       "    </tr>\n",
       "    <tr>\n",
       "      <th>13</th>\n",
       "      <td>3</td>\n",
       "      <td>3648754</td>\n",
       "      <td>F</td>\n",
       "      <td>70</td>\n",
       "      <td>170</td>\n",
       "      <td>70</td>\n",
       "      <td>24</td>\n",
       "      <td>-110</td>\n",
       "      <td>10040</td>\n",
       "      <td>31151</td>\n",
       "      <td>ALIVE</td>\n",
       "      <td>7.0</td>\n",
       "    </tr>\n",
       "    <tr>\n",
       "      <th>14</th>\n",
       "      <td>3</td>\n",
       "      <td>3655901</td>\n",
       "      <td>M</td>\n",
       "      <td>40</td>\n",
       "      <td>170</td>\n",
       "      <td>90</td>\n",
       "      <td>31</td>\n",
       "      <td>-2916</td>\n",
       "      <td>20448</td>\n",
       "      <td>26005</td>\n",
       "      <td>ALIVE</td>\n",
       "      <td>14.2</td>\n",
       "    </tr>\n",
       "    <tr>\n",
       "      <th>15</th>\n",
       "      <td>3</td>\n",
       "      <td>3678443</td>\n",
       "      <td>M</td>\n",
       "      <td>60</td>\n",
       "      <td>170</td>\n",
       "      <td>90</td>\n",
       "      <td>31</td>\n",
       "      <td>0</td>\n",
       "      <td>54929</td>\n",
       "      <td>54929</td>\n",
       "      <td>EXITUS</td>\n",
       "      <td>38.1</td>\n",
       "    </tr>\n",
       "    <tr>\n",
       "      <th>16</th>\n",
       "      <td>3</td>\n",
       "      <td>3754297</td>\n",
       "      <td>M</td>\n",
       "      <td>70</td>\n",
       "      <td>160</td>\n",
       "      <td>60</td>\n",
       "      <td>23</td>\n",
       "      <td>-10</td>\n",
       "      <td>6700</td>\n",
       "      <td>10743</td>\n",
       "      <td>EXITUS</td>\n",
       "      <td>4.7</td>\n",
       "    </tr>\n",
       "    <tr>\n",
       "      <th>17</th>\n",
       "      <td>3</td>\n",
       "      <td>3763846</td>\n",
       "      <td>M</td>\n",
       "      <td>70</td>\n",
       "      <td>180</td>\n",
       "      <td>80</td>\n",
       "      <td>25</td>\n",
       "      <td>-6</td>\n",
       "      <td>14766</td>\n",
       "      <td>14766</td>\n",
       "      <td>EXITUS</td>\n",
       "      <td>10.3</td>\n",
       "    </tr>\n",
       "    <tr>\n",
       "      <th>18</th>\n",
       "      <td>3</td>\n",
       "      <td>3781380</td>\n",
       "      <td>M</td>\n",
       "      <td>70</td>\n",
       "      <td>180</td>\n",
       "      <td>80</td>\n",
       "      <td>25</td>\n",
       "      <td>-215</td>\n",
       "      <td>20946</td>\n",
       "      <td>20946</td>\n",
       "      <td>EXITUS</td>\n",
       "      <td>14.5</td>\n",
       "    </tr>\n",
       "    <tr>\n",
       "      <th>19</th>\n",
       "      <td>3</td>\n",
       "      <td>3816115</td>\n",
       "      <td>M</td>\n",
       "      <td>40</td>\n",
       "      <td>170</td>\n",
       "      <td>70</td>\n",
       "      <td>24</td>\n",
       "      <td>-69</td>\n",
       "      <td>61945</td>\n",
       "      <td>61945</td>\n",
       "      <td>EXITUS</td>\n",
       "      <td>43.0</td>\n",
       "    </tr>\n",
       "    <tr>\n",
       "      <th>20</th>\n",
       "      <td>3</td>\n",
       "      <td>3824153</td>\n",
       "      <td>M</td>\n",
       "      <td>70</td>\n",
       "      <td>170</td>\n",
       "      <td>110</td>\n",
       "      <td>38</td>\n",
       "      <td>0</td>\n",
       "      <td>26069</td>\n",
       "      <td>26069</td>\n",
       "      <td>EXITUS</td>\n",
       "      <td>18.1</td>\n",
       "    </tr>\n",
       "    <tr>\n",
       "      <th>21</th>\n",
       "      <td>3</td>\n",
       "      <td>3861996</td>\n",
       "      <td>M</td>\n",
       "      <td>60</td>\n",
       "      <td>170</td>\n",
       "      <td>110</td>\n",
       "      <td>38</td>\n",
       "      <td>-9</td>\n",
       "      <td>13372</td>\n",
       "      <td>13389</td>\n",
       "      <td>EXITUS</td>\n",
       "      <td>9.3</td>\n",
       "    </tr>\n",
       "    <tr>\n",
       "      <th>22</th>\n",
       "      <td>3</td>\n",
       "      <td>3869890</td>\n",
       "      <td>M</td>\n",
       "      <td>60</td>\n",
       "      <td>180</td>\n",
       "      <td>90</td>\n",
       "      <td>28</td>\n",
       "      <td>-7</td>\n",
       "      <td>19707</td>\n",
       "      <td>19779</td>\n",
       "      <td>EXITUS</td>\n",
       "      <td>13.7</td>\n",
       "    </tr>\n",
       "    <tr>\n",
       "      <th>23</th>\n",
       "      <td>3</td>\n",
       "      <td>3890351</td>\n",
       "      <td>M</td>\n",
       "      <td>70</td>\n",
       "      <td>180</td>\n",
       "      <td>90</td>\n",
       "      <td>28</td>\n",
       "      <td>0</td>\n",
       "      <td>19038</td>\n",
       "      <td>19231</td>\n",
       "      <td>EXITUS</td>\n",
       "      <td>13.2</td>\n",
       "    </tr>\n",
       "    <tr>\n",
       "      <th>24</th>\n",
       "      <td>3</td>\n",
       "      <td>3891628</td>\n",
       "      <td>M</td>\n",
       "      <td>80</td>\n",
       "      <td>170</td>\n",
       "      <td>90</td>\n",
       "      <td>31</td>\n",
       "      <td>-2</td>\n",
       "      <td>85655</td>\n",
       "      <td>85655</td>\n",
       "      <td>EXITUS</td>\n",
       "      <td>59.5</td>\n",
       "    </tr>\n",
       "    <tr>\n",
       "      <th>25</th>\n",
       "      <td>3</td>\n",
       "      <td>3935045</td>\n",
       "      <td>M</td>\n",
       "      <td>50</td>\n",
       "      <td>170</td>\n",
       "      <td>70</td>\n",
       "      <td>24</td>\n",
       "      <td>-1857</td>\n",
       "      <td>43024</td>\n",
       "      <td>43024</td>\n",
       "      <td>EXITUS</td>\n",
       "      <td>29.9</td>\n",
       "    </tr>\n",
       "  </tbody>\n",
       "</table>\n",
       "</div>"
      ],
      "text/plain": [
       "    hospital_coded  a_patientid patientsex  age  height  weight  bmi  \\\n",
       "0                3      3006618          M   80     170      90   31   \n",
       "1                3      3010785          M   70     170     100   35   \n",
       "2                3      3189352          M   40     180     100   31   \n",
       "3                3      3295500          M   30     180     110   34   \n",
       "4                3      3306000          M   60     170     120   42   \n",
       "5                3      3319369          M   70     160      60   23   \n",
       "6                3      3324322          F   60     160     100   39   \n",
       "7                3      3433306          F   60     150      60   27   \n",
       "8                3      3489340          F   80     150      70   31   \n",
       "9                3      3509270          F   80     160      90   35   \n",
       "10               3      3586513          M   60     180     120   37   \n",
       "11               3      3623258          M   50     170      90   31   \n",
       "12               3      3629281          F   60     160      80   31   \n",
       "13               3      3648754          F   70     170      70   24   \n",
       "14               3      3655901          M   40     170      90   31   \n",
       "15               3      3678443          M   60     170      90   31   \n",
       "16               3      3754297          M   70     160      60   23   \n",
       "17               3      3763846          M   70     180      80   25   \n",
       "18               3      3781380          M   70     180      80   25   \n",
       "19               3      3816115          M   40     170      70   24   \n",
       "20               3      3824153          M   70     170     110   38   \n",
       "21               3      3861996          M   60     170     110   38   \n",
       "22               3      3869890          M   60     180      90   28   \n",
       "23               3      3890351          M   70     180      90   28   \n",
       "24               3      3891628          M   80     170      90   31   \n",
       "25               3      3935045          M   50     170      70   24   \n",
       "\n",
       "    hospadmtime  distime  hospdistime hospital_outcome  distime_in_days  \n",
       "0         -7221    20926        20926           EXITUS             14.5  \n",
       "1             0    67191        67304           EXITUS             46.7  \n",
       "2             0     4516        14757            ALIVE              3.1  \n",
       "3            -1    46245        74523            ALIVE             32.1  \n",
       "4            -5   164080       169641            ALIVE            113.9  \n",
       "5           -10     8083         8093           EXITUS              5.6  \n",
       "6          -247    18387        27041            ALIVE             12.8  \n",
       "7           -12     3892        32921            ALIVE              2.7  \n",
       "8            -7    21346        58606            ALIVE             14.8  \n",
       "9         -1637     6846        47409            ALIVE              4.8  \n",
       "10          -51     8403         8403           EXITUS              5.8  \n",
       "11       -24710     8006         8006           EXITUS              5.6  \n",
       "12            0     3737         3737           EXITUS              2.6  \n",
       "13         -110    10040        31151            ALIVE              7.0  \n",
       "14        -2916    20448        26005            ALIVE             14.2  \n",
       "15            0    54929        54929           EXITUS             38.1  \n",
       "16          -10     6700        10743           EXITUS              4.7  \n",
       "17           -6    14766        14766           EXITUS             10.3  \n",
       "18         -215    20946        20946           EXITUS             14.5  \n",
       "19          -69    61945        61945           EXITUS             43.0  \n",
       "20            0    26069        26069           EXITUS             18.1  \n",
       "21           -9    13372        13389           EXITUS              9.3  \n",
       "22           -7    19707        19779           EXITUS             13.7  \n",
       "23            0    19038        19231           EXITUS             13.2  \n",
       "24           -2    85655        85655           EXITUS             59.5  \n",
       "25        -1857    43024        43024           EXITUS             29.9  "
      ]
     },
     "execution_count": 73,
     "metadata": {},
     "output_type": "execute_result"
    }
   ],
   "source": [
    "los2d_pneumopd_imv_apacheII20_lac2fd_sedatives"
   ]
  },
  {
   "cell_type": "code",
   "execution_count": 74,
   "id": "9708e030-ad8f-4dfe-9e13-8a8c2076a2b6",
   "metadata": {},
   "outputs": [
    {
     "data": {
      "text/plain": [
       "EXITUS    0.653846\n",
       "ALIVE     0.346154\n",
       "Name: hospital_outcome, dtype: Float64"
      ]
     },
     "execution_count": 74,
     "metadata": {},
     "output_type": "execute_result"
    }
   ],
   "source": [
    "los2d_pneumopd_imv_apacheII20_lac2fd_sedatives['hospital_outcome'].value_counts(normalize=True)"
   ]
  },
  {
   "cell_type": "code",
   "execution_count": null,
   "id": "46e9d18b-3d7f-4cf1-88b8-ae2252370d58",
   "metadata": {},
   "outputs": [],
   "source": []
  }
 ],
 "metadata": {
  "instance_type": "ml.t3.medium",
  "kernelspec": {
   "display_name": "Python 3 (Data Science)",
   "language": "python",
   "name": "python3__SAGEMAKER_INTERNAL__arn:aws:sagemaker:eu-west-1:470317259841:image/datascience-1.0"
  },
  "language_info": {
   "codemirror_mode": {
    "name": "ipython",
    "version": 3
   },
   "file_extension": ".py",
   "mimetype": "text/x-python",
   "name": "python",
   "nbconvert_exporter": "python",
   "pygments_lexer": "ipython3",
   "version": "3.7.10"
  }
 },
 "nbformat": 4,
 "nbformat_minor": 5
}
