{
 "cells": [
  {
   "cell_type": "markdown",
   "id": "be356102-ffdb-4732-81fc-f57f08fd5824",
   "metadata": {},
   "source": [
    "# ICUsICS DB tutorial"
   ]
  },
  {
   "cell_type": "markdown",
   "id": "2eb70f7c-57da-4ae9-abec-18c7cf3b1086",
   "metadata": {},
   "source": [
    "ICUsICS is an anonymized database built from the data stored into the Clinical Information System (CIS) database of 6 Intensive Care Units (ICUs) from the Catalan Institute of Health (ICS). Actually, it is a database of databases, because each ICU belongs to a different hospital and each CIS presents its own particularities. However, the tables architecture of each database is identical between hospitals, which facilitates data search and extraction.\n",
    "\n",
    "ICUsICS is not hosted as a database 'per se', but as a directory of folders (tables) with csv files inside (registries). Inside icuics-db, there are 6 folders, 1 for each hospital, and inside them there are 10 folders:  \n",
    "\n",
    "patients: it contains patient-level info (id, hospital, demografics and admission and discharge time and wards)  \n",
    "variables_ref: it contains info of the variables present in the database (id, hospital, name, type). Key info: vartype 1, 2, 4 and 8 mean v_monitored, v_labres, v_observed and v_derived respectivelly (the tables where the variable is stored). Key info: datatype 0, 1 and 2 mean numeric, categoric and checkbox respectivelly.  \n",
    "v_monitored: table with registries for vartype 1 variables  \n",
    "v_labres: table with registries for vartype 2 variables  \n",
    "v_observed: table with registries for vartype 4 variables  \n",
    "v_derived: table with registries for vartype 8 variables  \n",
    "drugs_ref: it contains info of the drugs present in the database (id, hospital, name, formunit, unit, etc.)  \n",
    "drugs: table with registries for drugs  \n",
    "diagnoses: table with the diagnoses  \n",
    "insertions: table with the insertions  "
   ]
  },
  {
   "cell_type": "markdown",
   "id": "1ca03095-318a-4742-b237-340a74802503",
   "metadata": {},
   "source": [
    "## Example of cohort preparation"
   ]
  },
  {
   "cell_type": "markdown",
   "id": "e81a9a06-6990-40d6-8409-39a06d46f818",
   "metadata": {},
   "source": [
    "Let's create a cohort that accomplishes the following inclusion/exclusion criteria:  \n",
    "Patients "
   ]
  },
  {
   "cell_type": "markdown",
   "id": "2f5e6f75-9308-4e83-a006-c6156aa1daac",
   "metadata": {},
   "source": []
  },
  {
   "cell_type": "code",
   "execution_count": 11,
   "id": "52b37fad-833c-47b8-b0ad-ee3535559533",
   "metadata": {},
   "outputs": [
    {
     "data": {
      "text/html": [
       "<div>\n",
       "<style scoped>\n",
       "    .dataframe tbody tr th:only-of-type {\n",
       "        vertical-align: middle;\n",
       "    }\n",
       "\n",
       "    .dataframe tbody tr th {\n",
       "        vertical-align: top;\n",
       "    }\n",
       "\n",
       "    .dataframe thead th {\n",
       "        text-align: right;\n",
       "    }\n",
       "</style>\n",
       "<table border=\"1\" class=\"dataframe\">\n",
       "  <thead>\n",
       "    <tr style=\"text-align: right;\">\n",
       "      <th></th>\n",
       "      <th>database</th>\n",
       "      <th>hospital</th>\n",
       "      <th>table</th>\n",
       "    </tr>\n",
       "  </thead>\n",
       "  <tbody>\n",
       "    <tr>\n",
       "      <th>0</th>\n",
       "      <td>icusics-db-demo</td>\n",
       "      <td>h3</td>\n",
       "      <td>patients</td>\n",
       "    </tr>\n",
       "    <tr>\n",
       "      <th>1</th>\n",
       "      <td>icusics-db-demo</td>\n",
       "      <td>h3</td>\n",
       "      <td>variables_ref</td>\n",
       "    </tr>\n",
       "    <tr>\n",
       "      <th>2</th>\n",
       "      <td>icusics-db-demo</td>\n",
       "      <td>h3</td>\n",
       "      <td>v_monitored</td>\n",
       "    </tr>\n",
       "    <tr>\n",
       "      <th>3</th>\n",
       "      <td>icusics-db-demo</td>\n",
       "      <td>h3</td>\n",
       "      <td>v_labres</td>\n",
       "    </tr>\n",
       "    <tr>\n",
       "      <th>4</th>\n",
       "      <td>icusics-db-demo</td>\n",
       "      <td>h3</td>\n",
       "      <td>v_observed</td>\n",
       "    </tr>\n",
       "    <tr>\n",
       "      <th>5</th>\n",
       "      <td>icusics-db-demo</td>\n",
       "      <td>h3</td>\n",
       "      <td>v_derived</td>\n",
       "    </tr>\n",
       "    <tr>\n",
       "      <th>6</th>\n",
       "      <td>icusics-db-demo</td>\n",
       "      <td>h3</td>\n",
       "      <td>drugs_ref</td>\n",
       "    </tr>\n",
       "    <tr>\n",
       "      <th>7</th>\n",
       "      <td>icusics-db-demo</td>\n",
       "      <td>h3</td>\n",
       "      <td>drugs</td>\n",
       "    </tr>\n",
       "    <tr>\n",
       "      <th>8</th>\n",
       "      <td>icusics-db-demo</td>\n",
       "      <td>h3</td>\n",
       "      <td>diagnoes</td>\n",
       "    </tr>\n",
       "    <tr>\n",
       "      <th>9</th>\n",
       "      <td>icusics-db-demo</td>\n",
       "      <td>h3</td>\n",
       "      <td>insertions</td>\n",
       "    </tr>\n",
       "  </tbody>\n",
       "</table>\n",
       "</div>"
      ],
      "text/plain": [
       "          database hospital          table\n",
       "0  icusics-db-demo       h3       patients\n",
       "1  icusics-db-demo       h3  variables_ref\n",
       "2  icusics-db-demo       h3    v_monitored\n",
       "3  icusics-db-demo       h3       v_labres\n",
       "4  icusics-db-demo       h3     v_observed\n",
       "5  icusics-db-demo       h3      v_derived\n",
       "6  icusics-db-demo       h3      drugs_ref\n",
       "7  icusics-db-demo       h3          drugs\n",
       "8  icusics-db-demo       h3       diagnoes\n",
       "9  icusics-db-demo       h3     insertions"
      ]
     },
     "execution_count": 11,
     "metadata": {},
     "output_type": "execute_result"
    }
   ],
   "source": [
    "dp = {'database': ['icusics-db-demo','icusics-db-demo','icusics-db-demo','icusics-db-demo','icusics-db-demo','icusics-db-demo','icusics-db-demo','icusics-db-demo','icusics-db-demo','icusics-db-demo'],\n",
    "      'hospital': ['h3','h3','h3','h3','h3','h3','h3','h3','h3','h3'],\n",
    "      'table': ['patients','variables_ref','v_monitored','v_labres','v_observed','v_derived','drugs_ref','drugs','diagnoes','insertions']}\n",
    "database_paths = pd.DataFrame(data=dp)"
   ]
  },
  {
   "cell_type": "code",
   "execution_count": 17,
   "id": "6f2377d1-4165-4abd-80bf-f43f1a53c45d",
   "metadata": {},
   "outputs": [
    {
     "data": {
      "text/plain": [
       "array(['icusics-db-demo'], dtype=object)"
      ]
     },
     "execution_count": 17,
     "metadata": {},
     "output_type": "execute_result"
    }
   ],
   "source": [
    "database_paths[database_paths['table']=='v_observed']['database'].values"
   ]
  },
  {
   "cell_type": "code",
   "execution_count": null,
   "id": "d2c823bd-cfdf-40d8-88f1-ef9453712aa2",
   "metadata": {},
   "outputs": [],
   "source": [
    "with open('filename', 'wb') as data:\n",
    "    bucket.download_fileobj('mykey', data)"
   ]
  },
  {
   "cell_type": "code",
   "execution_count": 98,
   "id": "d1549cf8-7cb1-44e7-b636-2d2fc4cb541b",
   "metadata": {},
   "outputs": [],
   "source": [
    "def search_for(db, h, t, k):\n",
    "    \n",
    "    df = pd.read_csv(f's3://{db}/{h}_db/{t}/{h}_{t}.csv')\n",
    "    \n",
    "    if 'drugs' in t:\n",
    "        \n",
    "        i = ''\n",
    "        \n",
    "        try:\n",
    "            return df[df['pharmaname'].str.contains(k, case=False, na=False)]\n",
    "        except:\n",
    "            return print('key_field not found')\n",
    "        \n",
    "    ifelse 'variables' in t\n"
   ]
  },
  {
   "cell_type": "code",
   "execution_count": 102,
   "id": "ffa74797-2ef8-42fc-adc6-9a91864a92dd",
   "metadata": {},
   "outputs": [],
   "source": [
    "result = search_for('icusics-db-demo', 'h3', 'drugs_ref', 'pepito')"
   ]
  },
  {
   "cell_type": "code",
   "execution_count": 103,
   "id": "d0421914-1609-478e-8451-b11a9f345a46",
   "metadata": {},
   "outputs": [
    {
     "data": {
      "text/plain": [
       "Series([], Name: a_pharmaid, dtype: int64)"
      ]
     },
     "execution_count": 103,
     "metadata": {},
     "output_type": "execute_result"
    }
   ],
   "source": [
    "result['a_pharmaid']"
   ]
  },
  {
   "cell_type": "code",
   "execution_count": 81,
   "id": "9c5290fe-9233-4d38-816e-be01c5fc33cc",
   "metadata": {},
   "outputs": [
    {
     "data": {
      "text/html": [
       "<div>\n",
       "<style scoped>\n",
       "    .dataframe tbody tr th:only-of-type {\n",
       "        vertical-align: middle;\n",
       "    }\n",
       "\n",
       "    .dataframe tbody tr th {\n",
       "        vertical-align: top;\n",
       "    }\n",
       "\n",
       "    .dataframe thead th {\n",
       "        text-align: right;\n",
       "    }\n",
       "</style>\n",
       "<table border=\"1\" class=\"dataframe\">\n",
       "  <thead>\n",
       "    <tr style=\"text-align: right;\">\n",
       "      <th></th>\n",
       "      <th>a_pharmaid</th>\n",
       "      <th>hospital_coded</th>\n",
       "      <th>pharmaname</th>\n",
       "      <th>pharmagroupname</th>\n",
       "      <th>pharmaformunit</th>\n",
       "      <th>pharmadoseunit</th>\n",
       "      <th>pharmadoseformratio</th>\n",
       "      <th>pharmavolumeunit</th>\n",
       "      <th>pharmavolumeformratio</th>\n",
       "    </tr>\n",
       "  </thead>\n",
       "  <tbody>\n",
       "    <tr>\n",
       "      <th>0</th>\n",
       "      <td>3000000004</td>\n",
       "      <td>3</td>\n",
       "      <td>COMPLEX DE PROTROMBINA 600 UI (F. IX) vi</td>\n",
       "      <td>.Antihemorràgics</td>\n",
       "      <td>vial</td>\n",
       "      <td>UI</td>\n",
       "      <td>600.0</td>\n",
       "      <td>ml</td>\n",
       "      <td>0.0</td>\n",
       "    </tr>\n",
       "    <tr>\n",
       "      <th>1</th>\n",
       "      <td>3000000005</td>\n",
       "      <td>3</td>\n",
       "      <td>OMEPRAZOL 40 mg vial</td>\n",
       "      <td>.Antiàcids</td>\n",
       "      <td>vial</td>\n",
       "      <td>mg</td>\n",
       "      <td>40.0</td>\n",
       "      <td>ml</td>\n",
       "      <td>0.0</td>\n",
       "    </tr>\n",
       "    <tr>\n",
       "      <th>2</th>\n",
       "      <td>3000000021</td>\n",
       "      <td>3</td>\n",
       "      <td>HEPARINA SODICA 5.000 UI/5 ml (1%) vial</td>\n",
       "      <td>ANTITROMBOTICS</td>\n",
       "      <td>ml</td>\n",
       "      <td>UI</td>\n",
       "      <td>1000.0</td>\n",
       "      <td>ml</td>\n",
       "      <td>1.0</td>\n",
       "    </tr>\n",
       "    <tr>\n",
       "      <th>3</th>\n",
       "      <td>3000000025</td>\n",
       "      <td>3</td>\n",
       "      <td>FOSFAT MONOPOTASSIC 10 mmol P/10 ml (1 M</td>\n",
       "      <td>.Electròlits</td>\n",
       "      <td>ml</td>\n",
       "      <td>mmol</td>\n",
       "      <td>1.0</td>\n",
       "      <td>ml</td>\n",
       "      <td>1.0</td>\n",
       "    </tr>\n",
       "    <tr>\n",
       "      <th>4</th>\n",
       "      <td>3000000049</td>\n",
       "      <td>3</td>\n",
       "      <td>FUROSEMIDA 250 mg/25 ml amp</td>\n",
       "      <td>DIURETICS</td>\n",
       "      <td>ml</td>\n",
       "      <td>mg</td>\n",
       "      <td>10.0</td>\n",
       "      <td>ml</td>\n",
       "      <td>1.0</td>\n",
       "    </tr>\n",
       "  </tbody>\n",
       "</table>\n",
       "</div>"
      ],
      "text/plain": [
       "   a_pharmaid  hospital_coded                                pharmaname  \\\n",
       "0  3000000004               3  COMPLEX DE PROTROMBINA 600 UI (F. IX) vi   \n",
       "1  3000000005               3                      OMEPRAZOL 40 mg vial   \n",
       "2  3000000021               3   HEPARINA SODICA 5.000 UI/5 ml (1%) vial   \n",
       "3  3000000025               3  FOSFAT MONOPOTASSIC 10 mmol P/10 ml (1 M   \n",
       "4  3000000049               3               FUROSEMIDA 250 mg/25 ml amp   \n",
       "\n",
       "    pharmagroupname pharmaformunit pharmadoseunit  pharmadoseformratio  \\\n",
       "0  .Antihemorràgics           vial             UI                600.0   \n",
       "1        .Antiàcids           vial             mg                 40.0   \n",
       "2    ANTITROMBOTICS             ml             UI               1000.0   \n",
       "3      .Electròlits             ml           mmol                  1.0   \n",
       "4         DIURETICS             ml             mg                 10.0   \n",
       "\n",
       "  pharmavolumeunit  pharmavolumeformratio  \n",
       "0               ml                    0.0  \n",
       "1               ml                    0.0  \n",
       "2               ml                    1.0  \n",
       "3               ml                    1.0  \n",
       "4               ml                    1.0  "
      ]
     },
     "execution_count": 81,
     "metadata": {},
     "output_type": "execute_result"
    }
   ],
   "source": [
    "caca.head()"
   ]
  },
  {
   "cell_type": "code",
   "execution_count": 65,
   "id": "2cbb2c3e-1241-4b81-8bbc-8deb23785e7e",
   "metadata": {},
   "outputs": [],
   "source": [
    "def fetch_data(db, h, t):\n",
    "    \n",
    "    df = pd.DataFrame()\n",
    "    \n",
    "    bucket = s3.Bucket(db)\n",
    "\n",
    "    for my_bucket_object in bucket.objects.all():\n",
    "    \n",
    "        if all(x in my_bucket_object.key for x in [h, t]):\n",
    "            \n",
    "            chunk = pd.read_csv(f's3://{db}/{my_bucket_object.key}')\n",
    "            df_chunk = chunk[(chunk['a_variableid']==3015002262) & (chunk['value']==12)]\n",
    "            df = pd.concat([df, df_chunk])\n",
    "            \n",
    "    return df\n",
    "\n",
    "#     tp = f's3://{db}/{h}_db/{t}'\n",
    "    \n",
    "#     folder = os.listdir(tp)\n",
    "#     files = [match for match in folder if f\"{h}_\" in match]\n",
    "\n",
    "#     vmi = pd.DataFrame()\n",
    "\n",
    "#     for file in files:\n",
    "    \n",
    "#         chunk = pd.read_csv(f'{f}/{file}/')\n",
    "#         vmi_chunck = chunk[(chunk['a_variableid']==3015002262) & (chunk['value']==12)]\n",
    "#         vmi = pd.concat([vmi, vmi_chunck])\n",
    "        \n",
    "#     return vmi"
   ]
  },
  {
   "cell_type": "code",
   "execution_count": 66,
   "id": "a86e06e8-8f10-47bd-bdc9-ef17fd93127b",
   "metadata": {},
   "outputs": [],
   "source": [
    "caca = fetch_data('icusics-db-demo', 'h3', 'v_observed')"
   ]
  },
  {
   "cell_type": "code",
   "execution_count": 69,
   "id": "f3b6743d-6e46-4ae3-add0-1c195841c9f9",
   "metadata": {},
   "outputs": [
    {
     "name": "stdout",
     "output_type": "stream",
     "text": [
      "3223\n"
     ]
    }
   ],
   "source": [
    "caca.shape\n",
    "print(caca['a_patientid'].nunique())"
   ]
  },
  {
   "cell_type": "code",
   "execution_count": 22,
   "id": "ba96bb5a-0212-48ab-a042-66a70a65fc0e",
   "metadata": {},
   "outputs": [
    {
     "ename": "FileNotFoundError",
     "evalue": "[Errno 2] No such file or directory: 's3://icusics-db-demo/h3_db/v_observed'",
     "output_type": "error",
     "traceback": [
      "\u001b[0;31m---------------------------------------------------------------------------\u001b[0m",
      "\u001b[0;31mFileNotFoundError\u001b[0m                         Traceback (most recent call last)",
      "\u001b[0;32m<ipython-input-22-51d1665794ce>\u001b[0m in \u001b[0;36m<module>\u001b[0;34m\u001b[0m\n\u001b[0;32m----> 1\u001b[0;31m \u001b[0mcaca\u001b[0m \u001b[0;34m=\u001b[0m \u001b[0mfetch_data\u001b[0m\u001b[0;34m(\u001b[0m\u001b[0;34m'icusics-db-demo'\u001b[0m\u001b[0;34m,\u001b[0m\u001b[0;34m'h3'\u001b[0m\u001b[0;34m,\u001b[0m\u001b[0;34m'v_observed'\u001b[0m\u001b[0;34m)\u001b[0m\u001b[0;34m\u001b[0m\u001b[0;34m\u001b[0m\u001b[0m\n\u001b[0m",
      "\u001b[0;32m<ipython-input-21-68905f50b45a>\u001b[0m in \u001b[0;36mfetch_data\u001b[0;34m(db, h, t)\u001b[0m\n\u001b[1;32m      3\u001b[0m     \u001b[0mtp\u001b[0m \u001b[0;34m=\u001b[0m \u001b[0;34mf's3://{db}/{h}_db/{t}'\u001b[0m\u001b[0;34m\u001b[0m\u001b[0;34m\u001b[0m\u001b[0m\n\u001b[1;32m      4\u001b[0m \u001b[0;34m\u001b[0m\u001b[0m\n\u001b[0;32m----> 5\u001b[0;31m     \u001b[0mfolder\u001b[0m \u001b[0;34m=\u001b[0m \u001b[0mos\u001b[0m\u001b[0;34m.\u001b[0m\u001b[0mlistdir\u001b[0m\u001b[0;34m(\u001b[0m\u001b[0mtp\u001b[0m\u001b[0;34m)\u001b[0m\u001b[0;34m\u001b[0m\u001b[0;34m\u001b[0m\u001b[0m\n\u001b[0m\u001b[1;32m      6\u001b[0m     \u001b[0mfiles\u001b[0m \u001b[0;34m=\u001b[0m \u001b[0;34m[\u001b[0m\u001b[0mmatch\u001b[0m \u001b[0;32mfor\u001b[0m \u001b[0mmatch\u001b[0m \u001b[0;32min\u001b[0m \u001b[0mfolder\u001b[0m \u001b[0;32mif\u001b[0m \u001b[0;34mf\"{h}_\"\u001b[0m \u001b[0;32min\u001b[0m \u001b[0mmatch\u001b[0m\u001b[0;34m]\u001b[0m\u001b[0;34m\u001b[0m\u001b[0;34m\u001b[0m\u001b[0m\n\u001b[1;32m      7\u001b[0m \u001b[0;34m\u001b[0m\u001b[0m\n",
      "\u001b[0;31mFileNotFoundError\u001b[0m: [Errno 2] No such file or directory: 's3://icusics-db-demo/h3_db/v_observed'"
     ]
    }
   ],
   "source": [
    "caca = fetch_data('icusics-db-demo','h3','v_observed')"
   ]
  },
  {
   "cell_type": "code",
   "execution_count": 44,
   "id": "35382151-c071-4d0f-b3d8-f8d58fc0c738",
   "metadata": {},
   "outputs": [],
   "source": [
    "import boto3\n",
    "import pandas as pd\n",
    "from sagemaker import get_execution_role\n",
    "role = get_execution_role()\n",
    "s3 = boto3.resource('s3')"
   ]
  },
  {
   "cell_type": "code",
   "execution_count": 3,
   "id": "486bffca-230b-4208-82d1-dc49dba0db3a",
   "metadata": {},
   "outputs": [
    {
     "data": {
      "text/html": [
       "<div>\n",
       "<style scoped>\n",
       "    .dataframe tbody tr th:only-of-type {\n",
       "        vertical-align: middle;\n",
       "    }\n",
       "\n",
       "    .dataframe tbody tr th {\n",
       "        vertical-align: top;\n",
       "    }\n",
       "\n",
       "    .dataframe thead th {\n",
       "        text-align: right;\n",
       "    }\n",
       "</style>\n",
       "<table border=\"1\" class=\"dataframe\">\n",
       "  <thead>\n",
       "    <tr style=\"text-align: right;\">\n",
       "      <th></th>\n",
       "      <th>a_pharmaid</th>\n",
       "      <th>hospital_coded</th>\n",
       "      <th>pharmaname</th>\n",
       "      <th>pharmagroupname</th>\n",
       "      <th>pharmaformunit</th>\n",
       "      <th>pharmadoseunit</th>\n",
       "      <th>pharmadoseformratio</th>\n",
       "      <th>pharmavolumeunit</th>\n",
       "      <th>pharmavolumeformratio</th>\n",
       "    </tr>\n",
       "  </thead>\n",
       "  <tbody>\n",
       "    <tr>\n",
       "      <th>0</th>\n",
       "      <td>3000000004</td>\n",
       "      <td>3</td>\n",
       "      <td>COMPLEX DE PROTROMBINA 600 UI (F. IX) vi</td>\n",
       "      <td>.Antihemorràgics</td>\n",
       "      <td>vial</td>\n",
       "      <td>UI</td>\n",
       "      <td>600.0</td>\n",
       "      <td>ml</td>\n",
       "      <td>0.0</td>\n",
       "    </tr>\n",
       "    <tr>\n",
       "      <th>1</th>\n",
       "      <td>3000000005</td>\n",
       "      <td>3</td>\n",
       "      <td>OMEPRAZOL 40 mg vial</td>\n",
       "      <td>.Antiàcids</td>\n",
       "      <td>vial</td>\n",
       "      <td>mg</td>\n",
       "      <td>40.0</td>\n",
       "      <td>ml</td>\n",
       "      <td>0.0</td>\n",
       "    </tr>\n",
       "    <tr>\n",
       "      <th>2</th>\n",
       "      <td>3000000021</td>\n",
       "      <td>3</td>\n",
       "      <td>HEPARINA SODICA 5.000 UI/5 ml (1%) vial</td>\n",
       "      <td>ANTITROMBOTICS</td>\n",
       "      <td>ml</td>\n",
       "      <td>UI</td>\n",
       "      <td>1000.0</td>\n",
       "      <td>ml</td>\n",
       "      <td>1.0</td>\n",
       "    </tr>\n",
       "    <tr>\n",
       "      <th>3</th>\n",
       "      <td>3000000025</td>\n",
       "      <td>3</td>\n",
       "      <td>FOSFAT MONOPOTASSIC 10 mmol P/10 ml (1 M</td>\n",
       "      <td>.Electròlits</td>\n",
       "      <td>ml</td>\n",
       "      <td>mmol</td>\n",
       "      <td>1.0</td>\n",
       "      <td>ml</td>\n",
       "      <td>1.0</td>\n",
       "    </tr>\n",
       "    <tr>\n",
       "      <th>4</th>\n",
       "      <td>3000000049</td>\n",
       "      <td>3</td>\n",
       "      <td>FUROSEMIDA 250 mg/25 ml amp</td>\n",
       "      <td>DIURETICS</td>\n",
       "      <td>ml</td>\n",
       "      <td>mg</td>\n",
       "      <td>10.0</td>\n",
       "      <td>ml</td>\n",
       "      <td>1.0</td>\n",
       "    </tr>\n",
       "  </tbody>\n",
       "</table>\n",
       "</div>"
      ],
      "text/plain": [
       "   a_pharmaid  hospital_coded                                pharmaname  \\\n",
       "0  3000000004               3  COMPLEX DE PROTROMBINA 600 UI (F. IX) vi   \n",
       "1  3000000005               3                      OMEPRAZOL 40 mg vial   \n",
       "2  3000000021               3   HEPARINA SODICA 5.000 UI/5 ml (1%) vial   \n",
       "3  3000000025               3  FOSFAT MONOPOTASSIC 10 mmol P/10 ml (1 M   \n",
       "4  3000000049               3               FUROSEMIDA 250 mg/25 ml amp   \n",
       "\n",
       "    pharmagroupname pharmaformunit pharmadoseunit  pharmadoseformratio  \\\n",
       "0  .Antihemorràgics           vial             UI                600.0   \n",
       "1        .Antiàcids           vial             mg                 40.0   \n",
       "2    ANTITROMBOTICS             ml             UI               1000.0   \n",
       "3      .Electròlits             ml           mmol                  1.0   \n",
       "4         DIURETICS             ml             mg                 10.0   \n",
       "\n",
       "  pharmavolumeunit  pharmavolumeformratio  \n",
       "0               ml                    0.0  \n",
       "1               ml                    0.0  \n",
       "2               ml                    1.0  \n",
       "3               ml                    1.0  \n",
       "4               ml                    1.0  "
      ]
     },
     "execution_count": 3,
     "metadata": {},
     "output_type": "execute_result"
    }
   ],
   "source": [
    "bucket='icusics-db-demo'\n",
    "file_key = 'h3_db/drugs_ref/h3_drugs_ref.csv'\n",
    "s3uri = 's3://{}/{}'.format(bucket, file_key)\n",
    "df = pd.read_csv(s3uri)\n",
    "df.head()"
   ]
  },
  {
   "cell_type": "code",
   "execution_count": 6,
   "id": "6e2fef5a-de48-439d-93d9-43f71ea54fd3",
   "metadata": {},
   "outputs": [
    {
     "data": {
      "text/plain": [
       "4    5023\n",
       "2     424\n",
       "1     328\n",
       "8     218\n",
       "Name: vartype, dtype: int64"
      ]
     },
     "execution_count": 6,
     "metadata": {},
     "output_type": "execute_result"
    }
   ],
   "source": [
    "df['vartype'].value_counts()"
   ]
  },
  {
   "cell_type": "code",
   "execution_count": 7,
   "id": "dbbe1ce1-c4fb-49b2-8f2f-e5adb11c82d7",
   "metadata": {},
   "outputs": [
    {
     "data": {
      "text/plain": [
       "1    4597\n",
       "0     974\n",
       "2     422\n",
       "Name: datatype, dtype: int64"
      ]
     },
     "execution_count": 7,
     "metadata": {},
     "output_type": "execute_result"
    }
   ],
   "source": [
    "df['datatype'].value_counts()"
   ]
  },
  {
   "cell_type": "code",
   "execution_count": null,
   "id": "72f12d89-d458-44a8-b929-1f853c5e5365",
   "metadata": {},
   "outputs": [],
   "source": [
    "%%time\n",
    "\n",
    "h = '3'\n",
    "f = f'h{h}_db/v_derived'\n",
    "\n",
    "folder = os.listdir(f)\n",
    "files = [match for match in folder if f\"h{h}_\" in match]\n",
    "\n",
    "vmi = pd.DataFrame()\n",
    "chunk_index=1\n",
    "\n",
    "for file in files:\n",
    "    \n",
    "    chunk = pd.read_csv(f'{f}/{file}')\n",
    "    vmi_chunck = chunk[(chunk['a_variableid']==3015002262) & (chunk['value']==12)]\n",
    "    vmi = pd.concat([vmi, vmi_chunck])"
   ]
  }
 ],
 "metadata": {
  "instance_type": "ml.t3.medium",
  "kernelspec": {
   "display_name": "Python 3 (Data Science)",
   "language": "python",
   "name": "python3__SAGEMAKER_INTERNAL__arn:aws:sagemaker:eu-west-1:470317259841:image/datascience-1.0"
  },
  "language_info": {
   "codemirror_mode": {
    "name": "ipython",
    "version": 3
   },
   "file_extension": ".py",
   "mimetype": "text/x-python",
   "name": "python",
   "nbconvert_exporter": "python",
   "pygments_lexer": "ipython3",
   "version": "3.7.10"
  }
 },
 "nbformat": 4,
 "nbformat_minor": 5
}
